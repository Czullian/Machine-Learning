{
 "cells": [
  {
   "cell_type": "code",
   "execution_count": 192,
   "id": "7ae38779",
   "metadata": {},
   "outputs": [],
   "source": [
    "import pandas as pd\n",
    "import os\n",
    "import seaborn as sns\n",
    "from datetime import datetime\n",
    "from bs4 import BeautifulSoup\n",
    "import requests\n",
    "import matplotlib.pyplot as plt\n",
    "from sklearn.model_selection import train_test_split\n",
    "from pandas_profiling import ProfileReport\n",
    "from sklearn.linear_model import LinearRegression\n",
    "from pandas.plotting import scatter_matrix\n",
    "from sklearn.preprocessing import OrdinalEncoder\n",
    "import numpy as np\n",
    "from sklearn.preprocessing import OneHotEncoder\n",
    "from sklearn.pipeline import make_pipeline\n",
    "from sklearn.preprocessing import StandardScaler\n",
    "from sklearn.model_selection import RandomizedSearchCV, RepeatedKFold\n",
    "from sklearn.ensemble import RandomForestRegressor\n",
    "from sklearn.linear_model import LogisticRegression\n",
    "from sklearn.tree import DecisionTreeClassifier\n",
    "from sklearn.metrics import classification_report, f1_score, confusion_matrix, accuracy_score, precision_score, recall_score, roc_curve, auc\n",
    "from sklearn.metrics import (accuracy_score, f1_score, confusion_matrix, make_scorer, roc_curve, \n",
    "                             auc, average_precision_score, roc_auc_score)\n",
    "from sklearn.ensemble import RandomForestClassifier\n",
    "from sklearn.model_selection import cross_val_score"
   ]
  },
  {
   "cell_type": "code",
   "execution_count": 2,
   "id": "26cdb737",
   "metadata": {},
   "outputs": [],
   "source": [
    "os.chdir('C:\\\\Users\\\\cinzi\\\\OneDrive\\\\Escritorio\\\\Big_Data_Complutense\\\\Machine Learning\\\\python')"
   ]
  },
  {
   "cell_type": "code",
   "execution_count": 3,
   "id": "db726099",
   "metadata": {},
   "outputs": [],
   "source": [
    "#Todo Diciembre\n",
    "df_dic_clientes= pd.read_csv('diciembre/clientes_diciembre.csv', sep='|')\n",
    "df_dic_consumos= pd.read_csv('diciembre/consumos_diciembre.csv', sep='|')\n",
    "df_dic_financiacion= pd.read_csv('diciembre/financiacion_diciembre.csv', sep='|')\n",
    "df_dic_productos= pd.read_csv('diciembre/productos_diciembre.csv', sep='|')"
   ]
  },
  {
   "cell_type": "code",
   "execution_count": 4,
   "id": "31e3492d",
   "metadata": {},
   "outputs": [],
   "source": [
    "#Todo Enero\n",
    "df_ene_clientes = pd.read_csv('enero/clientes_enero.csv', sep='|')\n",
    "df_ene_consumos = pd.read_csv('enero/consumos_enero.csv', sep='|')\n",
    "df_ene_financiacion = pd.read_csv('enero/financiacion_enero.csv', sep='|')\n",
    "df_ene_productos = pd.read_csv('enero/productos_enero.csv', sep='|')"
   ]
  },
  {
   "cell_type": "code",
   "execution_count": 5,
   "id": "6d5bd37c",
   "metadata": {},
   "outputs": [
    {
     "data": {
      "text/plain": [
       "False    95467\n",
       "Name: id, dtype: int64"
      ]
     },
     "execution_count": 5,
     "metadata": {},
     "output_type": "execute_result"
    }
   ],
   "source": [
    "df_dic_productos.id.duplicated().value_counts()"
   ]
  },
  {
   "cell_type": "code",
   "execution_count": 6,
   "id": "f4b1e6ad",
   "metadata": {},
   "outputs": [
    {
     "data": {
      "text/plain": [
       "True    95467\n",
       "Name: id, dtype: int64"
      ]
     },
     "execution_count": 6,
     "metadata": {},
     "output_type": "execute_result"
    }
   ],
   "source": [
    "(df_dic_productos.id==df_dic_clientes.id).value_counts()"
   ]
  },
  {
   "cell_type": "code",
   "execution_count": 7,
   "id": "fc59522a",
   "metadata": {},
   "outputs": [
    {
     "data": {
      "text/plain": [
       "False    95467\n",
       "Name: id, dtype: int64"
      ]
     },
     "execution_count": 7,
     "metadata": {},
     "output_type": "execute_result"
    }
   ],
   "source": [
    "df_dic_clientes.id.duplicated().value_counts()"
   ]
  },
  {
   "cell_type": "code",
   "execution_count": 8,
   "id": "b760e114",
   "metadata": {},
   "outputs": [
    {
     "data": {
      "text/plain": [
       "False    95467\n",
       "Name: id, dtype: int64"
      ]
     },
     "execution_count": 8,
     "metadata": {},
     "output_type": "execute_result"
    }
   ],
   "source": [
    "df_dic_consumos.id.duplicated().value_counts()"
   ]
  },
  {
   "cell_type": "code",
   "execution_count": 9,
   "id": "b050f135",
   "metadata": {},
   "outputs": [
    {
     "data": {
      "text/plain": [
       "True    95467\n",
       "Name: id, dtype: int64"
      ]
     },
     "execution_count": 9,
     "metadata": {},
     "output_type": "execute_result"
    }
   ],
   "source": [
    "(df_dic_consumos.id==df_dic_clientes.id).value_counts()"
   ]
  },
  {
   "cell_type": "code",
   "execution_count": 10,
   "id": "36d6e3d7",
   "metadata": {},
   "outputs": [
    {
     "data": {
      "text/plain": [
       "False    24198\n",
       "Name: id, dtype: int64"
      ]
     },
     "execution_count": 10,
     "metadata": {},
     "output_type": "execute_result"
    }
   ],
   "source": [
    "df_dic_financiacion.id.duplicated().value_counts()"
   ]
  },
  {
   "cell_type": "code",
   "execution_count": 11,
   "id": "a1548847",
   "metadata": {},
   "outputs": [
    {
     "data": {
      "text/plain": [
       "True    92711\n",
       "Name: id, dtype: int64"
      ]
     },
     "execution_count": 11,
     "metadata": {},
     "output_type": "execute_result"
    }
   ],
   "source": [
    "(df_ene_productos.id==df_ene_clientes.id).value_counts()"
   ]
  },
  {
   "cell_type": "code",
   "execution_count": 12,
   "id": "0666b8da",
   "metadata": {},
   "outputs": [
    {
     "data": {
      "text/plain": [
       "True    92711\n",
       "Name: id, dtype: int64"
      ]
     },
     "execution_count": 12,
     "metadata": {},
     "output_type": "execute_result"
    }
   ],
   "source": [
    "(df_ene_consumos.id==df_ene_clientes.id).value_counts()"
   ]
  },
  {
   "cell_type": "markdown",
   "id": "81165a1e",
   "metadata": {},
   "source": [
    "Habiendo comprodado que no hay duplicados, se procede a unir las tablas. \n"
   ]
  },
  {
   "cell_type": "code",
   "execution_count": 13,
   "id": "45268445",
   "metadata": {},
   "outputs": [],
   "source": [
    "#Unión de dataset (diciembre)\n",
    "df_dic_parcial=pd.merge(df_dic_clientes,df_dic_consumos, on='id', how='left')\n",
    "df_dic_parcial= pd.merge(df_dic_parcial, df_dic_financiacion,on='id', how='left')\n",
    "df_dic_total=pd.merge(df_dic_parcial, df_dic_productos,on='id', how='left')"
   ]
  },
  {
   "cell_type": "code",
   "execution_count": 14,
   "id": "055525a8",
   "metadata": {},
   "outputs": [],
   "source": [
    "#Unión de dataset (enero)"
   ]
  },
  {
   "cell_type": "code",
   "execution_count": 15,
   "id": "ace2a9c3",
   "metadata": {},
   "outputs": [],
   "source": [
    "df_ene_parcial=pd.merge(df_ene_clientes,df_ene_consumos, on='id', how='left')\n",
    "df_ene_parcial= pd.merge(df_ene_parcial, df_ene_financiacion,on='id', how='left')\n",
    "df_ene_total=pd.merge(df_ene_parcial, df_ene_productos,on='id', how='left')"
   ]
  },
  {
   "cell_type": "markdown",
   "id": "137810ae",
   "metadata": {},
   "source": [
    "## Creación de la Target\n"
   ]
  },
  {
   "cell_type": "code",
   "execution_count": 16,
   "id": "419427ad",
   "metadata": {},
   "outputs": [
    {
     "data": {
      "text/plain": [
       "True     88382\n",
       "False     7085\n",
       "Name: id, dtype: int64"
      ]
     },
     "execution_count": 16,
     "metadata": {},
     "output_type": "execute_result"
    }
   ],
   "source": [
    "df_dic_total['id'].isin(df_ene_total['id']).value_counts()"
   ]
  },
  {
   "cell_type": "markdown",
   "id": "a78a8e3d",
   "metadata": {},
   "source": [
    "Para la creación de la variable objetivo se hace la comparación de los ids de ambos sets de datos,  los que coinciden se les asigna el 0 (que significa que el cliente ha permanecido), mientras que el 1 significa que el cliente ha abandonado y por consiguiente, será el objetivo a predecir.\n",
    "\n",
    "*Lo que nos indica que 7085 clientes han abandonado la empresa*\n"
   ]
  },
  {
   "cell_type": "code",
   "execution_count": 17,
   "id": "08782144",
   "metadata": {},
   "outputs": [
    {
     "data": {
      "text/plain": [
       "0        0\n",
       "1        0\n",
       "2        0\n",
       "3        0\n",
       "4        1\n",
       "        ..\n",
       "95462    0\n",
       "95463    0\n",
       "95464    0\n",
       "95465    0\n",
       "95466    0\n",
       "Name: id, Length: 95467, dtype: int64"
      ]
     },
     "execution_count": 17,
     "metadata": {},
     "output_type": "execute_result"
    }
   ],
   "source": [
    "target=df_dic_total['id'].isin(df_ene_total['id']).replace({True:0, False:1})\n",
    "target"
   ]
  },
  {
   "cell_type": "code",
   "execution_count": 18,
   "id": "ab22beb8",
   "metadata": {},
   "outputs": [],
   "source": [
    "target=pd.DataFrame(target)"
   ]
  },
  {
   "cell_type": "code",
   "execution_count": 19,
   "id": "bfd82feb",
   "metadata": {},
   "outputs": [],
   "source": [
    "target=target.rename(columns={'id':'target'})"
   ]
  },
  {
   "cell_type": "code",
   "execution_count": 20,
   "id": "e7c5ed9c",
   "metadata": {},
   "outputs": [],
   "source": [
    "#Identificación de los datasets\n",
    "\n",
    "df_dic_total['mes']='diciembre'\n",
    "df_ene_total['mes']='enero'"
   ]
  },
  {
   "cell_type": "code",
   "execution_count": 21,
   "id": "d8662b42",
   "metadata": {},
   "outputs": [],
   "source": [
    "df_dic_total['cant_dias'] = (datetime(2019,12,31) - pd.to_datetime(df_dic_total['antiguedad'])).dt.days\n",
    "df_ene_total['cant_dias']=(datetime(2020,1,31)-pd.to_datetime(df_ene_total['antiguedad'])).dt.days"
   ]
  },
  {
   "cell_type": "code",
   "execution_count": 22,
   "id": "083fa795",
   "metadata": {},
   "outputs": [],
   "source": [
    "#Comunidades Autónomas con webscrapping de esta forma añadimos valor por agrupación de localidad\n",
    "\n",
    "url='https://es.wikipedia.org/wiki/Provincia_(Espa%C3%B1a)'\n",
    "r = requests.get(url).content\n",
    "    "
   ]
  },
  {
   "cell_type": "code",
   "execution_count": 23,
   "id": "c8274644",
   "metadata": {},
   "outputs": [],
   "source": [
    "soup= BeautifulSoup(r, \"html.parser\" )\n",
    "busqueda = soup.find('table', {'class':\"wikitable sortable\"})\n",
    "table= pd.read_html(str(busqueda))\n",
    "comunidad=table[0]\n",
    "subcom=comunidad.loc[:, ['Provincia', 'Comunidad autónoma']]\n"
   ]
  },
  {
   "cell_type": "code",
   "execution_count": 24,
   "id": "fdb7446c",
   "metadata": {},
   "outputs": [],
   "source": [
    "subcom.columns= subcom.columns.str.lower()\n",
    "subcom.provincia.replace(('Baleares'), ('Islas Baleares'), inplace= True)"
   ]
  },
  {
   "cell_type": "code",
   "execution_count": 25,
   "id": "cffc2476",
   "metadata": {},
   "outputs": [],
   "source": [
    "FullData= pd.concat([df_dic_total, df_ene_total])"
   ]
  },
  {
   "cell_type": "code",
   "execution_count": 26,
   "id": "1d584b3a",
   "metadata": {},
   "outputs": [],
   "source": [
    "FullData.reset_index(inplace = True, drop = True)"
   ]
  },
  {
   "cell_type": "code",
   "execution_count": 27,
   "id": "b799632e",
   "metadata": {},
   "outputs": [],
   "source": [
    "FullData = pd.merge(FullData,subcom, how='left', on='provincia' )"
   ]
  },
  {
   "cell_type": "code",
   "execution_count": 28,
   "id": "a585d880",
   "metadata": {},
   "outputs": [],
   "source": [
    " Tiempo= df_dic_total"
   ]
  },
  {
   "cell_type": "markdown",
   "id": "8231a644",
   "metadata": {},
   "source": [
    "## Análisis descriptivo de las variables "
   ]
  },
  {
   "cell_type": "code",
   "execution_count": 29,
   "id": "f5aad8e6",
   "metadata": {},
   "outputs": [
    {
     "name": "stdout",
     "output_type": "stream",
     "text": [
      "<class 'pandas.core.frame.DataFrame'>\n",
      "Int64Index: 188178 entries, 0 to 188177\n",
      "Data columns (total 22 columns):\n",
      " #   Column              Non-Null Count   Dtype  \n",
      "---  ------              --------------   -----  \n",
      " 0   id                  188178 non-null  int64  \n",
      " 1   edad                188178 non-null  int64  \n",
      " 2   facturacion         188178 non-null  float64\n",
      " 3   antiguedad          188178 non-null  object \n",
      " 4   provincia           188178 non-null  object \n",
      " 5   num_lineas          188178 non-null  int64  \n",
      " 6   num_dt              7343 non-null    float64\n",
      " 7   incidencia          5565 non-null    object \n",
      " 8   num_llamad_ent      188178 non-null  int64  \n",
      " 9   num_llamad_sal      188178 non-null  int64  \n",
      " 10  mb_datos            188178 non-null  int64  \n",
      " 11  seg_llamad_ent      188178 non-null  int64  \n",
      " 12  seg_llamad_sal      188178 non-null  int64  \n",
      " 13  financiacion        13038 non-null   object \n",
      " 14  imp_financ          13038 non-null   float64\n",
      " 15  descuentos          39192 non-null   object \n",
      " 16  conexion            188176 non-null  object \n",
      " 17  vel_conexion        188172 non-null  object \n",
      " 18  TV                  188178 non-null  object \n",
      " 19  mes                 188178 non-null  object \n",
      " 20  cant_dias           188178 non-null  int64  \n",
      " 21  comunidad autónoma  188178 non-null  object \n",
      "dtypes: float64(3), int64(9), object(10)\n",
      "memory usage: 33.0+ MB\n"
     ]
    }
   ],
   "source": [
    "FullData.info()"
   ]
  },
  {
   "cell_type": "markdown",
   "id": "b04f923d",
   "metadata": {},
   "source": [
    "Las variables: id, edad, facturación, antiguedad, provincia, num lineas, num llamadas ent, num llamadas sal, conexion, vel conexion y tv \n",
    "Aparentemente estas 14 variables no tienen datos faltantes. Sin embargo, se debe verificar las que poseen el tipo de variable objeto.\n",
    "Las variables numero de lineas en impago, incidencia, descuentos,financiacion e\timp_financ, presentan datos faltantes. Sin embargo, esto era de esperarse,ya que estas  variables son instrumentos financieros que no todos los clientes pueden o quieren utilizar."
   ]
  },
  {
   "cell_type": "code",
   "execution_count": 30,
   "id": "91f9dd67",
   "metadata": {},
   "outputs": [
    {
     "data": {
      "text/plain": [
       "id                     99796\n",
       "edad                      68\n",
       "facturacion            99799\n",
       "antiguedad            187408\n",
       "provincia                 50\n",
       "num_lineas                 8\n",
       "num_dt                     4\n",
       "incidencia                 1\n",
       "num_llamad_ent           251\n",
       "num_llamad_sal           101\n",
       "mb_datos               24985\n",
       "seg_llamad_ent         19998\n",
       "seg_llamad_sal         20001\n",
       "financiacion               1\n",
       "imp_financ              6696\n",
       "descuentos                 1\n",
       "conexion                   2\n",
       "vel_conexion              14\n",
       "TV                         3\n",
       "mes                        2\n",
       "cant_dias               9162\n",
       "comunidad autónoma        17\n",
       "dtype: int64"
      ]
     },
     "execution_count": 30,
     "metadata": {},
     "output_type": "execute_result"
    }
   ],
   "source": [
    "FullData.nunique()"
   ]
  },
  {
   "cell_type": "markdown",
   "id": "a1e8c45b",
   "metadata": {},
   "source": [
    "llama la atención las variables con solamente una categoría. Esto nos indica que probablemente estemos ante datos boleanos."
   ]
  },
  {
   "cell_type": "code",
   "execution_count": 31,
   "id": "37b04806",
   "metadata": {},
   "outputs": [
    {
     "data": {
      "text/plain": [
       "<AxesSubplot:>"
      ]
     },
     "execution_count": 31,
     "metadata": {},
     "output_type": "execute_result"
    },
    {
     "data": {
      "image/png": "[encoded data removed]",
      "text/plain": [
       "<Figure size 432x288 with 1 Axes>"
      ]
     },
     "metadata": {
      "needs_background": "light"
     },
     "output_type": "display_data"
    }
   ],
   "source": [
    "sns.heatmap(FullData.isnull(), cbar=False)"
   ]
  },
  {
   "cell_type": "markdown",
   "id": "40ab0279",
   "metadata": {},
   "source": [
    "Como se había visto antes, era de esperarse que las variables numero de lineas en impago, incidencia, descuentos,financiacion e imp_financ tuviesen gran número de faltantes.Sin embargo, con el presente gráfico se puede descartar a priori algún tipo de correlación entre los datos nulos.\n"
   ]
  },
  {
   "cell_type": "code",
   "execution_count": 32,
   "id": "9d352d14",
   "metadata": {},
   "outputs": [],
   "source": [
    "pd.set_option('display.max_rows', 1000)"
   ]
  },
  {
   "cell_type": "code",
   "execution_count": 33,
   "id": "1eabf1d1",
   "metadata": {},
   "outputs": [],
   "source": [
    "df=FullData"
   ]
  },
  {
   "cell_type": "code",
   "execution_count": 34,
   "id": "e018dd9c",
   "metadata": {},
   "outputs": [
    {
     "data": {
      "application/vnd.jupyter.widget-view+json": {
       "model_id": "3a705750bab74b5fb49dce697c7f0026",
       "version_major": 2,
       "version_minor": 0
      },
      "text/plain": [
       "Summarize dataset:   0%|          | 0/5 [00:00<?, ?it/s]"
      ]
     },
     "metadata": {},
     "output_type": "display_data"
    },
    {
     "data": {
      "application/vnd.jupyter.widget-view+json": {
       "model_id": "07d56d20660948c39577a23d4e9288ff",
       "version_major": 2,
       "version_minor": 0
      },
      "text/plain": [
       "Generate report structure:   0%|          | 0/1 [00:00<?, ?it/s]"
      ]
     },
     "metadata": {},
     "output_type": "display_data"
    },
    {
     "name": "stderr",
     "output_type": "stream",
     "text": [
      "\n",
      "KeyboardInterrupt\n",
      "\n"
     ]
    },
    {
     "data": {
      "image/png": "[encoded data removed]",
      "text/plain": [
       "<Figure size 216x162 with 1 Axes>"
      ]
     },
     "metadata": {},
     "output_type": "display_data"
    }
   ],
   "source": [
    "prof = ProfileReport(df)\n",
    "prof.to_file(output_file='output.html')"
   ]
  },
  {
   "cell_type": "markdown",
   "id": "d5a795b5",
   "metadata": {},
   "source": [
    "Luego de realizar el informe, para revisar un poco más a profundidad las variables que son categóricas, se procede a realizar los siguientes gráficos"
   ]
  },
  {
   "cell_type": "code",
   "execution_count": 35,
   "id": "01304d18",
   "metadata": {
    "scrolled": true
   },
   "outputs": [
    {
     "data": {
      "text/plain": [
       "<seaborn.axisgrid.FacetGrid at 0x1ab4fcf3ca0>"
      ]
     },
     "execution_count": 35,
     "metadata": {},
     "output_type": "execute_result"
    },
    {
     "data": {
      "image/png": "[encoded data removed]",
      "text/plain": [
       "<Figure size 360x360 with 1 Axes>"
      ]
     },
     "metadata": {
      "needs_background": "light"
     },
     "output_type": "display_data"
    }
   ],
   "source": [
    "sns.displot(df['edad'],kind=(\"hist\"), kde=True)\n",
    "\n"
   ]
  },
  {
   "cell_type": "markdown",
   "id": "2dd4f1ad",
   "metadata": {},
   "source": [
    "En el gráfico de frecuencias, se observan frecuencias elevadas en algunas edades. Sin embargo la línea del histograma refleja un comportamiendo mucho más constante, aunque se pueden diferenciar dos grupos: los menores de 40 años tienen una frecuencia más elevada que los mayores.\n",
    "Para observar mejor este caso de las frecuencias elevadas, se procede a realizar una tabla de frecuencias y comprobar si hay datos con una frecuencia mucho más elevada que otros.\n"
   ]
  },
  {
   "cell_type": "code",
   "execution_count": 36,
   "id": "84d14129",
   "metadata": {
    "scrolled": true
   },
   "outputs": [
    {
     "data": {
      "text/html": [
       "<div>\n",
       "<style scoped>\n",
       "    .dataframe tbody tr th:only-of-type {\n",
       "        vertical-align: middle;\n",
       "    }\n",
       "\n",
       "    .dataframe tbody tr th {\n",
       "        vertical-align: top;\n",
       "    }\n",
       "\n",
       "    .dataframe thead th {\n",
       "        text-align: right;\n",
       "    }\n",
       "</style>\n",
       "<table border=\"1\" class=\"dataframe\">\n",
       "  <thead>\n",
       "    <tr style=\"text-align: right;\">\n",
       "      <th></th>\n",
       "      <th>Frec_abs</th>\n",
       "      <th>Frec_rel_%</th>\n",
       "      <th>Frec_rel_%_acum</th>\n",
       "    </tr>\n",
       "  </thead>\n",
       "  <tbody>\n",
       "    <tr>\n",
       "      <th>84</th>\n",
       "      <td>2524</td>\n",
       "      <td>1.341283</td>\n",
       "      <td>1.341283</td>\n",
       "    </tr>\n",
       "    <tr>\n",
       "      <th>48</th>\n",
       "      <td>2556</td>\n",
       "      <td>1.358288</td>\n",
       "      <td>2.699572</td>\n",
       "    </tr>\n",
       "    <tr>\n",
       "      <th>59</th>\n",
       "      <td>2570</td>\n",
       "      <td>1.365728</td>\n",
       "      <td>4.065300</td>\n",
       "    </tr>\n",
       "    <tr>\n",
       "      <th>63</th>\n",
       "      <td>2577</td>\n",
       "      <td>1.369448</td>\n",
       "      <td>5.434748</td>\n",
       "    </tr>\n",
       "    <tr>\n",
       "      <th>85</th>\n",
       "      <td>2579</td>\n",
       "      <td>1.370511</td>\n",
       "      <td>6.805259</td>\n",
       "    </tr>\n",
       "    <tr>\n",
       "      <th>44</th>\n",
       "      <td>2589</td>\n",
       "      <td>1.375825</td>\n",
       "      <td>8.181084</td>\n",
       "    </tr>\n",
       "    <tr>\n",
       "      <th>80</th>\n",
       "      <td>2590</td>\n",
       "      <td>1.376356</td>\n",
       "      <td>9.557440</td>\n",
       "    </tr>\n",
       "    <tr>\n",
       "      <th>83</th>\n",
       "      <td>2597</td>\n",
       "      <td>1.380076</td>\n",
       "      <td>10.937517</td>\n",
       "    </tr>\n",
       "    <tr>\n",
       "      <th>45</th>\n",
       "      <td>2600</td>\n",
       "      <td>1.381671</td>\n",
       "      <td>12.319187</td>\n",
       "    </tr>\n",
       "    <tr>\n",
       "      <th>43</th>\n",
       "      <td>2602</td>\n",
       "      <td>1.382733</td>\n",
       "      <td>13.701921</td>\n",
       "    </tr>\n",
       "    <tr>\n",
       "      <th>79</th>\n",
       "      <td>2604</td>\n",
       "      <td>1.383796</td>\n",
       "      <td>15.085717</td>\n",
       "    </tr>\n",
       "    <tr>\n",
       "      <th>67</th>\n",
       "      <td>2614</td>\n",
       "      <td>1.389110</td>\n",
       "      <td>16.474827</td>\n",
       "    </tr>\n",
       "    <tr>\n",
       "      <th>55</th>\n",
       "      <td>2615</td>\n",
       "      <td>1.389642</td>\n",
       "      <td>17.864469</td>\n",
       "    </tr>\n",
       "    <tr>\n",
       "      <th>61</th>\n",
       "      <td>2616</td>\n",
       "      <td>1.390173</td>\n",
       "      <td>19.254642</td>\n",
       "    </tr>\n",
       "    <tr>\n",
       "      <th>57</th>\n",
       "      <td>2621</td>\n",
       "      <td>1.392830</td>\n",
       "      <td>20.647472</td>\n",
       "    </tr>\n",
       "    <tr>\n",
       "      <th>56</th>\n",
       "      <td>2629</td>\n",
       "      <td>1.397081</td>\n",
       "      <td>22.044554</td>\n",
       "    </tr>\n",
       "    <tr>\n",
       "      <th>70</th>\n",
       "      <td>2631</td>\n",
       "      <td>1.398144</td>\n",
       "      <td>23.442698</td>\n",
       "    </tr>\n",
       "    <tr>\n",
       "      <th>82</th>\n",
       "      <td>2632</td>\n",
       "      <td>1.398676</td>\n",
       "      <td>24.841374</td>\n",
       "    </tr>\n",
       "    <tr>\n",
       "      <th>78</th>\n",
       "      <td>2640</td>\n",
       "      <td>1.402927</td>\n",
       "      <td>26.244301</td>\n",
       "    </tr>\n",
       "    <tr>\n",
       "      <th>77</th>\n",
       "      <td>2642</td>\n",
       "      <td>1.403990</td>\n",
       "      <td>27.648290</td>\n",
       "    </tr>\n",
       "    <tr>\n",
       "      <th>52</th>\n",
       "      <td>2653</td>\n",
       "      <td>1.409835</td>\n",
       "      <td>29.058126</td>\n",
       "    </tr>\n",
       "    <tr>\n",
       "      <th>74</th>\n",
       "      <td>2655</td>\n",
       "      <td>1.410898</td>\n",
       "      <td>30.469024</td>\n",
       "    </tr>\n",
       "    <tr>\n",
       "      <th>73</th>\n",
       "      <td>2659</td>\n",
       "      <td>1.413024</td>\n",
       "      <td>31.882048</td>\n",
       "    </tr>\n",
       "    <tr>\n",
       "      <th>62</th>\n",
       "      <td>2662</td>\n",
       "      <td>1.414618</td>\n",
       "      <td>33.296666</td>\n",
       "    </tr>\n",
       "    <tr>\n",
       "      <th>68</th>\n",
       "      <td>2669</td>\n",
       "      <td>1.418338</td>\n",
       "      <td>34.715004</td>\n",
       "    </tr>\n",
       "    <tr>\n",
       "      <th>64</th>\n",
       "      <td>2670</td>\n",
       "      <td>1.418869</td>\n",
       "      <td>36.133873</td>\n",
       "    </tr>\n",
       "    <tr>\n",
       "      <th>42</th>\n",
       "      <td>2676</td>\n",
       "      <td>1.422058</td>\n",
       "      <td>37.555931</td>\n",
       "    </tr>\n",
       "    <tr>\n",
       "      <th>69</th>\n",
       "      <td>2681</td>\n",
       "      <td>1.424715</td>\n",
       "      <td>38.980646</td>\n",
       "    </tr>\n",
       "    <tr>\n",
       "      <th>46</th>\n",
       "      <td>2685</td>\n",
       "      <td>1.426841</td>\n",
       "      <td>40.407487</td>\n",
       "    </tr>\n",
       "    <tr>\n",
       "      <th>49</th>\n",
       "      <td>2698</td>\n",
       "      <td>1.433749</td>\n",
       "      <td>41.841235</td>\n",
       "    </tr>\n",
       "    <tr>\n",
       "      <th>75</th>\n",
       "      <td>2698</td>\n",
       "      <td>1.433749</td>\n",
       "      <td>43.274984</td>\n",
       "    </tr>\n",
       "    <tr>\n",
       "      <th>58</th>\n",
       "      <td>2700</td>\n",
       "      <td>1.434812</td>\n",
       "      <td>44.709796</td>\n",
       "    </tr>\n",
       "    <tr>\n",
       "      <th>41</th>\n",
       "      <td>2701</td>\n",
       "      <td>1.435343</td>\n",
       "      <td>46.145139</td>\n",
       "    </tr>\n",
       "    <tr>\n",
       "      <th>71</th>\n",
       "      <td>2705</td>\n",
       "      <td>1.437469</td>\n",
       "      <td>47.582608</td>\n",
       "    </tr>\n",
       "    <tr>\n",
       "      <th>81</th>\n",
       "      <td>2705</td>\n",
       "      <td>1.437469</td>\n",
       "      <td>49.020077</td>\n",
       "    </tr>\n",
       "    <tr>\n",
       "      <th>51</th>\n",
       "      <td>2707</td>\n",
       "      <td>1.438532</td>\n",
       "      <td>50.458608</td>\n",
       "    </tr>\n",
       "    <tr>\n",
       "      <th>76</th>\n",
       "      <td>2711</td>\n",
       "      <td>1.440657</td>\n",
       "      <td>51.899266</td>\n",
       "    </tr>\n",
       "    <tr>\n",
       "      <th>54</th>\n",
       "      <td>2720</td>\n",
       "      <td>1.445440</td>\n",
       "      <td>53.344706</td>\n",
       "    </tr>\n",
       "    <tr>\n",
       "      <th>66</th>\n",
       "      <td>2721</td>\n",
       "      <td>1.445971</td>\n",
       "      <td>54.790677</td>\n",
       "    </tr>\n",
       "    <tr>\n",
       "      <th>65</th>\n",
       "      <td>2733</td>\n",
       "      <td>1.452348</td>\n",
       "      <td>56.243025</td>\n",
       "    </tr>\n",
       "    <tr>\n",
       "      <th>50</th>\n",
       "      <td>2734</td>\n",
       "      <td>1.452880</td>\n",
       "      <td>57.695905</td>\n",
       "    </tr>\n",
       "    <tr>\n",
       "      <th>47</th>\n",
       "      <td>2743</td>\n",
       "      <td>1.457662</td>\n",
       "      <td>59.153567</td>\n",
       "    </tr>\n",
       "    <tr>\n",
       "      <th>53</th>\n",
       "      <td>2771</td>\n",
       "      <td>1.472542</td>\n",
       "      <td>60.626109</td>\n",
       "    </tr>\n",
       "    <tr>\n",
       "      <th>72</th>\n",
       "      <td>2787</td>\n",
       "      <td>1.481045</td>\n",
       "      <td>62.107154</td>\n",
       "    </tr>\n",
       "    <tr>\n",
       "      <th>60</th>\n",
       "      <td>2798</td>\n",
       "      <td>1.486890</td>\n",
       "      <td>63.594044</td>\n",
       "    </tr>\n",
       "    <tr>\n",
       "      <th>19</th>\n",
       "      <td>2845</td>\n",
       "      <td>1.511866</td>\n",
       "      <td>65.105910</td>\n",
       "    </tr>\n",
       "    <tr>\n",
       "      <th>33</th>\n",
       "      <td>2864</td>\n",
       "      <td>1.521963</td>\n",
       "      <td>66.627874</td>\n",
       "    </tr>\n",
       "    <tr>\n",
       "      <th>35</th>\n",
       "      <td>2867</td>\n",
       "      <td>1.523557</td>\n",
       "      <td>68.151431</td>\n",
       "    </tr>\n",
       "    <tr>\n",
       "      <th>31</th>\n",
       "      <td>2880</td>\n",
       "      <td>1.530466</td>\n",
       "      <td>69.681897</td>\n",
       "    </tr>\n",
       "    <tr>\n",
       "      <th>22</th>\n",
       "      <td>2898</td>\n",
       "      <td>1.540031</td>\n",
       "      <td>71.221928</td>\n",
       "    </tr>\n",
       "    <tr>\n",
       "      <th>25</th>\n",
       "      <td>2917</td>\n",
       "      <td>1.550128</td>\n",
       "      <td>72.772056</td>\n",
       "    </tr>\n",
       "    <tr>\n",
       "      <th>36</th>\n",
       "      <td>2943</td>\n",
       "      <td>1.563945</td>\n",
       "      <td>74.336001</td>\n",
       "    </tr>\n",
       "    <tr>\n",
       "      <th>40</th>\n",
       "      <td>2944</td>\n",
       "      <td>1.564476</td>\n",
       "      <td>75.900477</td>\n",
       "    </tr>\n",
       "    <tr>\n",
       "      <th>30</th>\n",
       "      <td>2952</td>\n",
       "      <td>1.568727</td>\n",
       "      <td>77.469205</td>\n",
       "    </tr>\n",
       "    <tr>\n",
       "      <th>29</th>\n",
       "      <td>2973</td>\n",
       "      <td>1.579887</td>\n",
       "      <td>79.049092</td>\n",
       "    </tr>\n",
       "    <tr>\n",
       "      <th>28</th>\n",
       "      <td>2975</td>\n",
       "      <td>1.580950</td>\n",
       "      <td>80.630042</td>\n",
       "    </tr>\n",
       "    <tr>\n",
       "      <th>34</th>\n",
       "      <td>2979</td>\n",
       "      <td>1.583076</td>\n",
       "      <td>82.213117</td>\n",
       "    </tr>\n",
       "    <tr>\n",
       "      <th>21</th>\n",
       "      <td>2982</td>\n",
       "      <td>1.584670</td>\n",
       "      <td>83.797787</td>\n",
       "    </tr>\n",
       "    <tr>\n",
       "      <th>18</th>\n",
       "      <td>2994</td>\n",
       "      <td>1.591047</td>\n",
       "      <td>85.388834</td>\n",
       "    </tr>\n",
       "    <tr>\n",
       "      <th>26</th>\n",
       "      <td>3012</td>\n",
       "      <td>1.600612</td>\n",
       "      <td>86.989446</td>\n",
       "    </tr>\n",
       "    <tr>\n",
       "      <th>39</th>\n",
       "      <td>3021</td>\n",
       "      <td>1.605395</td>\n",
       "      <td>88.594841</td>\n",
       "    </tr>\n",
       "    <tr>\n",
       "      <th>38</th>\n",
       "      <td>3028</td>\n",
       "      <td>1.609115</td>\n",
       "      <td>90.203956</td>\n",
       "    </tr>\n",
       "    <tr>\n",
       "      <th>23</th>\n",
       "      <td>3030</td>\n",
       "      <td>1.610178</td>\n",
       "      <td>91.814133</td>\n",
       "    </tr>\n",
       "    <tr>\n",
       "      <th>32</th>\n",
       "      <td>3039</td>\n",
       "      <td>1.614960</td>\n",
       "      <td>93.429094</td>\n",
       "    </tr>\n",
       "    <tr>\n",
       "      <th>24</th>\n",
       "      <td>3043</td>\n",
       "      <td>1.617086</td>\n",
       "      <td>95.046180</td>\n",
       "    </tr>\n",
       "    <tr>\n",
       "      <th>27</th>\n",
       "      <td>3055</td>\n",
       "      <td>1.623463</td>\n",
       "      <td>96.669643</td>\n",
       "    </tr>\n",
       "    <tr>\n",
       "      <th>20</th>\n",
       "      <td>3085</td>\n",
       "      <td>1.639405</td>\n",
       "      <td>98.309048</td>\n",
       "    </tr>\n",
       "    <tr>\n",
       "      <th>37</th>\n",
       "      <td>3182</td>\n",
       "      <td>1.690952</td>\n",
       "      <td>100.000000</td>\n",
       "    </tr>\n",
       "  </tbody>\n",
       "</table>\n",
       "</div>"
      ],
      "text/plain": [
       "    Frec_abs  Frec_rel_%  Frec_rel_%_acum\n",
       "84      2524    1.341283         1.341283\n",
       "48      2556    1.358288         2.699572\n",
       "59      2570    1.365728         4.065300\n",
       "63      2577    1.369448         5.434748\n",
       "85      2579    1.370511         6.805259\n",
       "44      2589    1.375825         8.181084\n",
       "80      2590    1.376356         9.557440\n",
       "83      2597    1.380076        10.937517\n",
       "45      2600    1.381671        12.319187\n",
       "43      2602    1.382733        13.701921\n",
       "79      2604    1.383796        15.085717\n",
       "67      2614    1.389110        16.474827\n",
       "55      2615    1.389642        17.864469\n",
       "61      2616    1.390173        19.254642\n",
       "57      2621    1.392830        20.647472\n",
       "56      2629    1.397081        22.044554\n",
       "70      2631    1.398144        23.442698\n",
       "82      2632    1.398676        24.841374\n",
       "78      2640    1.402927        26.244301\n",
       "77      2642    1.403990        27.648290\n",
       "52      2653    1.409835        29.058126\n",
       "74      2655    1.410898        30.469024\n",
       "73      2659    1.413024        31.882048\n",
       "62      2662    1.414618        33.296666\n",
       "68      2669    1.418338        34.715004\n",
       "64      2670    1.418869        36.133873\n",
       "42      2676    1.422058        37.555931\n",
       "69      2681    1.424715        38.980646\n",
       "46      2685    1.426841        40.407487\n",
       "49      2698    1.433749        41.841235\n",
       "75      2698    1.433749        43.274984\n",
       "58      2700    1.434812        44.709796\n",
       "41      2701    1.435343        46.145139\n",
       "71      2705    1.437469        47.582608\n",
       "81      2705    1.437469        49.020077\n",
       "51      2707    1.438532        50.458608\n",
       "76      2711    1.440657        51.899266\n",
       "54      2720    1.445440        53.344706\n",
       "66      2721    1.445971        54.790677\n",
       "65      2733    1.452348        56.243025\n",
       "50      2734    1.452880        57.695905\n",
       "47      2743    1.457662        59.153567\n",
       "53      2771    1.472542        60.626109\n",
       "72      2787    1.481045        62.107154\n",
       "60      2798    1.486890        63.594044\n",
       "19      2845    1.511866        65.105910\n",
       "33      2864    1.521963        66.627874\n",
       "35      2867    1.523557        68.151431\n",
       "31      2880    1.530466        69.681897\n",
       "22      2898    1.540031        71.221928\n",
       "25      2917    1.550128        72.772056\n",
       "36      2943    1.563945        74.336001\n",
       "40      2944    1.564476        75.900477\n",
       "30      2952    1.568727        77.469205\n",
       "29      2973    1.579887        79.049092\n",
       "28      2975    1.580950        80.630042\n",
       "34      2979    1.583076        82.213117\n",
       "21      2982    1.584670        83.797787\n",
       "18      2994    1.591047        85.388834\n",
       "26      3012    1.600612        86.989446\n",
       "39      3021    1.605395        88.594841\n",
       "38      3028    1.609115        90.203956\n",
       "23      3030    1.610178        91.814133\n",
       "32      3039    1.614960        93.429094\n",
       "24      3043    1.617086        95.046180\n",
       "27      3055    1.623463        96.669643\n",
       "20      3085    1.639405        98.309048\n",
       "37      3182    1.690952       100.000000"
      ]
     },
     "execution_count": 36,
     "metadata": {},
     "output_type": "execute_result"
    }
   ],
   "source": [
    "frec=pd.value_counts(df['edad']).sort_values()\n",
    "frec_df=pd.DataFrame(frec)\n",
    "\n",
    "frec_df.columns =[\"Frec_abs\"]\n",
    "frec_df['Frec_rel_%']= 100*frec_df[\"Frec_abs\"]/len(df['edad'])\n",
    "frec_rel_val= frec_df['Frec_rel_%'].values\n",
    "\n",
    "acum= []\n",
    "valor_acum = 0\n",
    "\n",
    "for i in frec_rel_val:\n",
    "    valor_acum = valor_acum +i\n",
    "    acum.append(valor_acum)\n",
    "    \n",
    "frec_df[\"Frec_rel_%_acum\"]= acum\n",
    "frec_df"
   ]
  },
  {
   "cell_type": "markdown",
   "id": "6f521c60",
   "metadata": {},
   "source": [
    "Como se había observado anteriormente en la línea del histograma, las frecuencias de todas las edades que aparecen en la base de datos, son similares. Lo que lleva a concluir que no hay frecuencias elevadas en ciertas edades."
   ]
  },
  {
   "cell_type": "code",
   "execution_count": 37,
   "id": "0115365a",
   "metadata": {},
   "outputs": [
    {
     "data": {
      "text/plain": [
       "<seaborn.axisgrid.FacetGrid at 0x1ab0408b6d0>"
      ]
     },
     "execution_count": 37,
     "metadata": {},
     "output_type": "execute_result"
    },
    {
     "data": {
      "image/png": "[encoded data removed]",
      "text/plain": [
       "<Figure size 360x360 with 1 Axes>"
      ]
     },
     "metadata": {
      "needs_background": "light"
     },
     "output_type": "display_data"
    }
   ],
   "source": [
    "sns.displot(df['provincia'],kind=(\"hist\"), kde=True)"
   ]
  },
  {
   "cell_type": "code",
   "execution_count": 38,
   "id": "7800b6e0",
   "metadata": {
    "scrolled": true
   },
   "outputs": [
    {
     "data": {
      "text/html": [
       "<div>\n",
       "<style scoped>\n",
       "    .dataframe tbody tr th:only-of-type {\n",
       "        vertical-align: middle;\n",
       "    }\n",
       "\n",
       "    .dataframe tbody tr th {\n",
       "        vertical-align: top;\n",
       "    }\n",
       "\n",
       "    .dataframe thead th {\n",
       "        text-align: right;\n",
       "    }\n",
       "</style>\n",
       "<table border=\"1\" class=\"dataframe\">\n",
       "  <thead>\n",
       "    <tr style=\"text-align: right;\">\n",
       "      <th></th>\n",
       "      <th>Frec_abs</th>\n",
       "      <th>Frec_rel_%</th>\n",
       "      <th>Frec_rel_%_acum</th>\n",
       "    </tr>\n",
       "  </thead>\n",
       "  <tbody>\n",
       "    <tr>\n",
       "      <th>Huesca</th>\n",
       "      <td>3604</td>\n",
       "      <td>1.915208</td>\n",
       "      <td>1.915208</td>\n",
       "    </tr>\n",
       "    <tr>\n",
       "      <th>Vizcaya</th>\n",
       "      <td>3619</td>\n",
       "      <td>1.923179</td>\n",
       "      <td>3.838387</td>\n",
       "    </tr>\n",
       "    <tr>\n",
       "      <th>León</th>\n",
       "      <td>3635</td>\n",
       "      <td>1.931682</td>\n",
       "      <td>5.770069</td>\n",
       "    </tr>\n",
       "    <tr>\n",
       "      <th>Palencia</th>\n",
       "      <td>3657</td>\n",
       "      <td>1.943373</td>\n",
       "      <td>7.713442</td>\n",
       "    </tr>\n",
       "    <tr>\n",
       "      <th>Las Palmas</th>\n",
       "      <td>3658</td>\n",
       "      <td>1.943904</td>\n",
       "      <td>9.657346</td>\n",
       "    </tr>\n",
       "    <tr>\n",
       "      <th>Cantabria</th>\n",
       "      <td>3660</td>\n",
       "      <td>1.944967</td>\n",
       "      <td>11.602313</td>\n",
       "    </tr>\n",
       "    <tr>\n",
       "      <th>Toledo</th>\n",
       "      <td>3662</td>\n",
       "      <td>1.946030</td>\n",
       "      <td>13.548343</td>\n",
       "    </tr>\n",
       "    <tr>\n",
       "      <th>Cuenca</th>\n",
       "      <td>3679</td>\n",
       "      <td>1.955064</td>\n",
       "      <td>15.503406</td>\n",
       "    </tr>\n",
       "    <tr>\n",
       "      <th>Gerona</th>\n",
       "      <td>3680</td>\n",
       "      <td>1.955595</td>\n",
       "      <td>17.459002</td>\n",
       "    </tr>\n",
       "    <tr>\n",
       "      <th>La Rioja</th>\n",
       "      <td>3693</td>\n",
       "      <td>1.962504</td>\n",
       "      <td>19.421505</td>\n",
       "    </tr>\n",
       "    <tr>\n",
       "      <th>Lérida</th>\n",
       "      <td>3699</td>\n",
       "      <td>1.965692</td>\n",
       "      <td>21.387197</td>\n",
       "    </tr>\n",
       "    <tr>\n",
       "      <th>Guadalajara</th>\n",
       "      <td>3703</td>\n",
       "      <td>1.967818</td>\n",
       "      <td>23.355015</td>\n",
       "    </tr>\n",
       "    <tr>\n",
       "      <th>Lugo</th>\n",
       "      <td>3712</td>\n",
       "      <td>1.972600</td>\n",
       "      <td>25.327615</td>\n",
       "    </tr>\n",
       "    <tr>\n",
       "      <th>Jaén</th>\n",
       "      <td>3724</td>\n",
       "      <td>1.978977</td>\n",
       "      <td>27.306593</td>\n",
       "    </tr>\n",
       "    <tr>\n",
       "      <th>Teruel</th>\n",
       "      <td>3724</td>\n",
       "      <td>1.978977</td>\n",
       "      <td>29.285570</td>\n",
       "    </tr>\n",
       "    <tr>\n",
       "      <th>Ávila</th>\n",
       "      <td>3725</td>\n",
       "      <td>1.979509</td>\n",
       "      <td>31.265079</td>\n",
       "    </tr>\n",
       "    <tr>\n",
       "      <th>Albacete</th>\n",
       "      <td>3725</td>\n",
       "      <td>1.979509</td>\n",
       "      <td>33.244588</td>\n",
       "    </tr>\n",
       "    <tr>\n",
       "      <th>Pontevedra</th>\n",
       "      <td>3736</td>\n",
       "      <td>1.985354</td>\n",
       "      <td>35.229942</td>\n",
       "    </tr>\n",
       "    <tr>\n",
       "      <th>Barcelona</th>\n",
       "      <td>3751</td>\n",
       "      <td>1.993325</td>\n",
       "      <td>37.223267</td>\n",
       "    </tr>\n",
       "    <tr>\n",
       "      <th>Salamanca</th>\n",
       "      <td>3752</td>\n",
       "      <td>1.993857</td>\n",
       "      <td>39.217124</td>\n",
       "    </tr>\n",
       "    <tr>\n",
       "      <th>Ciudad Real</th>\n",
       "      <td>3753</td>\n",
       "      <td>1.994388</td>\n",
       "      <td>41.211513</td>\n",
       "    </tr>\n",
       "    <tr>\n",
       "      <th>Madrid</th>\n",
       "      <td>3756</td>\n",
       "      <td>1.995983</td>\n",
       "      <td>43.207495</td>\n",
       "    </tr>\n",
       "    <tr>\n",
       "      <th>Badajoz</th>\n",
       "      <td>3756</td>\n",
       "      <td>1.995983</td>\n",
       "      <td>45.203478</td>\n",
       "    </tr>\n",
       "    <tr>\n",
       "      <th>Islas Baleares</th>\n",
       "      <td>3763</td>\n",
       "      <td>1.999702</td>\n",
       "      <td>47.203180</td>\n",
       "    </tr>\n",
       "    <tr>\n",
       "      <th>Cádiz</th>\n",
       "      <td>3764</td>\n",
       "      <td>2.000234</td>\n",
       "      <td>49.203414</td>\n",
       "    </tr>\n",
       "    <tr>\n",
       "      <th>Segovia</th>\n",
       "      <td>3767</td>\n",
       "      <td>2.001828</td>\n",
       "      <td>51.205242</td>\n",
       "    </tr>\n",
       "    <tr>\n",
       "      <th>Castellón</th>\n",
       "      <td>3769</td>\n",
       "      <td>2.002891</td>\n",
       "      <td>53.208133</td>\n",
       "    </tr>\n",
       "    <tr>\n",
       "      <th>Tarragona</th>\n",
       "      <td>3770</td>\n",
       "      <td>2.003422</td>\n",
       "      <td>55.211555</td>\n",
       "    </tr>\n",
       "    <tr>\n",
       "      <th>Soria</th>\n",
       "      <td>3774</td>\n",
       "      <td>2.005548</td>\n",
       "      <td>57.217103</td>\n",
       "    </tr>\n",
       "    <tr>\n",
       "      <th>Almería</th>\n",
       "      <td>3775</td>\n",
       "      <td>2.006079</td>\n",
       "      <td>59.223182</td>\n",
       "    </tr>\n",
       "    <tr>\n",
       "      <th>Valladolid</th>\n",
       "      <td>3781</td>\n",
       "      <td>2.009268</td>\n",
       "      <td>61.232450</td>\n",
       "    </tr>\n",
       "    <tr>\n",
       "      <th>Santa Cruz de Tenerife</th>\n",
       "      <td>3788</td>\n",
       "      <td>2.012988</td>\n",
       "      <td>63.245438</td>\n",
       "    </tr>\n",
       "    <tr>\n",
       "      <th>La Coruña</th>\n",
       "      <td>3788</td>\n",
       "      <td>2.012988</td>\n",
       "      <td>65.258426</td>\n",
       "    </tr>\n",
       "    <tr>\n",
       "      <th>Granada</th>\n",
       "      <td>3788</td>\n",
       "      <td>2.012988</td>\n",
       "      <td>67.271413</td>\n",
       "    </tr>\n",
       "    <tr>\n",
       "      <th>Álava</th>\n",
       "      <td>3791</td>\n",
       "      <td>2.014582</td>\n",
       "      <td>69.285995</td>\n",
       "    </tr>\n",
       "    <tr>\n",
       "      <th>Zamora</th>\n",
       "      <td>3792</td>\n",
       "      <td>2.015113</td>\n",
       "      <td>71.301109</td>\n",
       "    </tr>\n",
       "    <tr>\n",
       "      <th>Sevilla</th>\n",
       "      <td>3793</td>\n",
       "      <td>2.015645</td>\n",
       "      <td>73.316753</td>\n",
       "    </tr>\n",
       "    <tr>\n",
       "      <th>Huelva</th>\n",
       "      <td>3802</td>\n",
       "      <td>2.020427</td>\n",
       "      <td>75.337181</td>\n",
       "    </tr>\n",
       "    <tr>\n",
       "      <th>Burgos</th>\n",
       "      <td>3805</td>\n",
       "      <td>2.022022</td>\n",
       "      <td>77.359202</td>\n",
       "    </tr>\n",
       "    <tr>\n",
       "      <th>Cáceres</th>\n",
       "      <td>3813</td>\n",
       "      <td>2.026273</td>\n",
       "      <td>79.385475</td>\n",
       "    </tr>\n",
       "    <tr>\n",
       "      <th>Guipúzcoa</th>\n",
       "      <td>3822</td>\n",
       "      <td>2.031056</td>\n",
       "      <td>81.416531</td>\n",
       "    </tr>\n",
       "    <tr>\n",
       "      <th>Córdoba</th>\n",
       "      <td>3824</td>\n",
       "      <td>2.032119</td>\n",
       "      <td>83.448650</td>\n",
       "    </tr>\n",
       "    <tr>\n",
       "      <th>Alicante</th>\n",
       "      <td>3849</td>\n",
       "      <td>2.045404</td>\n",
       "      <td>85.494054</td>\n",
       "    </tr>\n",
       "    <tr>\n",
       "      <th>Orense</th>\n",
       "      <td>3849</td>\n",
       "      <td>2.045404</td>\n",
       "      <td>87.539457</td>\n",
       "    </tr>\n",
       "    <tr>\n",
       "      <th>Málaga</th>\n",
       "      <td>3897</td>\n",
       "      <td>2.070912</td>\n",
       "      <td>89.610369</td>\n",
       "    </tr>\n",
       "    <tr>\n",
       "      <th>Murcia</th>\n",
       "      <td>3898</td>\n",
       "      <td>2.071443</td>\n",
       "      <td>91.681812</td>\n",
       "    </tr>\n",
       "    <tr>\n",
       "      <th>Asturias</th>\n",
       "      <td>3906</td>\n",
       "      <td>2.075694</td>\n",
       "      <td>93.757506</td>\n",
       "    </tr>\n",
       "    <tr>\n",
       "      <th>Valencia</th>\n",
       "      <td>3913</td>\n",
       "      <td>2.079414</td>\n",
       "      <td>95.836920</td>\n",
       "    </tr>\n",
       "    <tr>\n",
       "      <th>Navarra</th>\n",
       "      <td>3916</td>\n",
       "      <td>2.081008</td>\n",
       "      <td>97.917929</td>\n",
       "    </tr>\n",
       "    <tr>\n",
       "      <th>Zaragoza</th>\n",
       "      <td>3918</td>\n",
       "      <td>2.082071</td>\n",
       "      <td>100.000000</td>\n",
       "    </tr>\n",
       "  </tbody>\n",
       "</table>\n",
       "</div>"
      ],
      "text/plain": [
       "                        Frec_abs  Frec_rel_%  Frec_rel_%_acum\n",
       "Huesca                      3604    1.915208         1.915208\n",
       "Vizcaya                     3619    1.923179         3.838387\n",
       "León                        3635    1.931682         5.770069\n",
       "Palencia                    3657    1.943373         7.713442\n",
       "Las Palmas                  3658    1.943904         9.657346\n",
       "Cantabria                   3660    1.944967        11.602313\n",
       "Toledo                      3662    1.946030        13.548343\n",
       "Cuenca                      3679    1.955064        15.503406\n",
       "Gerona                      3680    1.955595        17.459002\n",
       "La Rioja                    3693    1.962504        19.421505\n",
       "Lérida                      3699    1.965692        21.387197\n",
       "Guadalajara                 3703    1.967818        23.355015\n",
       "Lugo                        3712    1.972600        25.327615\n",
       "Jaén                        3724    1.978977        27.306593\n",
       "Teruel                      3724    1.978977        29.285570\n",
       "Ávila                       3725    1.979509        31.265079\n",
       "Albacete                    3725    1.979509        33.244588\n",
       "Pontevedra                  3736    1.985354        35.229942\n",
       "Barcelona                   3751    1.993325        37.223267\n",
       "Salamanca                   3752    1.993857        39.217124\n",
       "Ciudad Real                 3753    1.994388        41.211513\n",
       "Madrid                      3756    1.995983        43.207495\n",
       "Badajoz                     3756    1.995983        45.203478\n",
       "Islas Baleares              3763    1.999702        47.203180\n",
       "Cádiz                       3764    2.000234        49.203414\n",
       "Segovia                     3767    2.001828        51.205242\n",
       "Castellón                   3769    2.002891        53.208133\n",
       "Tarragona                   3770    2.003422        55.211555\n",
       "Soria                       3774    2.005548        57.217103\n",
       "Almería                     3775    2.006079        59.223182\n",
       "Valladolid                  3781    2.009268        61.232450\n",
       "Santa Cruz de Tenerife      3788    2.012988        63.245438\n",
       "La Coruña                   3788    2.012988        65.258426\n",
       "Granada                     3788    2.012988        67.271413\n",
       "Álava                       3791    2.014582        69.285995\n",
       "Zamora                      3792    2.015113        71.301109\n",
       "Sevilla                     3793    2.015645        73.316753\n",
       "Huelva                      3802    2.020427        75.337181\n",
       "Burgos                      3805    2.022022        77.359202\n",
       "Cáceres                     3813    2.026273        79.385475\n",
       "Guipúzcoa                   3822    2.031056        81.416531\n",
       "Córdoba                     3824    2.032119        83.448650\n",
       "Alicante                    3849    2.045404        85.494054\n",
       "Orense                      3849    2.045404        87.539457\n",
       "Málaga                      3897    2.070912        89.610369\n",
       "Murcia                      3898    2.071443        91.681812\n",
       "Asturias                    3906    2.075694        93.757506\n",
       "Valencia                    3913    2.079414        95.836920\n",
       "Navarra                     3916    2.081008        97.917929\n",
       "Zaragoza                    3918    2.082071       100.000000"
      ]
     },
     "execution_count": 38,
     "metadata": {},
     "output_type": "execute_result"
    }
   ],
   "source": [
    "frec=pd.value_counts(df['provincia']).sort_values()\n",
    "frec_df=pd.DataFrame(frec)\n",
    "\n",
    "frec_df.columns =[\"Frec_abs\"]\n",
    "frec_df['Frec_rel_%']= 100*frec_df[\"Frec_abs\"]/len(df['provincia'])\n",
    "frec_rel_val= frec_df['Frec_rel_%'].values\n",
    "\n",
    "acum= []\n",
    "valor_acum = 0\n",
    "\n",
    "for i in frec_rel_val:\n",
    "    valor_acum = valor_acum +i\n",
    "    acum.append(valor_acum)\n",
    "    \n",
    "frec_df[\"Frec_rel_%_acum\"]= acum\n",
    "frec_df"
   ]
  },
  {
   "cell_type": "markdown",
   "id": "8c615000",
   "metadata": {},
   "source": [
    "La frecuencia de aparición de la variable provincia, se encuetra balanceada. No hay outliers, ni NAs. Esta variable puede incluirse en el modelo sin ningún riesgo."
   ]
  },
  {
   "cell_type": "code",
   "execution_count": 39,
   "id": "7be29421",
   "metadata": {},
   "outputs": [
    {
     "data": {
      "text/plain": [
       "<seaborn.axisgrid.FacetGrid at 0x1ab0374a2e0>"
      ]
     },
     "execution_count": 39,
     "metadata": {},
     "output_type": "execute_result"
    },
    {
     "data": {
      "image/png": "[encoded data removed]",
      "text/plain": [
       "<Figure size 360x360 with 1 Axes>"
      ]
     },
     "metadata": {
      "needs_background": "light"
     },
     "output_type": "display_data"
    }
   ],
   "source": [
    "sns.displot(df['comunidad autónoma'],kind=(\"hist\"), kde=True)"
   ]
  },
  {
   "cell_type": "markdown",
   "id": "1023b915",
   "metadata": {},
   "source": [
    "Este gráfico a diferencia del anterior si muestra una frecuencia superior en algunas comunidades a otras, por lo que esta variable ayuda a discretizar mucho mejor los datos, que la de las provincias."
   ]
  },
  {
   "cell_type": "code",
   "execution_count": 40,
   "id": "6aaab1d6",
   "metadata": {},
   "outputs": [
    {
     "data": {
      "text/html": [
       "<div>\n",
       "<style scoped>\n",
       "    .dataframe tbody tr th:only-of-type {\n",
       "        vertical-align: middle;\n",
       "    }\n",
       "\n",
       "    .dataframe tbody tr th {\n",
       "        vertical-align: top;\n",
       "    }\n",
       "\n",
       "    .dataframe thead th {\n",
       "        text-align: right;\n",
       "    }\n",
       "</style>\n",
       "<table border=\"1\" class=\"dataframe\">\n",
       "  <thead>\n",
       "    <tr style=\"text-align: right;\">\n",
       "      <th></th>\n",
       "      <th>Frec_abs</th>\n",
       "      <th>Frec_rel_%</th>\n",
       "      <th>Frec_rel_%_acum</th>\n",
       "    </tr>\n",
       "  </thead>\n",
       "  <tbody>\n",
       "    <tr>\n",
       "      <th>Cantabria</th>\n",
       "      <td>3660</td>\n",
       "      <td>1.944967</td>\n",
       "      <td>1.944967</td>\n",
       "    </tr>\n",
       "    <tr>\n",
       "      <th>La Rioja</th>\n",
       "      <td>3693</td>\n",
       "      <td>1.962504</td>\n",
       "      <td>3.907471</td>\n",
       "    </tr>\n",
       "    <tr>\n",
       "      <th>Comunidad de Madrid</th>\n",
       "      <td>3756</td>\n",
       "      <td>1.995983</td>\n",
       "      <td>5.903453</td>\n",
       "    </tr>\n",
       "    <tr>\n",
       "      <th>Islas Baleares</th>\n",
       "      <td>3763</td>\n",
       "      <td>1.999702</td>\n",
       "      <td>7.903156</td>\n",
       "    </tr>\n",
       "    <tr>\n",
       "      <th>Región de Murcia</th>\n",
       "      <td>3898</td>\n",
       "      <td>2.071443</td>\n",
       "      <td>9.974599</td>\n",
       "    </tr>\n",
       "    <tr>\n",
       "      <th>Asturias</th>\n",
       "      <td>3906</td>\n",
       "      <td>2.075694</td>\n",
       "      <td>12.050293</td>\n",
       "    </tr>\n",
       "    <tr>\n",
       "      <th>Navarra</th>\n",
       "      <td>3916</td>\n",
       "      <td>2.081008</td>\n",
       "      <td>14.131301</td>\n",
       "    </tr>\n",
       "    <tr>\n",
       "      <th>Islas Canarias</th>\n",
       "      <td>7446</td>\n",
       "      <td>3.956892</td>\n",
       "      <td>18.088193</td>\n",
       "    </tr>\n",
       "    <tr>\n",
       "      <th>Extremadura</th>\n",
       "      <td>7569</td>\n",
       "      <td>4.022256</td>\n",
       "      <td>22.110449</td>\n",
       "    </tr>\n",
       "    <tr>\n",
       "      <th>País Vasco</th>\n",
       "      <td>11232</td>\n",
       "      <td>5.968817</td>\n",
       "      <td>28.079265</td>\n",
       "    </tr>\n",
       "    <tr>\n",
       "      <th>Aragón</th>\n",
       "      <td>11246</td>\n",
       "      <td>5.976257</td>\n",
       "      <td>34.055522</td>\n",
       "    </tr>\n",
       "    <tr>\n",
       "      <th>Comunidad Valenciana</th>\n",
       "      <td>11531</td>\n",
       "      <td>6.127709</td>\n",
       "      <td>40.183231</td>\n",
       "    </tr>\n",
       "    <tr>\n",
       "      <th>Cataluña</th>\n",
       "      <td>14900</td>\n",
       "      <td>7.918035</td>\n",
       "      <td>48.101266</td>\n",
       "    </tr>\n",
       "    <tr>\n",
       "      <th>Galicia</th>\n",
       "      <td>15085</td>\n",
       "      <td>8.016346</td>\n",
       "      <td>56.117612</td>\n",
       "    </tr>\n",
       "    <tr>\n",
       "      <th>Castilla-La Mancha</th>\n",
       "      <td>18522</td>\n",
       "      <td>9.842808</td>\n",
       "      <td>65.960420</td>\n",
       "    </tr>\n",
       "    <tr>\n",
       "      <th>Andalucía</th>\n",
       "      <td>30367</td>\n",
       "      <td>16.137381</td>\n",
       "      <td>82.097801</td>\n",
       "    </tr>\n",
       "    <tr>\n",
       "      <th>Castilla y León</th>\n",
       "      <td>33688</td>\n",
       "      <td>17.902199</td>\n",
       "      <td>100.000000</td>\n",
       "    </tr>\n",
       "  </tbody>\n",
       "</table>\n",
       "</div>"
      ],
      "text/plain": [
       "                      Frec_abs  Frec_rel_%  Frec_rel_%_acum\n",
       "Cantabria                 3660    1.944967         1.944967\n",
       "La Rioja                  3693    1.962504         3.907471\n",
       "Comunidad de Madrid       3756    1.995983         5.903453\n",
       "Islas Baleares            3763    1.999702         7.903156\n",
       "Región de Murcia          3898    2.071443         9.974599\n",
       "Asturias                  3906    2.075694        12.050293\n",
       "Navarra                   3916    2.081008        14.131301\n",
       "Islas Canarias            7446    3.956892        18.088193\n",
       "Extremadura               7569    4.022256        22.110449\n",
       "País Vasco               11232    5.968817        28.079265\n",
       "Aragón                   11246    5.976257        34.055522\n",
       "Comunidad Valenciana     11531    6.127709        40.183231\n",
       "Cataluña                 14900    7.918035        48.101266\n",
       "Galicia                  15085    8.016346        56.117612\n",
       "Castilla-La Mancha       18522    9.842808        65.960420\n",
       "Andalucía                30367   16.137381        82.097801\n",
       "Castilla y León          33688   17.902199       100.000000"
      ]
     },
     "execution_count": 40,
     "metadata": {},
     "output_type": "execute_result"
    }
   ],
   "source": [
    "frec=pd.value_counts(df['comunidad autónoma']).sort_values()\n",
    "frec_df=pd.DataFrame(frec)\n",
    "\n",
    "frec_df.columns =[\"Frec_abs\"]\n",
    "frec_df['Frec_rel_%']= 100*frec_df[\"Frec_abs\"]/len(df['comunidad autónoma'])\n",
    "frec_rel_val= frec_df['Frec_rel_%'].values\n",
    "\n",
    "acum= []\n",
    "valor_acum = 0\n",
    "\n",
    "for i in frec_rel_val:\n",
    "    valor_acum = valor_acum +i\n",
    "    acum.append(valor_acum)\n",
    "    \n",
    "frec_df[\"Frec_rel_%_acum\"]= acum\n",
    "frec_df"
   ]
  },
  {
   "cell_type": "code",
   "execution_count": 41,
   "id": "f47fc1a2",
   "metadata": {},
   "outputs": [
    {
     "data": {
      "text/plain": [
       "<seaborn.axisgrid.FacetGrid at 0x1ab045b1640>"
      ]
     },
     "execution_count": 41,
     "metadata": {},
     "output_type": "execute_result"
    },
    {
     "data": {
      "image/png": "[encoded data removed]",
      "text/plain": [
       "<Figure size 360x360 with 1 Axes>"
      ]
     },
     "metadata": {
      "needs_background": "light"
     },
     "output_type": "display_data"
    }
   ],
   "source": [
    "sns.displot(df['num_lineas'],kind=(\"hist\"), kde=True)"
   ]
  },
  {
   "cell_type": "code",
   "execution_count": 42,
   "id": "91dda422",
   "metadata": {},
   "outputs": [
    {
     "data": {
      "text/html": [
       "<div>\n",
       "<style scoped>\n",
       "    .dataframe tbody tr th:only-of-type {\n",
       "        vertical-align: middle;\n",
       "    }\n",
       "\n",
       "    .dataframe tbody tr th {\n",
       "        vertical-align: top;\n",
       "    }\n",
       "\n",
       "    .dataframe thead th {\n",
       "        text-align: right;\n",
       "    }\n",
       "</style>\n",
       "<table border=\"1\" class=\"dataframe\">\n",
       "  <thead>\n",
       "    <tr style=\"text-align: right;\">\n",
       "      <th></th>\n",
       "      <th>Frec_abs</th>\n",
       "      <th>Frec_rel_%</th>\n",
       "      <th>Frec_rel_%_acum</th>\n",
       "    </tr>\n",
       "  </thead>\n",
       "  <tbody>\n",
       "    <tr>\n",
       "      <th>18</th>\n",
       "      <td>1</td>\n",
       "      <td>0.000531</td>\n",
       "      <td>0.000531</td>\n",
       "    </tr>\n",
       "    <tr>\n",
       "      <th>39</th>\n",
       "      <td>1</td>\n",
       "      <td>0.000531</td>\n",
       "      <td>0.001063</td>\n",
       "    </tr>\n",
       "    <tr>\n",
       "      <th>26</th>\n",
       "      <td>1</td>\n",
       "      <td>0.000531</td>\n",
       "      <td>0.001594</td>\n",
       "    </tr>\n",
       "    <tr>\n",
       "      <th>1</th>\n",
       "      <td>5611</td>\n",
       "      <td>2.981751</td>\n",
       "      <td>2.983346</td>\n",
       "    </tr>\n",
       "    <tr>\n",
       "      <th>2</th>\n",
       "      <td>25979</td>\n",
       "      <td>13.805546</td>\n",
       "      <td>16.788891</td>\n",
       "    </tr>\n",
       "    <tr>\n",
       "      <th>5</th>\n",
       "      <td>44955</td>\n",
       "      <td>23.889615</td>\n",
       "      <td>40.678507</td>\n",
       "    </tr>\n",
       "    <tr>\n",
       "      <th>4</th>\n",
       "      <td>52546</td>\n",
       "      <td>27.923562</td>\n",
       "      <td>68.602068</td>\n",
       "    </tr>\n",
       "    <tr>\n",
       "      <th>3</th>\n",
       "      <td>59084</td>\n",
       "      <td>31.397932</td>\n",
       "      <td>100.000000</td>\n",
       "    </tr>\n",
       "  </tbody>\n",
       "</table>\n",
       "</div>"
      ],
      "text/plain": [
       "    Frec_abs  Frec_rel_%  Frec_rel_%_acum\n",
       "18         1    0.000531         0.000531\n",
       "39         1    0.000531         0.001063\n",
       "26         1    0.000531         0.001594\n",
       "1       5611    2.981751         2.983346\n",
       "2      25979   13.805546        16.788891\n",
       "5      44955   23.889615        40.678507\n",
       "4      52546   27.923562        68.602068\n",
       "3      59084   31.397932       100.000000"
      ]
     },
     "execution_count": 42,
     "metadata": {},
     "output_type": "execute_result"
    }
   ],
   "source": [
    "frec=pd.value_counts(df['num_lineas']).sort_values()\n",
    "frec_df=pd.DataFrame(frec)\n",
    "\n",
    "frec_df.columns =[\"Frec_abs\"]\n",
    "frec_df['Frec_rel_%']= 100*frec_df[\"Frec_abs\"]/len(df['num_lineas'])\n",
    "frec_rel_val= frec_df['Frec_rel_%'].values\n",
    "\n",
    "acum= []\n",
    "valor_acum = 0\n",
    "\n",
    "for i in frec_rel_val:\n",
    "    valor_acum = valor_acum +i\n",
    "    acum.append(valor_acum)\n",
    "    \n",
    "frec_df[\"Frec_rel_%_acum\"]= acum\n",
    "frec_df"
   ]
  },
  {
   "cell_type": "markdown",
   "id": "285f2757",
   "metadata": {},
   "source": [
    "Se observa que hay datos atípicos, no es muy unsual que un cliente tenga más de 5 líneas de móviles contratadas. Los valores altos pueden deberse a empresas que le entregan a sus trabajadores móviles para poder comunicarse por motivos laborales, a primera vista no parecen ser valores errados de digitación, ya que en las otras categorías no hay inconsistencias. Sin embargo, podrían quitarse estos valores, ya que su ocurrencia es insignificativa y para un modelo sería casi imposible detectar alguna correlación."
   ]
  },
  {
   "cell_type": "code",
   "execution_count": 43,
   "id": "616e5e96",
   "metadata": {},
   "outputs": [],
   "source": [
    "#Imputacion de valores atípicos con la moda\n",
    "\n",
    "df['num_lineas']=(df['num_lineas']).replace(to_replace=[18, 39, 26],\n",
    "           value=3)"
   ]
  },
  {
   "cell_type": "code",
   "execution_count": 44,
   "id": "f06c2c0d",
   "metadata": {},
   "outputs": [
    {
     "data": {
      "text/plain": [
       "<seaborn.axisgrid.FacetGrid at 0x1ab0408bdc0>"
      ]
     },
     "execution_count": 44,
     "metadata": {},
     "output_type": "execute_result"
    },
    {
     "data": {
      "image/png": "[encoded data removed]",
      "text/plain": [
       "<Figure size 360x360 with 1 Axes>"
      ]
     },
     "metadata": {
      "needs_background": "light"
     },
     "output_type": "display_data"
    }
   ],
   "source": [
    "sns.displot(df['num_dt'],kind=(\"hist\"), kde= False)"
   ]
  },
  {
   "cell_type": "code",
   "execution_count": 45,
   "id": "f9de5517",
   "metadata": {},
   "outputs": [
    {
     "data": {
      "text/html": [
       "<div>\n",
       "<style scoped>\n",
       "    .dataframe tbody tr th:only-of-type {\n",
       "        vertical-align: middle;\n",
       "    }\n",
       "\n",
       "    .dataframe tbody tr th {\n",
       "        vertical-align: top;\n",
       "    }\n",
       "\n",
       "    .dataframe thead th {\n",
       "        text-align: right;\n",
       "    }\n",
       "</style>\n",
       "<table border=\"1\" class=\"dataframe\">\n",
       "  <thead>\n",
       "    <tr style=\"text-align: right;\">\n",
       "      <th></th>\n",
       "      <th>Frec_abs</th>\n",
       "      <th>Frec_rel_%</th>\n",
       "      <th>Frec_rel_%_acum</th>\n",
       "    </tr>\n",
       "  </thead>\n",
       "  <tbody>\n",
       "    <tr>\n",
       "      <th>2.0</th>\n",
       "      <td>1813</td>\n",
       "      <td>0.963449</td>\n",
       "      <td>0.963449</td>\n",
       "    </tr>\n",
       "    <tr>\n",
       "      <th>1.0</th>\n",
       "      <td>1817</td>\n",
       "      <td>0.965575</td>\n",
       "      <td>1.929025</td>\n",
       "    </tr>\n",
       "    <tr>\n",
       "      <th>3.0</th>\n",
       "      <td>1822</td>\n",
       "      <td>0.968232</td>\n",
       "      <td>2.897257</td>\n",
       "    </tr>\n",
       "    <tr>\n",
       "      <th>4.0</th>\n",
       "      <td>1891</td>\n",
       "      <td>1.004900</td>\n",
       "      <td>3.902156</td>\n",
       "    </tr>\n",
       "  </tbody>\n",
       "</table>\n",
       "</div>"
      ],
      "text/plain": [
       "     Frec_abs  Frec_rel_%  Frec_rel_%_acum\n",
       "2.0      1813    0.963449         0.963449\n",
       "1.0      1817    0.965575         1.929025\n",
       "3.0      1822    0.968232         2.897257\n",
       "4.0      1891    1.004900         3.902156"
      ]
     },
     "execution_count": 45,
     "metadata": {},
     "output_type": "execute_result"
    }
   ],
   "source": [
    "frec=pd.value_counts(df['num_dt']).sort_values()\n",
    "frec_df=pd.DataFrame(frec)\n",
    "\n",
    "frec_df.columns =[\"Frec_abs\"]\n",
    "frec_df['Frec_rel_%']= 100*frec_df[\"Frec_abs\"]/len(df['num_dt'])\n",
    "frec_rel_val= frec_df['Frec_rel_%'].values\n",
    "\n",
    "acum= []\n",
    "valor_acum = 0\n",
    "\n",
    "for i in frec_rel_val:\n",
    "    valor_acum = valor_acum +i\n",
    "    acum.append(valor_acum)\n",
    "    \n",
    "frec_df[\"Frec_rel_%_acum\"]= acum\n",
    "frec_df"
   ]
  },
  {
   "cell_type": "markdown",
   "id": "3a580f04",
   "metadata": {},
   "source": [
    "la variable número de líneas en impago está balanceada, no hay valores atípicos y aunque haya gran número de faltantes, es de esperarse y es positivo, en este punto se refleja una buena salud financiera de la empresa en sus pasivos. Por lo tanto, esta variable se puede incluir en el modelo sin ninguna modificación o transformación."
   ]
  },
  {
   "cell_type": "code",
   "execution_count": 46,
   "id": "5854ba33",
   "metadata": {},
   "outputs": [
    {
     "data": {
      "text/html": [
       "<div>\n",
       "<style scoped>\n",
       "    .dataframe tbody tr th:only-of-type {\n",
       "        vertical-align: middle;\n",
       "    }\n",
       "\n",
       "    .dataframe tbody tr th {\n",
       "        vertical-align: top;\n",
       "    }\n",
       "\n",
       "    .dataframe thead th {\n",
       "        text-align: right;\n",
       "    }\n",
       "</style>\n",
       "<table border=\"1\" class=\"dataframe\">\n",
       "  <thead>\n",
       "    <tr style=\"text-align: right;\">\n",
       "      <th></th>\n",
       "      <th>Frec_abs</th>\n",
       "      <th>Frec_rel_%</th>\n",
       "      <th>Frec_rel_%_acum</th>\n",
       "    </tr>\n",
       "  </thead>\n",
       "  <tbody>\n",
       "    <tr>\n",
       "      <th>SI</th>\n",
       "      <td>5565</td>\n",
       "      <td>2.957306</td>\n",
       "      <td>2.957306</td>\n",
       "    </tr>\n",
       "  </tbody>\n",
       "</table>\n",
       "</div>"
      ],
      "text/plain": [
       "    Frec_abs  Frec_rel_%  Frec_rel_%_acum\n",
       "SI      5565    2.957306         2.957306"
      ]
     },
     "execution_count": 46,
     "metadata": {},
     "output_type": "execute_result"
    }
   ],
   "source": [
    "frec=pd.value_counts(df['incidencia']).sort_values()\n",
    "frec_df=pd.DataFrame(frec)\n",
    "\n",
    "frec_df.columns =[\"Frec_abs\"]\n",
    "frec_df['Frec_rel_%']= 100*frec_df[\"Frec_abs\"]/len(df['incidencia'])\n",
    "frec_rel_val= frec_df['Frec_rel_%'].values\n",
    "\n",
    "acum= []\n",
    "valor_acum = 0\n",
    "\n",
    "for i in frec_rel_val:\n",
    "    valor_acum = valor_acum +i\n",
    "    acum.append(valor_acum)\n",
    "    \n",
    "frec_df[\"Frec_rel_%_acum\"]= acum\n",
    "frec_df"
   ]
  },
  {
   "cell_type": "markdown",
   "id": "e0fe9e31",
   "metadata": {},
   "source": [
    "similar al caso anterior, era de esperarse que el número de incidencias sea bajo, y en este caso nos muestra la calidad de los productos de la empresa. Adicionalmente, cabe resaltar que no se realiza un gráfico de esta variable, porque al ser boleana, no tiene una representación gráfica explicativa que añada valor."
   ]
  },
  {
   "cell_type": "code",
   "execution_count": 47,
   "id": "6151fe9f",
   "metadata": {},
   "outputs": [
    {
     "data": {
      "text/html": [
       "<div>\n",
       "<style scoped>\n",
       "    .dataframe tbody tr th:only-of-type {\n",
       "        vertical-align: middle;\n",
       "    }\n",
       "\n",
       "    .dataframe tbody tr th {\n",
       "        vertical-align: top;\n",
       "    }\n",
       "\n",
       "    .dataframe thead th {\n",
       "        text-align: right;\n",
       "    }\n",
       "</style>\n",
       "<table border=\"1\" class=\"dataframe\">\n",
       "  <thead>\n",
       "    <tr style=\"text-align: right;\">\n",
       "      <th></th>\n",
       "      <th>Frec_abs</th>\n",
       "      <th>Frec_rel_%</th>\n",
       "      <th>Frec_rel_%_acum</th>\n",
       "    </tr>\n",
       "  </thead>\n",
       "  <tbody>\n",
       "    <tr>\n",
       "      <th>SI</th>\n",
       "      <td>13038</td>\n",
       "      <td>6.928546</td>\n",
       "      <td>6.928546</td>\n",
       "    </tr>\n",
       "  </tbody>\n",
       "</table>\n",
       "</div>"
      ],
      "text/plain": [
       "    Frec_abs  Frec_rel_%  Frec_rel_%_acum\n",
       "SI     13038    6.928546         6.928546"
      ]
     },
     "execution_count": 47,
     "metadata": {},
     "output_type": "execute_result"
    }
   ],
   "source": [
    "frec=pd.value_counts(df['financiacion']).sort_values()\n",
    "frec_df=pd.DataFrame(frec)\n",
    "\n",
    "frec_df.columns =[\"Frec_abs\"]\n",
    "frec_df['Frec_rel_%']= 100*frec_df[\"Frec_abs\"]/len(df['financiacion'])\n",
    "frec_rel_val= frec_df['Frec_rel_%'].values\n",
    "\n",
    "acum= []\n",
    "valor_acum = 0\n",
    "\n",
    "for i in frec_rel_val:\n",
    "    valor_acum = valor_acum +i\n",
    "    acum.append(valor_acum)\n",
    "    \n",
    "frec_df[\"Frec_rel_%_acum\"]= acum\n",
    "frec_df"
   ]
  },
  {
   "cell_type": "markdown",
   "id": "d3f09f00",
   "metadata": {},
   "source": [
    "se observa que el número de personas financiadas es solo un 7%, mientras que las que incurren en el impago están alrededor del 3%. Por lo que a simple vista podemos observar que un ~40% de las personas financiadas incurren en el impago, esto a futuro en el modelo nos puede conllevar a colinealidades en el modelo, se debe verificar con el VIF si es aceptable."
   ]
  },
  {
   "cell_type": "code",
   "execution_count": 48,
   "id": "843107d3",
   "metadata": {},
   "outputs": [
    {
     "data": {
      "text/html": [
       "<div>\n",
       "<style scoped>\n",
       "    .dataframe tbody tr th:only-of-type {\n",
       "        vertical-align: middle;\n",
       "    }\n",
       "\n",
       "    .dataframe tbody tr th {\n",
       "        vertical-align: top;\n",
       "    }\n",
       "\n",
       "    .dataframe thead th {\n",
       "        text-align: right;\n",
       "    }\n",
       "</style>\n",
       "<table border=\"1\" class=\"dataframe\">\n",
       "  <thead>\n",
       "    <tr style=\"text-align: right;\">\n",
       "      <th></th>\n",
       "      <th>Frec_abs</th>\n",
       "      <th>Frec_rel_%</th>\n",
       "      <th>Frec_rel_%_acum</th>\n",
       "    </tr>\n",
       "  </thead>\n",
       "  <tbody>\n",
       "    <tr>\n",
       "      <th>SI</th>\n",
       "      <td>39192</td>\n",
       "      <td>20.827089</td>\n",
       "      <td>20.827089</td>\n",
       "    </tr>\n",
       "  </tbody>\n",
       "</table>\n",
       "</div>"
      ],
      "text/plain": [
       "    Frec_abs  Frec_rel_%  Frec_rel_%_acum\n",
       "SI     39192   20.827089        20.827089"
      ]
     },
     "execution_count": 48,
     "metadata": {},
     "output_type": "execute_result"
    }
   ],
   "source": [
    "frec=pd.value_counts(df['descuentos']).sort_values()\n",
    "frec_df=pd.DataFrame(frec)\n",
    "\n",
    "frec_df.columns =[\"Frec_abs\"]\n",
    "frec_df['Frec_rel_%']= 100*frec_df[\"Frec_abs\"]/len(df['descuentos'])\n",
    "frec_rel_val= frec_df['Frec_rel_%'].values\n",
    "\n",
    "acum= []\n",
    "valor_acum = 0\n",
    "\n",
    "for i in frec_rel_val:\n",
    "    valor_acum = valor_acum +i\n",
    "    acum.append(valor_acum)\n",
    "    \n",
    "frec_df[\"Frec_rel_%_acum\"]= acum\n",
    "frec_df"
   ]
  },
  {
   "cell_type": "markdown",
   "id": "cafe00d6",
   "metadata": {},
   "source": [
    "Alrededor de un 21% de los clientes cuentan con algún tipo de descuento, lo que esto nos sugiere es que la empresa se encuentra bien posicionada, ya que no tiene que recurrir a descuentos como la fuente predominante para captar clientes. "
   ]
  },
  {
   "cell_type": "code",
   "execution_count": 49,
   "id": "477f7140",
   "metadata": {},
   "outputs": [
    {
     "data": {
      "text/html": [
       "<div>\n",
       "<style scoped>\n",
       "    .dataframe tbody tr th:only-of-type {\n",
       "        vertical-align: middle;\n",
       "    }\n",
       "\n",
       "    .dataframe tbody tr th {\n",
       "        vertical-align: top;\n",
       "    }\n",
       "\n",
       "    .dataframe thead th {\n",
       "        text-align: right;\n",
       "    }\n",
       "</style>\n",
       "<table border=\"1\" class=\"dataframe\">\n",
       "  <thead>\n",
       "    <tr style=\"text-align: right;\">\n",
       "      <th></th>\n",
       "      <th>Frec_abs</th>\n",
       "      <th>Frec_rel_%</th>\n",
       "      <th>Frec_rel_%_acum</th>\n",
       "    </tr>\n",
       "  </thead>\n",
       "  <tbody>\n",
       "    <tr>\n",
       "      <th>FIBRA</th>\n",
       "      <td>92956</td>\n",
       "      <td>49.397910</td>\n",
       "      <td>49.397910</td>\n",
       "    </tr>\n",
       "    <tr>\n",
       "      <th>ADSL</th>\n",
       "      <td>95220</td>\n",
       "      <td>50.601027</td>\n",
       "      <td>99.998937</td>\n",
       "    </tr>\n",
       "  </tbody>\n",
       "</table>\n",
       "</div>"
      ],
      "text/plain": [
       "       Frec_abs  Frec_rel_%  Frec_rel_%_acum\n",
       "FIBRA     92956   49.397910        49.397910\n",
       "ADSL      95220   50.601027        99.998937"
      ]
     },
     "execution_count": 49,
     "metadata": {},
     "output_type": "execute_result"
    }
   ],
   "source": [
    "frec=pd.value_counts(df['conexion']).sort_values()\n",
    "frec_df=pd.DataFrame(frec)\n",
    "\n",
    "frec_df.columns =[\"Frec_abs\"]\n",
    "frec_df['Frec_rel_%']= 100*frec_df[\"Frec_abs\"]/len(df['conexion'])\n",
    "frec_rel_val= frec_df['Frec_rel_%'].values\n",
    "\n",
    "acum= []\n",
    "valor_acum = 0\n",
    "\n",
    "for i in frec_rel_val:\n",
    "    valor_acum = valor_acum +i\n",
    "    acum.append(valor_acum)\n",
    "    \n",
    "frec_df[\"Frec_rel_%_acum\"]= acum\n",
    "frec_df"
   ]
  },
  {
   "cell_type": "markdown",
   "id": "50c7cf45",
   "metadata": {},
   "source": [
    "esta variable se encuentra balanceada, la cantidad de perdidos es mínima, por lo que se puede introducir en el modelo sin riesgo. En caso de ser necesario cualquier imputación sería buena."
   ]
  },
  {
   "cell_type": "code",
   "execution_count": 50,
   "id": "c1d0ed0b",
   "metadata": {},
   "outputs": [
    {
     "data": {
      "text/html": [
       "<div>\n",
       "<style scoped>\n",
       "    .dataframe tbody tr th:only-of-type {\n",
       "        vertical-align: middle;\n",
       "    }\n",
       "\n",
       "    .dataframe tbody tr th {\n",
       "        vertical-align: top;\n",
       "    }\n",
       "\n",
       "    .dataframe thead th {\n",
       "        text-align: right;\n",
       "    }\n",
       "</style>\n",
       "<table border=\"1\" class=\"dataframe\">\n",
       "  <thead>\n",
       "    <tr style=\"text-align: right;\">\n",
       "      <th></th>\n",
       "      <th>Frec_abs</th>\n",
       "      <th>Frec_rel_%</th>\n",
       "      <th>Frec_rel_%_acum</th>\n",
       "    </tr>\n",
       "  </thead>\n",
       "  <tbody>\n",
       "    <tr>\n",
       "      <th>16598</th>\n",
       "      <td>1</td>\n",
       "      <td>0.000531</td>\n",
       "      <td>0.000531</td>\n",
       "    </tr>\n",
       "    <tr>\n",
       "      <th>1</th>\n",
       "      <td>1</td>\n",
       "      <td>0.000531</td>\n",
       "      <td>0.001063</td>\n",
       "    </tr>\n",
       "    <tr>\n",
       "      <th>?</th>\n",
       "      <td>1</td>\n",
       "      <td>0.000531</td>\n",
       "      <td>0.001594</td>\n",
       "    </tr>\n",
       "    <tr>\n",
       "      <th>15MB</th>\n",
       "      <td>15436</td>\n",
       "      <td>8.202872</td>\n",
       "      <td>8.204466</td>\n",
       "    </tr>\n",
       "    <tr>\n",
       "      <th>35MB</th>\n",
       "      <td>15619</td>\n",
       "      <td>8.300120</td>\n",
       "      <td>16.504586</td>\n",
       "    </tr>\n",
       "    <tr>\n",
       "      <th>30MB</th>\n",
       "      <td>15709</td>\n",
       "      <td>8.347947</td>\n",
       "      <td>24.852533</td>\n",
       "    </tr>\n",
       "    <tr>\n",
       "      <th>10MB</th>\n",
       "      <td>15776</td>\n",
       "      <td>8.383552</td>\n",
       "      <td>33.236085</td>\n",
       "    </tr>\n",
       "    <tr>\n",
       "      <th>25MB</th>\n",
       "      <td>15952</td>\n",
       "      <td>8.477080</td>\n",
       "      <td>41.713165</td>\n",
       "    </tr>\n",
       "    <tr>\n",
       "      <th>20MB</th>\n",
       "      <td>15995</td>\n",
       "      <td>8.499931</td>\n",
       "      <td>50.213096</td>\n",
       "    </tr>\n",
       "    <tr>\n",
       "      <th>100MB</th>\n",
       "      <td>18431</td>\n",
       "      <td>9.794450</td>\n",
       "      <td>60.007546</td>\n",
       "    </tr>\n",
       "    <tr>\n",
       "      <th>50MB</th>\n",
       "      <td>18641</td>\n",
       "      <td>9.906046</td>\n",
       "      <td>69.913592</td>\n",
       "    </tr>\n",
       "    <tr>\n",
       "      <th>300MB</th>\n",
       "      <td>18672</td>\n",
       "      <td>9.922520</td>\n",
       "      <td>79.836113</td>\n",
       "    </tr>\n",
       "    <tr>\n",
       "      <th>600MB</th>\n",
       "      <td>18921</td>\n",
       "      <td>10.054842</td>\n",
       "      <td>89.890954</td>\n",
       "    </tr>\n",
       "    <tr>\n",
       "      <th>200MB</th>\n",
       "      <td>19017</td>\n",
       "      <td>10.105857</td>\n",
       "      <td>99.996812</td>\n",
       "    </tr>\n",
       "  </tbody>\n",
       "</table>\n",
       "</div>"
      ],
      "text/plain": [
       "       Frec_abs  Frec_rel_%  Frec_rel_%_acum\n",
       "16598         1    0.000531         0.000531\n",
       "1             1    0.000531         0.001063\n",
       "?             1    0.000531         0.001594\n",
       "15MB      15436    8.202872         8.204466\n",
       "35MB      15619    8.300120        16.504586\n",
       "30MB      15709    8.347947        24.852533\n",
       "10MB      15776    8.383552        33.236085\n",
       "25MB      15952    8.477080        41.713165\n",
       "20MB      15995    8.499931        50.213096\n",
       "100MB     18431    9.794450        60.007546\n",
       "50MB      18641    9.906046        69.913592\n",
       "300MB     18672    9.922520        79.836113\n",
       "600MB     18921   10.054842        89.890954\n",
       "200MB     19017   10.105857        99.996812"
      ]
     },
     "execution_count": 50,
     "metadata": {},
     "output_type": "execute_result"
    }
   ],
   "source": [
    "frec=pd.value_counts(df['vel_conexion']).sort_values()\n",
    "frec_df=pd.DataFrame(frec)\n",
    "\n",
    "frec_df.columns =[\"Frec_abs\"]\n",
    "frec_df['Frec_rel_%']= 100*frec_df[\"Frec_abs\"]/len(df['vel_conexion'])\n",
    "frec_rel_val= frec_df['Frec_rel_%'].values\n",
    "\n",
    "acum= []\n",
    "valor_acum = 0\n",
    "\n",
    "for i in frec_rel_val:\n",
    "    valor_acum = valor_acum +i\n",
    "    acum.append(valor_acum)\n",
    "    \n",
    "frec_df[\"Frec_rel_%_acum\"]= acum\n",
    "frec_df"
   ]
  },
  {
   "cell_type": "code",
   "execution_count": 51,
   "id": "af857dd7",
   "metadata": {},
   "outputs": [
    {
     "data": {
      "text/plain": [
       "vel_conexion\n",
       "1            1\n",
       "100MB      127\n",
       "200MB      136\n",
       "50MB       145\n",
       "600MB      158\n",
       "300MB      164\n",
       "15MB     15436\n",
       "35MB     15619\n",
       "30MB     15708\n",
       "10MB     15776\n",
       "25MB     15952\n",
       "20MB     15995\n",
       "Name: conexion, dtype: int64"
      ]
     },
     "execution_count": 51,
     "metadata": {},
     "output_type": "execute_result"
    }
   ],
   "source": [
    "#se observa que en la conexión ADSL, la más frecuente es la de 20MB, por lo tanto la imputación puede hacerse por este valor para perjudicar lo menos posible a los datos\n",
    "con_adsl= df.query('conexion==\"ADSL\"')\n",
    "con_adsl.groupby('vel_conexion')['conexion'].count().sort_values(ascending=True)"
   ]
  },
  {
   "cell_type": "code",
   "execution_count": 52,
   "id": "0de2c296",
   "metadata": {},
   "outputs": [],
   "source": [
    "df['vel_conexion'] =df['vel_conexion'].replace('1', '20MB')"
   ]
  },
  {
   "cell_type": "code",
   "execution_count": 53,
   "id": "1e256e47",
   "metadata": {},
   "outputs": [
    {
     "data": {
      "text/plain": [
       "vel_conexion\n",
       "16598        1\n",
       "?            1\n",
       "100MB    18303\n",
       "50MB     18496\n",
       "300MB    18508\n",
       "600MB    18763\n",
       "200MB    18881\n",
       "Name: conexion, dtype: int64"
      ]
     },
     "execution_count": 53,
     "metadata": {},
     "output_type": "execute_result"
    }
   ],
   "source": [
    "#En el caso de la conexión con Fibra el más repetido es el de 200 MB\n",
    "con_Fibra= df.query('conexion==\"FIBRA\"')\n",
    "con_Fibra.groupby('vel_conexion')['conexion'].count().sort_values(ascending=True)"
   ]
  },
  {
   "cell_type": "markdown",
   "id": "67da05bf",
   "metadata": {},
   "source": [
    "Se observa que hay datos con valores que no corresponden, como la incidencia es baja, se puede imputar con cualquier método, en este caso se procederá a imputar con la moda. Ya que es rápido, sencillo y eficiente."
   ]
  },
  {
   "cell_type": "code",
   "execution_count": 54,
   "id": "243d3ee3",
   "metadata": {},
   "outputs": [],
   "source": [
    "df[\"vel_conexion\"]=(df[\"vel_conexion\"]).replace({'16598':'200MB'})\n",
    "df[\"vel_conexion\"]=(df[\"vel_conexion\"]).replace({'?':'200MB'})\n",
    "df[\"vel_conexion\"].fillna(\"200MB\", inplace = True) \n",
    "df['vel_conexion'].replace({'MB': ''}, inplace=True, regex=True)\n"
   ]
  },
  {
   "cell_type": "code",
   "execution_count": 55,
   "id": "c35a9b19",
   "metadata": {},
   "outputs": [],
   "source": [
    "df['vel_conexion'] = pd.to_numeric(df['vel_conexion'])"
   ]
  },
  {
   "cell_type": "code",
   "execution_count": 56,
   "id": "d7b0480b",
   "metadata": {},
   "outputs": [
    {
     "data": {
      "text/plain": [
       "<seaborn.axisgrid.FacetGrid at 0x1ab048940d0>"
      ]
     },
     "execution_count": 56,
     "metadata": {},
     "output_type": "execute_result"
    },
    {
     "data": {
      "image/png": "[encoded data removed]",
      "text/plain": [
       "<Figure size 360x360 with 1 Axes>"
      ]
     },
     "metadata": {
      "needs_background": "light"
     },
     "output_type": "display_data"
    }
   ],
   "source": [
    "sns.displot(df['TV'],kind=(\"hist\"), kde= False)"
   ]
  },
  {
   "cell_type": "code",
   "execution_count": 57,
   "id": "8682a2db",
   "metadata": {},
   "outputs": [
    {
     "data": {
      "text/html": [
       "<div>\n",
       "<style scoped>\n",
       "    .dataframe tbody tr th:only-of-type {\n",
       "        vertical-align: middle;\n",
       "    }\n",
       "\n",
       "    .dataframe tbody tr th {\n",
       "        vertical-align: top;\n",
       "    }\n",
       "\n",
       "    .dataframe thead th {\n",
       "        text-align: right;\n",
       "    }\n",
       "</style>\n",
       "<table border=\"1\" class=\"dataframe\">\n",
       "  <thead>\n",
       "    <tr style=\"text-align: right;\">\n",
       "      <th></th>\n",
       "      <th>Frec_abs</th>\n",
       "      <th>Frec_rel_%</th>\n",
       "      <th>Frec_rel_%_acum</th>\n",
       "    </tr>\n",
       "  </thead>\n",
       "  <tbody>\n",
       "    <tr>\n",
       "      <th>tv-total</th>\n",
       "      <td>26785</td>\n",
       "      <td>14.233864</td>\n",
       "      <td>14.233864</td>\n",
       "    </tr>\n",
       "    <tr>\n",
       "      <th>tv-familiar</th>\n",
       "      <td>65568</td>\n",
       "      <td>34.843606</td>\n",
       "      <td>49.077469</td>\n",
       "    </tr>\n",
       "    <tr>\n",
       "      <th>tv-futbol</th>\n",
       "      <td>95825</td>\n",
       "      <td>50.922531</td>\n",
       "      <td>100.000000</td>\n",
       "    </tr>\n",
       "  </tbody>\n",
       "</table>\n",
       "</div>"
      ],
      "text/plain": [
       "             Frec_abs  Frec_rel_%  Frec_rel_%_acum\n",
       "tv-total        26785   14.233864        14.233864\n",
       "tv-familiar     65568   34.843606        49.077469\n",
       "tv-futbol       95825   50.922531       100.000000"
      ]
     },
     "execution_count": 57,
     "metadata": {},
     "output_type": "execute_result"
    }
   ],
   "source": [
    "frec=pd.value_counts(df['TV']).sort_values()\n",
    "frec_df=pd.DataFrame(frec)\n",
    "\n",
    "frec_df.columns =[\"Frec_abs\"]\n",
    "frec_df['Frec_rel_%']= 100*frec_df[\"Frec_abs\"]/len(df['TV'])\n",
    "frec_rel_val= frec_df['Frec_rel_%'].values\n",
    "\n",
    "acum= []\n",
    "valor_acum = 0\n",
    "\n",
    "for i in frec_rel_val:\n",
    "    valor_acum = valor_acum +i\n",
    "    acum.append(valor_acum)\n",
    "    \n",
    "frec_df[\"Frec_rel_%_acum\"]= acum\n",
    "frec_df"
   ]
  },
  {
   "cell_type": "markdown",
   "id": "2ace35f4",
   "metadata": {},
   "source": [
    "## Limpieza y Preprocesamiento"
   ]
  },
  {
   "cell_type": "markdown",
   "id": "070fe047",
   "metadata": {},
   "source": [
    "No se presentan datos faltantes, ni valores extremos. Adicionalmente, cabe resaltar que más de la mitad de los clientes  tienen el paquete de futbol para la TV."
   ]
  },
  {
   "cell_type": "markdown",
   "id": "2f730e5d",
   "metadata": {},
   "source": [
    "#### Para realizar nuestro primer modelo se deben codificar todas las variables que son categóricas, ya que el modelo requiere un input numérico"
   ]
  },
  {
   "cell_type": "code",
   "execution_count": 58,
   "id": "ed5b47f7",
   "metadata": {},
   "outputs": [
    {
     "data": {
      "text/plain": [
       "['Córdoba',\n",
       " 'Albacete',\n",
       " 'Toledo',\n",
       " 'Salamanca',\n",
       " 'Tarragona',\n",
       " 'Granada',\n",
       " 'Ciudad Real',\n",
       " 'Asturias',\n",
       " 'Murcia',\n",
       " 'Zaragoza',\n",
       " 'La Coruña',\n",
       " 'Lérida',\n",
       " 'Jaén',\n",
       " 'Orense',\n",
       " 'Soria',\n",
       " 'Sevilla',\n",
       " 'Huesca',\n",
       " 'Palencia',\n",
       " 'Cuenca',\n",
       " 'Álava',\n",
       " 'León',\n",
       " 'Guipúzcoa',\n",
       " 'Alicante',\n",
       " 'Vizcaya',\n",
       " 'Lugo',\n",
       " 'Teruel',\n",
       " 'Valencia',\n",
       " 'Badajoz',\n",
       " 'Ávila',\n",
       " 'Valladolid',\n",
       " 'Málaga',\n",
       " 'Cantabria',\n",
       " 'Barcelona',\n",
       " 'Islas Baleares',\n",
       " 'Santa Cruz de Tenerife',\n",
       " 'Castellón',\n",
       " 'Gerona',\n",
       " 'Zamora',\n",
       " 'Navarra',\n",
       " 'Cádiz',\n",
       " 'Cáceres',\n",
       " 'Burgos',\n",
       " 'Madrid',\n",
       " 'Segovia',\n",
       " 'Las Palmas',\n",
       " 'Almería',\n",
       " 'Huelva',\n",
       " 'Guadalajara',\n",
       " 'Pontevedra',\n",
       " 'La Rioja']"
      ]
     },
     "execution_count": 58,
     "metadata": {},
     "output_type": "execute_result"
    }
   ],
   "source": [
    "list(set(df.provincia))"
   ]
  },
  {
   "cell_type": "markdown",
   "id": "af10e372",
   "metadata": {},
   "source": [
    "###### Todas las variables categóricas son nominales con la excepción de vel_conexión, por lo tanto el tipo de codificación que les corresponde es one-hot.Sin embargo, la creación de dummies por cada categoría-1, haría que la base de datos creciera desproporcionadamente (a concieración propia), para la  variable(provincia ). Por tal motivo, las variables con 1 categoría se condificaran como boleanas, las de 3 categorías one-hot, y las mayores con una codificación ordinal. Por último, la variable \"antiguedad\", se transformará a año para trabajarla como entero\n"
   ]
  },
  {
   "cell_type": "code",
   "execution_count": 59,
   "id": "e131f11b",
   "metadata": {},
   "outputs": [],
   "source": [
    "#Creación de variables \n",
    "df['antiguedad']= pd.to_datetime(df['antiguedad']).dt.year\n"
   ]
  },
  {
   "cell_type": "code",
   "execution_count": 60,
   "id": "23c60471",
   "metadata": {},
   "outputs": [],
   "source": [
    "# Creamos el codificador indicandole el orden de la variables\n",
    "encoder = OrdinalEncoder(categories=[['La Rioja',\n",
    " 'Valencia',\n",
    " 'Ávila',\n",
    " 'Asturias',\n",
    " 'Huelva',\n",
    " 'Burgos',\n",
    " 'Jaén',\n",
    " 'Castellón',\n",
    " 'Alicante',\n",
    " 'Cantabria',\n",
    " 'Toledo',\n",
    " 'Barcelona',\n",
    " 'Segovia',\n",
    " 'Huesca',\n",
    " 'Palencia',\n",
    " 'Lugo',\n",
    " 'Salamanca',\n",
    " 'Álava',\n",
    " 'Madrid',\n",
    " 'Guipúzcoa',\n",
    " 'Lérida',\n",
    " 'Murcia',\n",
    " 'Las Palmas',\n",
    " 'León',\n",
    " 'Córdoba',\n",
    " 'La Coruña',\n",
    " 'Guadalajara',\n",
    " 'Cuenca',\n",
    " 'Albacete',\n",
    " 'Navarra',\n",
    " 'Tarragona',\n",
    " 'Gerona',\n",
    " 'Zamora',\n",
    " 'Cádiz',\n",
    " 'Ciudad Real',\n",
    " 'Badajoz',\n",
    " 'Pontevedra',\n",
    " 'Orense',\n",
    " 'Zaragoza',\n",
    " 'Almería',\n",
    " 'Valladolid',\n",
    " 'Málaga',\n",
    " 'Sevilla',\n",
    " 'Islas Baleares',\n",
    " 'Cáceres',\n",
    " 'Granada',\n",
    " 'Vizcaya',\n",
    " 'Soria',\n",
    " 'Teruel',\n",
    " 'Santa Cruz de Tenerife']])\n"
   ]
  },
  {
   "cell_type": "code",
   "execution_count": 61,
   "id": "ba1c61a1",
   "metadata": {},
   "outputs": [],
   "source": [
    "# Ajustamos el codificador con la variable education y la transformamos\n",
    "encoder.fit(df[[\"provincia\"]])\n",
    "df[\"provincia\"] = encoder.transform(df[[\"provincia\"]])"
   ]
  },
  {
   "cell_type": "code",
   "execution_count": 80,
   "id": "8a23822c",
   "metadata": {},
   "outputs": [],
   "source": [
    "# Creamos el codificador indicandole el orden de la variables\n",
    "encoder = OrdinalEncoder(categories=[['La Rioja', 'País Vasco', 'Castilla-La Mancha', 'Galicia',\n",
    "       'Cataluña', 'Andalucía', 'Comunidad Valenciana',\n",
    "       'Comunidad de Madrid', 'Islas Canarias', 'Castilla y León',\n",
    "       'Aragón', 'Navarra', 'Extremadura', 'Asturias', 'Islas Baleares',\n",
    "       'Cantabria', 'Región de Murcia']])"
   ]
  },
  {
   "cell_type": "code",
   "execution_count": 81,
   "id": "ed6fe28b",
   "metadata": {},
   "outputs": [],
   "source": [
    "# Ajustamos el codificador con la variable education y la transformamos\n",
    "encoder.fit(df[['comunidad autónoma']])\n",
    "df['comunidad autónoma'] = encoder.transform(df[['comunidad autónoma']])"
   ]
  },
  {
   "cell_type": "code",
   "execution_count": 62,
   "id": "bb91a0ab",
   "metadata": {},
   "outputs": [],
   "source": [
    "df[\"incidencia\"].fillna(0, inplace = True) "
   ]
  },
  {
   "cell_type": "code",
   "execution_count": 63,
   "id": "70608750",
   "metadata": {},
   "outputs": [],
   "source": [
    "df[\"incidencia\"]=(df[\"incidencia\"]).replace({'SI':1})"
   ]
  },
  {
   "cell_type": "code",
   "execution_count": 64,
   "id": "c7870c70",
   "metadata": {},
   "outputs": [],
   "source": [
    "df[\"financiacion\"].fillna(0, inplace = True) "
   ]
  },
  {
   "cell_type": "code",
   "execution_count": 65,
   "id": "73a42708",
   "metadata": {},
   "outputs": [],
   "source": [
    "df[\"financiacion\"]=(df[\"financiacion\"]).replace({'SI':1})"
   ]
  },
  {
   "cell_type": "code",
   "execution_count": 66,
   "id": "e9301347",
   "metadata": {},
   "outputs": [],
   "source": [
    "df[\"descuentos\"].fillna(0, inplace = True) "
   ]
  },
  {
   "cell_type": "code",
   "execution_count": 67,
   "id": "7fd9832b",
   "metadata": {},
   "outputs": [],
   "source": [
    "df[\"descuentos\"]=(df[\"descuentos\"]).replace({'SI':1})"
   ]
  },
  {
   "cell_type": "code",
   "execution_count": 68,
   "id": "b01fe0a4",
   "metadata": {},
   "outputs": [],
   "source": [
    "df[\"conexion\"]=(df[\"conexion\"]).replace({'ADSL':1})"
   ]
  },
  {
   "cell_type": "code",
   "execution_count": 69,
   "id": "fe3aaaa0",
   "metadata": {},
   "outputs": [],
   "source": [
    "df[\"conexion\"]=(df[\"conexion\"]).replace({'FIBRA':2})"
   ]
  },
  {
   "cell_type": "code",
   "execution_count": 70,
   "id": "b9c84e88",
   "metadata": {},
   "outputs": [],
   "source": [
    "df[\"conexion\"].fillna(1, inplace = True) "
   ]
  },
  {
   "cell_type": "code",
   "execution_count": 71,
   "id": "e90c189f",
   "metadata": {},
   "outputs": [],
   "source": [
    "df[\"imp_financ\"].fillna(0, inplace = True) "
   ]
  },
  {
   "cell_type": "code",
   "execution_count": 72,
   "id": "d32b06e2",
   "metadata": {},
   "outputs": [],
   "source": [
    "df[\"num_dt\"].fillna(0, inplace = True) "
   ]
  },
  {
   "cell_type": "code",
   "execution_count": 73,
   "id": "52dc9729",
   "metadata": {},
   "outputs": [],
   "source": [
    "dummy_TV = pd.get_dummies(df[\"TV\"], prefix= \"TV\")\n"
   ]
  },
  {
   "cell_type": "code",
   "execution_count": 83,
   "id": "f6ddf55c",
   "metadata": {},
   "outputs": [],
   "source": [
    "df.isnull().sum()\n",
    "df_VIF=df "
   ]
  },
  {
   "cell_type": "code",
   "execution_count": 84,
   "id": "690d77a5",
   "metadata": {},
   "outputs": [],
   "source": [
    "df_VIF['TV']=df_VIF['TV'].replace({'tv-total':0, 'tv-familiar':2, 'tv-futbol':3}, inplace=True)"
   ]
  },
  {
   "cell_type": "code",
   "execution_count": 85,
   "id": "dff7446c",
   "metadata": {},
   "outputs": [],
   "source": [
    "df=pd.concat([df, dummy_TV], axis=1)\n"
   ]
  },
  {
   "cell_type": "code",
   "execution_count": 86,
   "id": "0973b7e2",
   "metadata": {},
   "outputs": [],
   "source": [
    "df=df.drop(['TV'], axis=1)"
   ]
  },
  {
   "cell_type": "markdown",
   "id": "568a3a60",
   "metadata": {},
   "source": [
    "### Factor de Inflacion de Varianza (VIF)"
   ]
  },
  {
   "cell_type": "markdown",
   "id": "219e1aeb",
   "metadata": {},
   "source": [
    "con este factor se comprueba si existe multicolinealidad, con ello evitamos añadir más de una variable que explique un mismo comportamiento de la respuesta "
   ]
  },
  {
   "cell_type": "code",
   "execution_count": 87,
   "id": "d61eea67",
   "metadata": {},
   "outputs": [],
   "source": [
    "def CalculadorVIF(datos):\n",
    "    caracteristic = list(datos.columns)\n",
    "    \n",
    "    len_car = len(caracteristic)\n",
    "    \n",
    "    VIF = pd.DataFrame(index = ['VIF'], columns = caracteristic)\n",
    "    \n",
    "    VIF = VIF.fillna(0)\n",
    "    \n",
    "    for i in range(len_car):\n",
    "        x_car = caracteristic[:]\n",
    "        y_car = caracteristic[i]\n",
    "        x_car.remove(y_car)\n",
    "        \n",
    "        x = datos[x_car]\n",
    "        y = datos[ y_car]\n",
    "        model = LinearRegression()\n",
    "        model.fit(datos[x_car], datos[ y_car])\n",
    "        \n",
    "        VIF[y_car] = 1/(1 - model.score(datos[x_car], datos[ y_car]))\n",
    "    \n",
    "    return VIF\n",
    "\n",
    "    "
   ]
  },
  {
   "cell_type": "code",
   "execution_count": 88,
   "id": "33ce4779",
   "metadata": {},
   "outputs": [
    {
     "name": "stdout",
     "output_type": "stream",
     "text": [
      "<class 'pandas.core.frame.DataFrame'>\n",
      "Int64Index: 188178 entries, 0 to 188177\n",
      "Data columns (total 24 columns):\n",
      " #   Column              Non-Null Count   Dtype  \n",
      "---  ------              --------------   -----  \n",
      " 0   id                  188178 non-null  int64  \n",
      " 1   edad                188178 non-null  int64  \n",
      " 2   facturacion         188178 non-null  float64\n",
      " 3   antiguedad          188178 non-null  int64  \n",
      " 4   provincia           188178 non-null  float64\n",
      " 5   num_lineas          188178 non-null  int64  \n",
      " 6   num_dt              188178 non-null  float64\n",
      " 7   incidencia          188178 non-null  int64  \n",
      " 8   num_llamad_ent      188178 non-null  int64  \n",
      " 9   num_llamad_sal      188178 non-null  int64  \n",
      " 10  mb_datos            188178 non-null  int64  \n",
      " 11  seg_llamad_ent      188178 non-null  int64  \n",
      " 12  seg_llamad_sal      188178 non-null  int64  \n",
      " 13  financiacion        188178 non-null  int64  \n",
      " 14  imp_financ          188178 non-null  float64\n",
      " 15  descuentos          188178 non-null  int64  \n",
      " 16  conexion            188178 non-null  float64\n",
      " 17  vel_conexion        188178 non-null  int64  \n",
      " 18  mes                 188178 non-null  object \n",
      " 19  cant_dias           188178 non-null  int64  \n",
      " 20  comunidad autónoma  188178 non-null  float64\n",
      " 21  TV_tv-familiar      188178 non-null  uint8  \n",
      " 22  TV_tv-futbol        188178 non-null  uint8  \n",
      " 23  TV_tv-total         188178 non-null  uint8  \n",
      "dtypes: float64(6), int64(14), object(1), uint8(3)\n",
      "memory usage: 32.1+ MB\n"
     ]
    }
   ],
   "source": [
    "df.info()"
   ]
  },
  {
   "cell_type": "code",
   "execution_count": 89,
   "id": "d562495b",
   "metadata": {},
   "outputs": [
    {
     "data": {
      "text/html": [
       "<div>\n",
       "<style scoped>\n",
       "    .dataframe tbody tr th:only-of-type {\n",
       "        vertical-align: middle;\n",
       "    }\n",
       "\n",
       "    .dataframe tbody tr th {\n",
       "        vertical-align: top;\n",
       "    }\n",
       "\n",
       "    .dataframe thead th {\n",
       "        text-align: right;\n",
       "    }\n",
       "</style>\n",
       "<table border=\"1\" class=\"dataframe\">\n",
       "  <thead>\n",
       "    <tr style=\"text-align: right;\">\n",
       "      <th></th>\n",
       "      <th>id</th>\n",
       "      <th>edad</th>\n",
       "      <th>facturacion</th>\n",
       "      <th>antiguedad</th>\n",
       "      <th>provincia</th>\n",
       "      <th>num_lineas</th>\n",
       "      <th>num_dt</th>\n",
       "      <th>incidencia</th>\n",
       "      <th>num_llamad_ent</th>\n",
       "      <th>num_llamad_sal</th>\n",
       "      <th>mb_datos</th>\n",
       "      <th>seg_llamad_ent</th>\n",
       "      <th>seg_llamad_sal</th>\n",
       "      <th>financiacion</th>\n",
       "      <th>imp_financ</th>\n",
       "      <th>descuentos</th>\n",
       "      <th>conexion</th>\n",
       "      <th>vel_conexion</th>\n",
       "      <th>cant_dias</th>\n",
       "      <th>comunidad autónoma</th>\n",
       "    </tr>\n",
       "  </thead>\n",
       "  <tbody>\n",
       "    <tr>\n",
       "      <th>VIF</th>\n",
       "      <td>1.000336</td>\n",
       "      <td>1.00652</td>\n",
       "      <td>1.271432</td>\n",
       "      <td>613.229155</td>\n",
       "      <td>1.001431</td>\n",
       "      <td>1.270994</td>\n",
       "      <td>1.009712</td>\n",
       "      <td>1.009453</td>\n",
       "      <td>1.000099</td>\n",
       "      <td>1.000167</td>\n",
       "      <td>1.000079</td>\n",
       "      <td>1.000159</td>\n",
       "      <td>1.000216</td>\n",
       "      <td>5.468743</td>\n",
       "      <td>5.466051</td>\n",
       "      <td>1.010409</td>\n",
       "      <td>1.669751</td>\n",
       "      <td>1.669056</td>\n",
       "      <td>613.227831</td>\n",
       "      <td>1.001426</td>\n",
       "    </tr>\n",
       "  </tbody>\n",
       "</table>\n",
       "</div>"
      ],
      "text/plain": [
       "           id     edad  facturacion  antiguedad  provincia  num_lineas  \\\n",
       "VIF  1.000336  1.00652     1.271432  613.229155   1.001431    1.270994   \n",
       "\n",
       "       num_dt  incidencia  num_llamad_ent  num_llamad_sal  mb_datos  \\\n",
       "VIF  1.009712    1.009453        1.000099        1.000167  1.000079   \n",
       "\n",
       "     seg_llamad_ent  seg_llamad_sal  financiacion  imp_financ  descuentos  \\\n",
       "VIF        1.000159        1.000216      5.468743    5.466051    1.010409   \n",
       "\n",
       "     conexion  vel_conexion   cant_dias  comunidad autónoma  \n",
       "VIF  1.669751      1.669056  613.227831            1.001426  "
      ]
     },
     "execution_count": 89,
     "metadata": {},
     "output_type": "execute_result"
    }
   ],
   "source": [
    "dfVif = df_VIF.copy(deep = True)\n",
    "caracteristica = list(df_VIF.columns)\n",
    "caracteristica.remove('mes')\n",
    "caracteristica.remove('TV')\n",
    "df_vif = dfVif[caracteristica]\n",
    "CalculadorVIF(df_vif)"
   ]
  },
  {
   "cell_type": "markdown",
   "id": "a1dca23d",
   "metadata": {},
   "source": [
    "Como se había mencionado con anterioridad, la financiación y el impago tienen una multicolinealidad alta, por tal motivo, es ideal quitar una de ellas. Como cabe de esperarse que a mayor número de lídeas en impago, será mayor la probabilidad de abandono de la compañía y el VIF es inferior al de la financiación, se procederá a eliminar la variable financiación del modelo. El resto de variables tiene un VIF bueno."
   ]
  },
  {
   "cell_type": "markdown",
   "id": "b04c0ad0",
   "metadata": {},
   "source": [
    "### Modelado "
   ]
  },
  {
   "cell_type": "code",
   "execution_count": 90,
   "id": "224b7a1f",
   "metadata": {
    "scrolled": true
   },
   "outputs": [
    {
     "name": "stderr",
     "output_type": "stream",
     "text": [
      "C:\\Users\\cinzi\\AppData\\Local\\Temp\\ipykernel_22756\\325191542.py:3: SettingWithCopyWarning: \n",
      "A value is trying to be set on a copy of a slice from a DataFrame\n",
      "\n",
      "See the caveats in the documentation: https://pandas.pydata.org/pandas-docs/stable/user_guide/indexing.html#returning-a-view-versus-a-copy\n",
      "  dftrain.drop('mes', axis=1, inplace=True)\n",
      "C:\\Users\\cinzi\\AppData\\Local\\Temp\\ipykernel_22756\\325191542.py:4: SettingWithCopyWarning: \n",
      "A value is trying to be set on a copy of a slice from a DataFrame\n",
      "\n",
      "See the caveats in the documentation: https://pandas.pydata.org/pandas-docs/stable/user_guide/indexing.html#returning-a-view-versus-a-copy\n",
      "  dftest.drop('mes', axis=1, inplace=True)\n"
     ]
    }
   ],
   "source": [
    "dftrain = df[df['mes']=='diciembre']\n",
    "dftest = df[df['mes']=='enero']\n",
    "dftrain.drop('mes', axis=1, inplace=True)\n",
    "dftest.drop('mes', axis=1, inplace=True)"
   ]
  },
  {
   "cell_type": "markdown",
   "id": "04af9652",
   "metadata": {},
   "source": [
    "## MODELO 1"
   ]
  },
  {
   "cell_type": "code",
   "execution_count": 91,
   "id": "4b323c1d",
   "metadata": {},
   "outputs": [],
   "source": [
    "x = dftrain\n",
    "y = target\n",
    "x_train, x_test, y_train, y_test = train_test_split(x, y,test_size=0.33,random_state=1)"
   ]
  },
  {
   "cell_type": "code",
   "execution_count": 92,
   "id": "8f409dca",
   "metadata": {},
   "outputs": [],
   "source": [
    "def metricas(y1, y2):\n",
    "    print('matriz de confusión')\n",
    "    print(confusion_matrix(y1, y2))\n",
    "    print('accuracy')\n",
    "    print(accuracy_score(y1, y2))\n",
    "    print('precision')\n",
    "    print(precision_score(y1, y2))\n",
    "    print('recall')\n",
    "    print(recall_score(y1, y2))\n",
    "    print('f1')\n",
    "    print(f1_score(y1, y2))\n",
    "    false_positive_rate, recall, thresholds = roc_curve(y1, y2)\n",
    "    roc_auc = auc(false_positive_rate, recall)\n",
    "    print('AUC')\n",
    "    print(roc_auc)\n",
    "    plt.plot(false_positive_rate, recall, 'b')\n",
    "    plt.plot([0, 1], [0, 1], 'r--')\n",
    "    plt.title('AUC = %0.2f' % roc_auc)"
   ]
  },
  {
   "cell_type": "code",
   "execution_count": 93,
   "id": "ad184ea3",
   "metadata": {},
   "outputs": [
    {
     "name": "stderr",
     "output_type": "stream",
     "text": [
      "C:\\Users\\cinzi\\anaconda3\\lib\\site-packages\\sklearn\\utils\\validation.py:1111: DataConversionWarning: A column-vector y was passed when a 1d array was expected. Please change the shape of y to (n_samples, ), for example using ravel().\n",
      "  y = column_or_1d(y, warn=True)\n"
     ]
    },
    {
     "name": "stdout",
     "output_type": "stream",
     "text": [
      "matriz de confusión\n",
      "[[28924   179]\n",
      " [ 1329  1073]]\n",
      "accuracy\n",
      "0.9521345818124107\n",
      "precision\n",
      "0.8570287539936102\n",
      "recall\n",
      "0.44671107410491256\n",
      "f1\n",
      "0.5873015873015872\n",
      "AUC\n",
      "0.720280252717508\n"
     ]
    },
    {
     "data": {
      "image/png": "[encoded data removed]",
      "text/plain": [
       "<Figure size 432x288 with 1 Axes>"
      ]
     },
     "metadata": {
      "needs_background": "light"
     },
     "output_type": "display_data"
    }
   ],
   "source": [
    "model1 = make_pipeline(StandardScaler(), LogisticRegression())\n",
    "model1.fit(x_train, y_train)\n",
    "y_pred     = model1.predict(x_test)\n",
    "metricas(y_test, y_pred)"
   ]
  },
  {
   "cell_type": "raw",
   "id": "b2f24a5a",
   "metadata": {},
   "source": [
    "La matriz de confusión nos muestra que han sido clasificados correctamente la mayoría de los elementos, como cabe de esperarse se presentan mayor número de falsos negativos, ya que hay menor cantidad de casos para aprender. \n",
    "\n",
    "Se presenta un accuracy  superior del 90%, lo que se considera elevado, esto nos quiere decir que en general los elementos fueron clasificados correctamente. Por otro lado, si nos fijamos en la precisión este nos indica el porcentaje de fugados, respecto a los que fueron clasificados como tal, un valor como se muestra de 0.85, se puede decir que es un buen modelo. Sin embargo, la sensibilidad, que es la proporción de casos positivos que fueron correctamente identificadas por el algoritmo, no es tan buena. Es decir, el modelo sólo es capaz de identificar un 0.44 de los clientes que estarían en riesgo de fuga. Por último, el AUC, que es el área que se encuentra por debajo de la curva ROC. El cual nos muestra que entre más se aproxime a 1, significa que el modelo es capaz de predecir mejor la fuga o no fuga de clientes. Si el modelo tiene un AUC de 0.5, significa que no es capaz de predecir, mientras que si se es superior a un 0.7, podemos decir que se trata de un modelo bueno o aceptable."
   ]
  },
  {
   "cell_type": "code",
   "execution_count": 95,
   "id": "55abdb72",
   "metadata": {},
   "outputs": [],
   "source": [
    "df_corr= pd.concat([dftrain, target], axis=1)"
   ]
  },
  {
   "cell_type": "code",
   "execution_count": 96,
   "id": "87344555",
   "metadata": {},
   "outputs": [],
   "source": [
    "df_corr = abs(df_corr.corr())"
   ]
  },
  {
   "cell_type": "code",
   "execution_count": 97,
   "id": "6654343a",
   "metadata": {},
   "outputs": [
    {
     "data": {
      "text/html": [
       "<style type=\"text/css\">\n",
       "#T_0317b_row0_col0 {\n",
       "  background-color: #023858;\n",
       "  color: #f1f1f1;\n",
       "}\n",
       "#T_0317b_row1_col0 {\n",
       "  background-color: #bbc7e0;\n",
       "  color: #000000;\n",
       "}\n",
       "#T_0317b_row2_col0 {\n",
       "  background-color: #c1cae2;\n",
       "  color: #000000;\n",
       "}\n",
       "#T_0317b_row3_col0 {\n",
       "  background-color: #c6cce3;\n",
       "  color: #000000;\n",
       "}\n",
       "#T_0317b_row4_col0 {\n",
       "  background-color: #e6e2ef;\n",
       "  color: #000000;\n",
       "}\n",
       "#T_0317b_row5_col0 {\n",
       "  background-color: #e8e4f0;\n",
       "  color: #000000;\n",
       "}\n",
       "#T_0317b_row6_col0 {\n",
       "  background-color: #eee9f3;\n",
       "  color: #000000;\n",
       "}\n",
       "#T_0317b_row7_col0 {\n",
       "  background-color: #f3edf5;\n",
       "  color: #000000;\n",
       "}\n",
       "#T_0317b_row8_col0 {\n",
       "  background-color: #f4edf6;\n",
       "  color: #000000;\n",
       "}\n",
       "#T_0317b_row9_col0 {\n",
       "  background-color: #f5eef6;\n",
       "  color: #000000;\n",
       "}\n",
       "#T_0317b_row10_col0 {\n",
       "  background-color: #f7f0f7;\n",
       "  color: #000000;\n",
       "}\n",
       "#T_0317b_row11_col0 {\n",
       "  background-color: #fef6fb;\n",
       "  color: #000000;\n",
       "}\n",
       "#T_0317b_row12_col0, #T_0317b_row13_col0, #T_0317b_row14_col0, #T_0317b_row15_col0, #T_0317b_row16_col0, #T_0317b_row17_col0, #T_0317b_row18_col0, #T_0317b_row19_col0, #T_0317b_row20_col0, #T_0317b_row21_col0, #T_0317b_row22_col0, #T_0317b_row23_col0 {\n",
       "  background-color: #fff7fb;\n",
       "  color: #000000;\n",
       "}\n",
       "</style>\n",
       "<table id=\"T_0317b\">\n",
       "  <thead>\n",
       "    <tr>\n",
       "      <th class=\"blank level0\" >&nbsp;</th>\n",
       "      <th id=\"T_0317b_level0_col0\" class=\"col_heading level0 col0\" >target</th>\n",
       "    </tr>\n",
       "  </thead>\n",
       "  <tbody>\n",
       "    <tr>\n",
       "      <th id=\"T_0317b_level0_row0\" class=\"row_heading level0 row0\" >target</th>\n",
       "      <td id=\"T_0317b_row0_col0\" class=\"data row0 col0\" >1.000000</td>\n",
       "    </tr>\n",
       "    <tr>\n",
       "      <th id=\"T_0317b_level0_row1\" class=\"row_heading level0 row1\" >num_dt</th>\n",
       "      <td id=\"T_0317b_row1_col0\" class=\"data row1 col0\" >0.312795</td>\n",
       "    </tr>\n",
       "    <tr>\n",
       "      <th id=\"T_0317b_level0_row2\" class=\"row_heading level0 row2\" >edad</th>\n",
       "      <td id=\"T_0317b_row2_col0\" class=\"data row2 col0\" >0.296835</td>\n",
       "    </tr>\n",
       "    <tr>\n",
       "      <th id=\"T_0317b_level0_row3\" class=\"row_heading level0 row3\" >incidencia</th>\n",
       "      <td id=\"T_0317b_row3_col0\" class=\"data row3 col0\" >0.277408</td>\n",
       "    </tr>\n",
       "    <tr>\n",
       "      <th id=\"T_0317b_level0_row4\" class=\"row_heading level0 row4\" >TV_tv-futbol</th>\n",
       "      <td id=\"T_0317b_row4_col0\" class=\"data row4 col0\" >0.152493</td>\n",
       "    </tr>\n",
       "    <tr>\n",
       "      <th id=\"T_0317b_level0_row5\" class=\"row_heading level0 row5\" >descuentos</th>\n",
       "      <td id=\"T_0317b_row5_col0\" class=\"data row5 col0\" >0.141447</td>\n",
       "    </tr>\n",
       "    <tr>\n",
       "      <th id=\"T_0317b_level0_row6\" class=\"row_heading level0 row6\" >TV_tv-total</th>\n",
       "      <td id=\"T_0317b_row6_col0\" class=\"data row6 col0\" >0.111106</td>\n",
       "    </tr>\n",
       "    <tr>\n",
       "      <th id=\"T_0317b_level0_row7\" class=\"row_heading level0 row7\" >TV_tv-familiar</th>\n",
       "      <td id=\"T_0317b_row7_col0\" class=\"data row7 col0\" >0.079990</td>\n",
       "    </tr>\n",
       "    <tr>\n",
       "      <th id=\"T_0317b_level0_row8\" class=\"row_heading level0 row8\" >financiacion</th>\n",
       "      <td id=\"T_0317b_row8_col0\" class=\"data row8 col0\" >0.074597</td>\n",
       "    </tr>\n",
       "    <tr>\n",
       "      <th id=\"T_0317b_level0_row9\" class=\"row_heading level0 row9\" >imp_financ</th>\n",
       "      <td id=\"T_0317b_row9_col0\" class=\"data row9 col0\" >0.067626</td>\n",
       "    </tr>\n",
       "    <tr>\n",
       "      <th id=\"T_0317b_level0_row10\" class=\"row_heading level0 row10\" >conexion</th>\n",
       "      <td id=\"T_0317b_row10_col0\" class=\"data row10 col0\" >0.051478</td>\n",
       "    </tr>\n",
       "    <tr>\n",
       "      <th id=\"T_0317b_level0_row11\" class=\"row_heading level0 row11\" >num_llamad_ent</th>\n",
       "      <td id=\"T_0317b_row11_col0\" class=\"data row11 col0\" >0.006130</td>\n",
       "    </tr>\n",
       "    <tr>\n",
       "      <th id=\"T_0317b_level0_row12\" class=\"row_heading level0 row12\" >antiguedad</th>\n",
       "      <td id=\"T_0317b_row12_col0\" class=\"data row12 col0\" >0.003310</td>\n",
       "    </tr>\n",
       "    <tr>\n",
       "      <th id=\"T_0317b_level0_row13\" class=\"row_heading level0 row13\" >cant_dias</th>\n",
       "      <td id=\"T_0317b_row13_col0\" class=\"data row13 col0\" >0.003146</td>\n",
       "    </tr>\n",
       "    <tr>\n",
       "      <th id=\"T_0317b_level0_row14\" class=\"row_heading level0 row14\" >num_llamad_sal</th>\n",
       "      <td id=\"T_0317b_row14_col0\" class=\"data row14 col0\" >0.003141</td>\n",
       "    </tr>\n",
       "    <tr>\n",
       "      <th id=\"T_0317b_level0_row15\" class=\"row_heading level0 row15\" >facturacion</th>\n",
       "      <td id=\"T_0317b_row15_col0\" class=\"data row15 col0\" >0.002846</td>\n",
       "    </tr>\n",
       "    <tr>\n",
       "      <th id=\"T_0317b_level0_row16\" class=\"row_heading level0 row16\" >vel_conexion</th>\n",
       "      <td id=\"T_0317b_row16_col0\" class=\"data row16 col0\" >0.002445</td>\n",
       "    </tr>\n",
       "    <tr>\n",
       "      <th id=\"T_0317b_level0_row17\" class=\"row_heading level0 row17\" >num_lineas</th>\n",
       "      <td id=\"T_0317b_row17_col0\" class=\"data row17 col0\" >0.001725</td>\n",
       "    </tr>\n",
       "    <tr>\n",
       "      <th id=\"T_0317b_level0_row18\" class=\"row_heading level0 row18\" >mb_datos</th>\n",
       "      <td id=\"T_0317b_row18_col0\" class=\"data row18 col0\" >0.001201</td>\n",
       "    </tr>\n",
       "    <tr>\n",
       "      <th id=\"T_0317b_level0_row19\" class=\"row_heading level0 row19\" >comunidad autónoma</th>\n",
       "      <td id=\"T_0317b_row19_col0\" class=\"data row19 col0\" >0.001137</td>\n",
       "    </tr>\n",
       "    <tr>\n",
       "      <th id=\"T_0317b_level0_row20\" class=\"row_heading level0 row20\" >id</th>\n",
       "      <td id=\"T_0317b_row20_col0\" class=\"data row20 col0\" >0.000866</td>\n",
       "    </tr>\n",
       "    <tr>\n",
       "      <th id=\"T_0317b_level0_row21\" class=\"row_heading level0 row21\" >seg_llamad_sal</th>\n",
       "      <td id=\"T_0317b_row21_col0\" class=\"data row21 col0\" >0.000213</td>\n",
       "    </tr>\n",
       "    <tr>\n",
       "      <th id=\"T_0317b_level0_row22\" class=\"row_heading level0 row22\" >seg_llamad_ent</th>\n",
       "      <td id=\"T_0317b_row22_col0\" class=\"data row22 col0\" >0.000139</td>\n",
       "    </tr>\n",
       "    <tr>\n",
       "      <th id=\"T_0317b_level0_row23\" class=\"row_heading level0 row23\" >provincia</th>\n",
       "      <td id=\"T_0317b_row23_col0\" class=\"data row23 col0\" >0.000001</td>\n",
       "    </tr>\n",
       "  </tbody>\n",
       "</table>\n"
      ],
      "text/plain": [
       "<pandas.io.formats.style.Styler at 0x1ab08e54370>"
      ]
     },
     "execution_count": 97,
     "metadata": {},
     "output_type": "execute_result"
    }
   ],
   "source": [
    "df_corr[['target']].sort_values(by = 'target',ascending = False).style.background_gradient()"
   ]
  },
  {
   "cell_type": "markdown",
   "id": "5e93eedf",
   "metadata": {},
   "source": [
    "Se puede apreciar que las variables más influyentes son el número de lineas de impago, la edad, la incidencia, descuento. Estas  variables explican más del 80% de la predicción. Por tal motivo, para mejorar el modelo y hacerlo más simple se puede reducir el número de variables (quitando id que sabemos que no tiene ninguna relación con el target y todas las siguientes al id)"
   ]
  },
  {
   "cell_type": "markdown",
   "id": "e8a34228",
   "metadata": {},
   "source": [
    "## MODELO 2\n"
   ]
  },
  {
   "cell_type": "code",
   "execution_count": 116,
   "id": "045e72ac",
   "metadata": {},
   "outputs": [],
   "source": [
    "df_simple= dftrain[['edad', 'facturacion', 'antiguedad', 'num_lineas',\n",
    "       'num_dt', 'incidencia', 'num_llamad_ent', 'num_llamad_sal', 'mb_datos','financiacion', 'imp_financ',\n",
    "       'descuentos', 'conexion', 'vel_conexion',\n",
    "       'comunidad autónoma', 'TV_tv-familiar', 'TV_tv-futbol', 'TV_tv-total']]"
   ]
  },
  {
   "cell_type": "code",
   "execution_count": 144,
   "id": "8167263b",
   "metadata": {},
   "outputs": [],
   "source": [
    "df_simple['mes_Antiguedad']=(Tiempo['antiguedad']).dt.month\n",
    "df_simple['dia_Antiguedad']=Tiempo['antiguedad'].dt.dayofweek\n",
    "df_simple['hora_Antiguedad']=(Tiempo['antiguedad']).dt.hour"
   ]
  },
  {
   "cell_type": "raw",
   "id": "b2a3372e",
   "metadata": {},
   "source": [
    "Leyenda de la función\n",
    "1:'Early Morning'\n",
    "2:'Morning'\n",
    "3:'Noon'\n",
    "4:'Eve'\n",
    "5:'Night'\n",
    "6:'Late Night'"
   ]
  },
  {
   "cell_type": "code",
   "execution_count": 131,
   "id": "c1e65eb9",
   "metadata": {},
   "outputs": [],
   "source": [
    "def f(x):\n",
    "    if (x > 4) and (x <= 8):\n",
    "        return 1\n",
    "    elif (x > 8) and (x <= 12 ):\n",
    "        return 2\n",
    "    elif (x > 12) and (x <= 16):\n",
    "        return 3\n",
    "    elif (x > 16) and (x <= 20) :\n",
    "        return 4\n",
    "    elif (x > 20) and (x <= 24):\n",
    "        return 5\n",
    "    elif (x <= 4):\n",
    "        return 6"
   ]
  },
  {
   "cell_type": "code",
   "execution_count": 132,
   "id": "2d809d0d",
   "metadata": {},
   "outputs": [],
   "source": [
    " df_simple['turno']=df_simple['hora_Antiguedad'].apply(f)"
   ]
  },
  {
   "cell_type": "code",
   "execution_count": 102,
   "id": "a8a3c67d",
   "metadata": {},
   "outputs": [
    {
     "name": "stderr",
     "output_type": "stream",
     "text": [
      "C:\\Users\\cinzi\\AppData\\Local\\Temp\\ipykernel_22756\\544382600.py:1: SettingWithCopyWarning: \n",
      "A value is trying to be set on a copy of a slice from a DataFrame.\n",
      "Try using .loc[row_indexer,col_indexer] = value instead\n",
      "\n",
      "See the caveats in the documentation: https://pandas.pydata.org/pandas-docs/stable/user_guide/indexing.html#returning-a-view-versus-a-copy\n",
      "  df_simple['antiguedad_real']= (pd.to_datetime('2019-12-31')-pd.to_datetime(Tiempo['antiguedad'])).dt.days\n"
     ]
    }
   ],
   "source": [
    "df_simple['antiguedad_real']= (pd.to_datetime('2019-12-31')-pd.to_datetime(Tiempo['antiguedad'])).dt.days\n"
   ]
  },
  {
   "cell_type": "code",
   "execution_count": 151,
   "id": "8f7a02b2",
   "metadata": {},
   "outputs": [],
   "source": [
    "list_corr=['edad', 'facturacion', 'antiguedad', 'num_lineas', 'num_dt',\n",
    "       'incidencia', 'num_llamad_ent', 'num_llamad_sal', 'mb_datos',\n",
    "       'financiacion', 'imp_financ', 'descuentos', 'conexion', 'vel_conexion',\n",
    "       'cant_dias', 'comunidad autónoma', 'TV_tv-familiar', 'TV_tv-futbol',\n",
    "       'TV_tv-total', 'mes_Antiguedad', 'dia_Antiguedad', 'hora_Antiguedad',\n",
    "       'turno']\n",
    "\n",
    "\n",
    "df_corr= df_simple[list_corr]"
   ]
  },
  {
   "cell_type": "code",
   "execution_count": 159,
   "id": "b9a953b4",
   "metadata": {},
   "outputs": [
    {
     "data": {
      "text/plain": [
       "<AxesSubplot:>"
      ]
     },
     "execution_count": 159,
     "metadata": {},
     "output_type": "execute_result"
    },
    {
     "data": {
      "image/png": "[encoded data removed]",
      "text/plain": [
       "<Figure size 432x288 with 2 Axes>"
      ]
     },
     "metadata": {
      "needs_background": "light"
     },
     "output_type": "display_data"
    }
   ],
   "source": [
    "matrix= df_corr.corr()\n",
    "sns.heatmap(matrix)\n",
    "\n",
    "#Existe correlacion negativa entre facturación y tv-familiar. Por lo que se puede decir que los que tienen la tv familiar, pagan menos que aquellos que tienen otros servicios contratados"
   ]
  },
  {
   "cell_type": "code",
   "execution_count": 160,
   "id": "9456b53b",
   "metadata": {},
   "outputs": [],
   "source": [
    "x = df_simple\n",
    "y = target\n",
    "x_train, x_test, y_train, y_test = train_test_split(x, y,test_size=0.33,random_state=1)"
   ]
  },
  {
   "cell_type": "code",
   "execution_count": 161,
   "id": "47433df8",
   "metadata": {},
   "outputs": [
    {
     "name": "stderr",
     "output_type": "stream",
     "text": [
      "C:\\Users\\cinzi\\anaconda3\\lib\\site-packages\\sklearn\\utils\\validation.py:1111: DataConversionWarning: A column-vector y was passed when a 1d array was expected. Please change the shape of y to (n_samples, ), for example using ravel().\n",
      "  y = column_or_1d(y, warn=True)\n"
     ]
    },
    {
     "name": "stdout",
     "output_type": "stream",
     "text": [
      "matriz de confusión\n",
      "[[28927   176]\n",
      " [ 1328  1074]]\n",
      "accuracy\n",
      "0.9522615457863831\n",
      "precision\n",
      "0.8592\n",
      "recall\n",
      "0.44712739383846795\n",
      "f1\n",
      "0.588170865279299\n",
      "AUC\n",
      "0.720539953662525\n"
     ]
    },
    {
     "data": {
      "image/png": "[encoded data removed]",
      "text/plain": [
       "<Figure size 432x288 with 1 Axes>"
      ]
     },
     "metadata": {
      "needs_background": "light"
     },
     "output_type": "display_data"
    }
   ],
   "source": [
    "model2 = make_pipeline(StandardScaler(), LogisticRegression(solver='newton-cg'))\n",
    "model2.fit(x_train, y_train)\n",
    "y_pred2     = model2.predict(x_test)\n",
    "metricas(y_test, y_pred)"
   ]
  },
  {
   "cell_type": "code",
   "execution_count": 162,
   "id": "6d1d1dc9",
   "metadata": {},
   "outputs": [],
   "source": [
    "df_corr= pd.concat([df_simple, target], axis=1)"
   ]
  },
  {
   "cell_type": "code",
   "execution_count": 163,
   "id": "cda75747",
   "metadata": {},
   "outputs": [],
   "source": [
    "df_corr = abs(df_corr.corr())"
   ]
  },
  {
   "cell_type": "code",
   "execution_count": 164,
   "id": "bbc334f3",
   "metadata": {},
   "outputs": [
    {
     "data": {
      "text/html": [
       "<style type=\"text/css\">\n",
       "#T_24389_row0_col0 {\n",
       "  background-color: #023858;\n",
       "  color: #f1f1f1;\n",
       "}\n",
       "#T_24389_row1_col0 {\n",
       "  background-color: #bcc7e1;\n",
       "  color: #000000;\n",
       "}\n",
       "#T_24389_row2_col0 {\n",
       "  background-color: #c1cae2;\n",
       "  color: #000000;\n",
       "}\n",
       "#T_24389_row3_col0 {\n",
       "  background-color: #c8cde4;\n",
       "  color: #000000;\n",
       "}\n",
       "#T_24389_row4_col0 {\n",
       "  background-color: #e7e3f0;\n",
       "  color: #000000;\n",
       "}\n",
       "#T_24389_row5_col0 {\n",
       "  background-color: #e8e4f0;\n",
       "  color: #000000;\n",
       "}\n",
       "#T_24389_row6_col0 {\n",
       "  background-color: #eee9f3;\n",
       "  color: #000000;\n",
       "}\n",
       "#T_24389_row7_col0 {\n",
       "  background-color: #f3edf5;\n",
       "  color: #000000;\n",
       "}\n",
       "#T_24389_row8_col0 {\n",
       "  background-color: #f4eef6;\n",
       "  color: #000000;\n",
       "}\n",
       "#T_24389_row9_col0 {\n",
       "  background-color: #f5eef6;\n",
       "  color: #000000;\n",
       "}\n",
       "#T_24389_row10_col0 {\n",
       "  background-color: #f8f1f8;\n",
       "  color: #000000;\n",
       "}\n",
       "#T_24389_row11_col0 {\n",
       "  background-color: #fef6fb;\n",
       "  color: #000000;\n",
       "}\n",
       "#T_24389_row12_col0, #T_24389_row13_col0, #T_24389_row14_col0, #T_24389_row15_col0, #T_24389_row16_col0, #T_24389_row17_col0, #T_24389_row18_col0, #T_24389_row19_col0, #T_24389_row20_col0, #T_24389_row21_col0, #T_24389_row22_col0, #T_24389_row23_col0 {\n",
       "  background-color: #fff7fb;\n",
       "  color: #000000;\n",
       "}\n",
       "</style>\n",
       "<table id=\"T_24389\">\n",
       "  <thead>\n",
       "    <tr>\n",
       "      <th class=\"blank level0\" >&nbsp;</th>\n",
       "      <th id=\"T_24389_level0_col0\" class=\"col_heading level0 col0\" >target</th>\n",
       "    </tr>\n",
       "  </thead>\n",
       "  <tbody>\n",
       "    <tr>\n",
       "      <th id=\"T_24389_level0_row0\" class=\"row_heading level0 row0\" >target</th>\n",
       "      <td id=\"T_24389_row0_col0\" class=\"data row0 col0\" >1.000000</td>\n",
       "    </tr>\n",
       "    <tr>\n",
       "      <th id=\"T_24389_level0_row1\" class=\"row_heading level0 row1\" >num_dt</th>\n",
       "      <td id=\"T_24389_row1_col0\" class=\"data row1 col0\" >0.312795</td>\n",
       "    </tr>\n",
       "    <tr>\n",
       "      <th id=\"T_24389_level0_row2\" class=\"row_heading level0 row2\" >edad</th>\n",
       "      <td id=\"T_24389_row2_col0\" class=\"data row2 col0\" >0.296835</td>\n",
       "    </tr>\n",
       "    <tr>\n",
       "      <th id=\"T_24389_level0_row3\" class=\"row_heading level0 row3\" >incidencia</th>\n",
       "      <td id=\"T_24389_row3_col0\" class=\"data row3 col0\" >0.277408</td>\n",
       "    </tr>\n",
       "    <tr>\n",
       "      <th id=\"T_24389_level0_row4\" class=\"row_heading level0 row4\" >TV_tv-futbol</th>\n",
       "      <td id=\"T_24389_row4_col0\" class=\"data row4 col0\" >0.152493</td>\n",
       "    </tr>\n",
       "    <tr>\n",
       "      <th id=\"T_24389_level0_row5\" class=\"row_heading level0 row5\" >descuentos</th>\n",
       "      <td id=\"T_24389_row5_col0\" class=\"data row5 col0\" >0.141447</td>\n",
       "    </tr>\n",
       "    <tr>\n",
       "      <th id=\"T_24389_level0_row6\" class=\"row_heading level0 row6\" >TV_tv-total</th>\n",
       "      <td id=\"T_24389_row6_col0\" class=\"data row6 col0\" >0.111106</td>\n",
       "    </tr>\n",
       "    <tr>\n",
       "      <th id=\"T_24389_level0_row7\" class=\"row_heading level0 row7\" >TV_tv-familiar</th>\n",
       "      <td id=\"T_24389_row7_col0\" class=\"data row7 col0\" >0.079990</td>\n",
       "    </tr>\n",
       "    <tr>\n",
       "      <th id=\"T_24389_level0_row8\" class=\"row_heading level0 row8\" >financiacion</th>\n",
       "      <td id=\"T_24389_row8_col0\" class=\"data row8 col0\" >0.074597</td>\n",
       "    </tr>\n",
       "    <tr>\n",
       "      <th id=\"T_24389_level0_row9\" class=\"row_heading level0 row9\" >imp_financ</th>\n",
       "      <td id=\"T_24389_row9_col0\" class=\"data row9 col0\" >0.067626</td>\n",
       "    </tr>\n",
       "    <tr>\n",
       "      <th id=\"T_24389_level0_row10\" class=\"row_heading level0 row10\" >conexion</th>\n",
       "      <td id=\"T_24389_row10_col0\" class=\"data row10 col0\" >0.051478</td>\n",
       "    </tr>\n",
       "    <tr>\n",
       "      <th id=\"T_24389_level0_row11\" class=\"row_heading level0 row11\" >num_llamad_ent</th>\n",
       "      <td id=\"T_24389_row11_col0\" class=\"data row11 col0\" >0.006130</td>\n",
       "    </tr>\n",
       "    <tr>\n",
       "      <th id=\"T_24389_level0_row12\" class=\"row_heading level0 row12\" >mes_Antiguedad</th>\n",
       "      <td id=\"T_24389_row12_col0\" class=\"data row12 col0\" >0.004056</td>\n",
       "    </tr>\n",
       "    <tr>\n",
       "      <th id=\"T_24389_level0_row13\" class=\"row_heading level0 row13\" >antiguedad</th>\n",
       "      <td id=\"T_24389_row13_col0\" class=\"data row13 col0\" >0.003310</td>\n",
       "    </tr>\n",
       "    <tr>\n",
       "      <th id=\"T_24389_level0_row14\" class=\"row_heading level0 row14\" >cant_dias</th>\n",
       "      <td id=\"T_24389_row14_col0\" class=\"data row14 col0\" >0.003146</td>\n",
       "    </tr>\n",
       "    <tr>\n",
       "      <th id=\"T_24389_level0_row15\" class=\"row_heading level0 row15\" >num_llamad_sal</th>\n",
       "      <td id=\"T_24389_row15_col0\" class=\"data row15 col0\" >0.003141</td>\n",
       "    </tr>\n",
       "    <tr>\n",
       "      <th id=\"T_24389_level0_row16\" class=\"row_heading level0 row16\" >facturacion</th>\n",
       "      <td id=\"T_24389_row16_col0\" class=\"data row16 col0\" >0.002846</td>\n",
       "    </tr>\n",
       "    <tr>\n",
       "      <th id=\"T_24389_level0_row17\" class=\"row_heading level0 row17\" >vel_conexion</th>\n",
       "      <td id=\"T_24389_row17_col0\" class=\"data row17 col0\" >0.002445</td>\n",
       "    </tr>\n",
       "    <tr>\n",
       "      <th id=\"T_24389_level0_row18\" class=\"row_heading level0 row18\" >turno</th>\n",
       "      <td id=\"T_24389_row18_col0\" class=\"data row18 col0\" >0.001982</td>\n",
       "    </tr>\n",
       "    <tr>\n",
       "      <th id=\"T_24389_level0_row19\" class=\"row_heading level0 row19\" >num_lineas</th>\n",
       "      <td id=\"T_24389_row19_col0\" class=\"data row19 col0\" >0.001725</td>\n",
       "    </tr>\n",
       "    <tr>\n",
       "      <th id=\"T_24389_level0_row20\" class=\"row_heading level0 row20\" >mb_datos</th>\n",
       "      <td id=\"T_24389_row20_col0\" class=\"data row20 col0\" >0.001201</td>\n",
       "    </tr>\n",
       "    <tr>\n",
       "      <th id=\"T_24389_level0_row21\" class=\"row_heading level0 row21\" >comunidad autónoma</th>\n",
       "      <td id=\"T_24389_row21_col0\" class=\"data row21 col0\" >0.001137</td>\n",
       "    </tr>\n",
       "    <tr>\n",
       "      <th id=\"T_24389_level0_row22\" class=\"row_heading level0 row22\" >dia_Antiguedad</th>\n",
       "      <td id=\"T_24389_row22_col0\" class=\"data row22 col0\" >0.000743</td>\n",
       "    </tr>\n",
       "    <tr>\n",
       "      <th id=\"T_24389_level0_row23\" class=\"row_heading level0 row23\" >hora_Antiguedad</th>\n",
       "      <td id=\"T_24389_row23_col0\" class=\"data row23 col0\" >0.000737</td>\n",
       "    </tr>\n",
       "  </tbody>\n",
       "</table>\n"
      ],
      "text/plain": [
       "<pandas.io.formats.style.Styler at 0x1ab16110a00>"
      ]
     },
     "execution_count": 164,
     "metadata": {},
     "output_type": "execute_result"
    }
   ],
   "source": [
    "df_corr[['target']].sort_values(by = 'target',ascending = False).style.background_gradient()"
   ]
  },
  {
   "cell_type": "code",
   "execution_count": 165,
   "id": "d3f8f1a9",
   "metadata": {},
   "outputs": [
    {
     "name": "stderr",
     "output_type": "stream",
     "text": [
      "C:\\Users\\cinzi\\AppData\\Local\\Temp\\ipykernel_22756\\1472012702.py:1: DataConversionWarning: A column-vector y was passed when a 1d array was expected. Please change the shape of y to (n_samples,), for example using ravel().\n",
      "  model3 = RandomForestClassifier(n_estimators=200, max_depth=8).fit(x_train, y_train)\n"
     ]
    },
    {
     "name": "stdout",
     "output_type": "stream",
     "text": [
      "matriz de confusión\n",
      "[[28959   144]\n",
      " [ 1156  1246]]\n",
      "accuracy\n",
      "0.9587367084589747\n",
      "precision\n",
      "0.8964028776978418\n",
      "recall\n",
      "0.5187343880099917\n",
      "f1\n",
      "0.6571729957805907\n",
      "AUC\n",
      "0.7568932222495067\n"
     ]
    },
    {
     "data": {
      "image/png": "[encoded data removed]",
      "text/plain": [
       "<Figure size 432x288 with 1 Axes>"
      ]
     },
     "metadata": {
      "needs_background": "light"
     },
     "output_type": "display_data"
    }
   ],
   "source": [
    "model3 = RandomForestClassifier(n_estimators=200, max_depth=8).fit(x_train, y_train)\n",
    "y_pred3        = model3.predict(x_test)\n",
    "metricas(y_test, y_pred)"
   ]
  },
  {
   "cell_type": "code",
   "execution_count": 166,
   "id": "98ac833a",
   "metadata": {},
   "outputs": [
    {
     "name": "stderr",
     "output_type": "stream",
     "text": [
      "C:\\Users\\cinzi\\AppData\\Local\\Temp\\ipykernel_22756\\30973398.py:1: DataConversionWarning: A column-vector y was passed when a 1d array was expected. Please change the shape of y to (n_samples,), for example using ravel().\n",
      "  model3_param = RandomForestClassifier(criterion='gini', max_depth=8).fit(x_train, y_train)\n"
     ]
    }
   ],
   "source": [
    "model3_param = RandomForestClassifier(criterion='gini', max_depth=8).fit(x_train, y_train)\n",
    "y_pred3       = model3_param.predict(x_test)"
   ]
  },
  {
   "cell_type": "code",
   "execution_count": 167,
   "id": "bdd34723",
   "metadata": {},
   "outputs": [
    {
     "name": "stdout",
     "output_type": "stream",
     "text": [
      "edad 0 Score: 0.28676\n",
      "facturacion 1 Score: 0.00746\n",
      "antiguedad 2 Score: 0.00184\n",
      "num_lineas 3 Score: 0.00100\n",
      "num_dt 4 Score: 0.24929\n",
      "incidencia 5 Score: 0.18343\n",
      "num_llamad_ent 6 Score: 0.00352\n",
      "num_llamad_sal 7 Score: 0.00238\n",
      "mb_datos 8 Score: 0.00370\n",
      "financiacion 9 Score: 0.01736\n",
      "imp_financ 10 Score: 0.01936\n",
      "descuentos 11 Score: 0.09706\n",
      "conexion 12 Score: 0.00599\n",
      "vel_conexion 13 Score: 0.02924\n",
      "cant_dias 14 Score: 0.00372\n",
      "comunidad autónoma 15 Score: 0.00222\n",
      "TV_tv-familiar 16 Score: 0.01208\n",
      "TV_tv-futbol 17 Score: 0.04580\n",
      "TV_tv-total 18 Score: 0.02237\n",
      "mes_Antiguedad 19 Score: 0.00149\n",
      "dia_Antiguedad 20 Score: 0.00105\n",
      "hora_Antiguedad 21 Score: 0.00189\n",
      "turno 22 Score: 0.00100\n"
     ]
    }
   ],
   "source": [
    "importance = model3_param.feature_importances_\n",
    "importance\n",
    "for i,v in enumerate(importance):\n",
    "  print(x_test.columns[i], '%d Score: %.5f' % (i,v))"
   ]
  },
  {
   "cell_type": "markdown",
   "id": "4316ed8d",
   "metadata": {},
   "source": [
    " Hay mejora. Sin embargo en este modelo tenemos que ser especialmente cuidadosos con el sobreajuste. Para validar estos resultados, procedemos a realizar una validación cruzada "
   ]
  },
  {
   "cell_type": "code",
   "execution_count": 169,
   "id": "eb7b5364",
   "metadata": {},
   "outputs": [
    {
     "name": "stderr",
     "output_type": "stream",
     "text": [
      "C:\\Users\\cinzi\\anaconda3\\lib\\site-packages\\sklearn\\model_selection\\_validation.py:686: DataConversionWarning: A column-vector y was passed when a 1d array was expected. Please change the shape of y to (n_samples,), for example using ravel().\n",
      "  estimator.fit(X_train, y_train, **fit_params)\n",
      "C:\\Users\\cinzi\\anaconda3\\lib\\site-packages\\sklearn\\model_selection\\_validation.py:686: DataConversionWarning: A column-vector y was passed when a 1d array was expected. Please change the shape of y to (n_samples,), for example using ravel().\n",
      "  estimator.fit(X_train, y_train, **fit_params)\n",
      "C:\\Users\\cinzi\\anaconda3\\lib\\site-packages\\sklearn\\model_selection\\_validation.py:686: DataConversionWarning: A column-vector y was passed when a 1d array was expected. Please change the shape of y to (n_samples,), for example using ravel().\n",
      "  estimator.fit(X_train, y_train, **fit_params)\n",
      "C:\\Users\\cinzi\\anaconda3\\lib\\site-packages\\sklearn\\model_selection\\_validation.py:686: DataConversionWarning: A column-vector y was passed when a 1d array was expected. Please change the shape of y to (n_samples,), for example using ravel().\n",
      "  estimator.fit(X_train, y_train, **fit_params)\n",
      "C:\\Users\\cinzi\\anaconda3\\lib\\site-packages\\sklearn\\model_selection\\_validation.py:686: DataConversionWarning: A column-vector y was passed when a 1d array was expected. Please change the shape of y to (n_samples,), for example using ravel().\n",
      "  estimator.fit(X_train, y_train, **fit_params)\n"
     ]
    },
    {
     "name": "stdout",
     "output_type": "stream",
     "text": [
      "Métricas validación cruzada: [0.95989995 0.96201047 0.96161664 0.9620075  0.96146029]\n",
      "Média métricas de validación cruzada: 0.9613989695056322\n"
     ]
    }
   ],
   "source": [
    "cv_scores = cross_val_score(\n",
    "                estimator = model3_param,\n",
    "                X         = x_train,\n",
    "                y         = y_train,\n",
    "                cv        = 5\n",
    "             )\n",
    "\n",
    "print(f\"Métricas validación cruzada: {cv_scores}\")\n",
    "print(f\"Média métricas de validación cruzada: {cv_scores.mean()}\")"
   ]
  },
  {
   "cell_type": "markdown",
   "id": "f2712e8b",
   "metadata": {},
   "source": [
    "Los resultados de la validación cruzada nos muestran que no hubo sobreajuste en el modelo, y que se puede confiar en la precisión del 96%. Si quisieramos mayor seguridad, se podría utilizar la validación cruzada repetida"
   ]
  },
  {
   "cell_type": "markdown",
   "id": "79b8d33e",
   "metadata": {},
   "source": [
    "## Mejora de Modelos"
   ]
  },
  {
   "cell_type": "code",
   "execution_count": 181,
   "id": "33c5e411",
   "metadata": {},
   "outputs": [],
   "source": [
    "from sklearn.pipeline import Pipeline\n",
    "from sklearn.model_selection import train_test_split, GridSearchCV"
   ]
  },
  {
   "cell_type": "code",
   "execution_count": 182,
   "id": "9df96c51",
   "metadata": {},
   "outputs": [],
   "source": [
    "f1_scorer = make_scorer(f1_score)\n",
    "pipe = Pipeline([\n",
    "    ('classify', RandomForestClassifier(random_state=1, n_estimators=100))\n",
    "])\n",
    "maxdepth_grid = [ 6, 8, 10, 12, 14]\n",
    "param_grid = [\n",
    "    {'classify__max_depth': maxdepth_grid },\n",
    "]\n",
    "clf  = GridSearchCV(pipe, cv=10, n_jobs=2, param_grid=param_grid, verbose=1, \n",
    "                    return_train_score=True, scoring=f1_scorer)\n"
   ]
  },
  {
   "cell_type": "code",
   "execution_count": 183,
   "id": "e8be2407",
   "metadata": {},
   "outputs": [
    {
     "name": "stdout",
     "output_type": "stream",
     "text": [
      "Fitting 10 folds for each of 5 candidates, totalling 50 fits\n"
     ]
    },
    {
     "name": "stderr",
     "output_type": "stream",
     "text": [
      "C:\\Users\\cinzi\\anaconda3\\lib\\site-packages\\sklearn\\pipeline.py:382: DataConversionWarning: A column-vector y was passed when a 1d array was expected. Please change the shape of y to (n_samples,), for example using ravel().\n",
      "  self._final_estimator.fit(Xt, y, **fit_params_last_step)\n"
     ]
    },
    {
     "data": {
      "text/html": [
       "<style>#sk-container-id-1 {color: black;background-color: white;}#sk-container-id-1 pre{padding: 0;}#sk-container-id-1 div.sk-toggleable {background-color: white;}#sk-container-id-1 label.sk-toggleable__label {cursor: pointer;display: block;width: 100%;margin-bottom: 0;padding: 0.3em;box-sizing: border-box;text-align: center;}#sk-container-id-1 label.sk-toggleable__label-arrow:before {content: \"▸\";float: left;margin-right: 0.25em;color: #696969;}#sk-container-id-1 label.sk-toggleable__label-arrow:hover:before {color: black;}#sk-container-id-1 div.sk-estimator:hover label.sk-toggleable__label-arrow:before {color: black;}#sk-container-id-1 div.sk-toggleable__content {max-height: 0;max-width: 0;overflow: hidden;text-align: left;background-color: #f0f8ff;}#sk-container-id-1 div.sk-toggleable__content pre {margin: 0.2em;color: black;border-radius: 0.25em;background-color: #f0f8ff;}#sk-container-id-1 input.sk-toggleable__control:checked~div.sk-toggleable__content {max-height: 200px;max-width: 100%;overflow: auto;}#sk-container-id-1 input.sk-toggleable__control:checked~label.sk-toggleable__label-arrow:before {content: \"▾\";}#sk-container-id-1 div.sk-estimator input.sk-toggleable__control:checked~label.sk-toggleable__label {background-color: #d4ebff;}#sk-container-id-1 div.sk-label input.sk-toggleable__control:checked~label.sk-toggleable__label {background-color: #d4ebff;}#sk-container-id-1 input.sk-hidden--visually {border: 0;clip: rect(1px 1px 1px 1px);clip: rect(1px, 1px, 1px, 1px);height: 1px;margin: -1px;overflow: hidden;padding: 0;position: absolute;width: 1px;}#sk-container-id-1 div.sk-estimator {font-family: monospace;background-color: #f0f8ff;border: 1px dotted black;border-radius: 0.25em;box-sizing: border-box;margin-bottom: 0.5em;}#sk-container-id-1 div.sk-estimator:hover {background-color: #d4ebff;}#sk-container-id-1 div.sk-parallel-item::after {content: \"\";width: 100%;border-bottom: 1px solid gray;flex-grow: 1;}#sk-container-id-1 div.sk-label:hover label.sk-toggleable__label {background-color: #d4ebff;}#sk-container-id-1 div.sk-serial::before {content: \"\";position: absolute;border-left: 1px solid gray;box-sizing: border-box;top: 0;bottom: 0;left: 50%;z-index: 0;}#sk-container-id-1 div.sk-serial {display: flex;flex-direction: column;align-items: center;background-color: white;padding-right: 0.2em;padding-left: 0.2em;position: relative;}#sk-container-id-1 div.sk-item {position: relative;z-index: 1;}#sk-container-id-1 div.sk-parallel {display: flex;align-items: stretch;justify-content: center;background-color: white;position: relative;}#sk-container-id-1 div.sk-item::before, #sk-container-id-1 div.sk-parallel-item::before {content: \"\";position: absolute;border-left: 1px solid gray;box-sizing: border-box;top: 0;bottom: 0;left: 50%;z-index: -1;}#sk-container-id-1 div.sk-parallel-item {display: flex;flex-direction: column;z-index: 1;position: relative;background-color: white;}#sk-container-id-1 div.sk-parallel-item:first-child::after {align-self: flex-end;width: 50%;}#sk-container-id-1 div.sk-parallel-item:last-child::after {align-self: flex-start;width: 50%;}#sk-container-id-1 div.sk-parallel-item:only-child::after {width: 0;}#sk-container-id-1 div.sk-dashed-wrapped {border: 1px dashed gray;margin: 0 0.4em 0.5em 0.4em;box-sizing: border-box;padding-bottom: 0.4em;background-color: white;}#sk-container-id-1 div.sk-label label {font-family: monospace;font-weight: bold;display: inline-block;line-height: 1.2em;}#sk-container-id-1 div.sk-label-container {text-align: center;}#sk-container-id-1 div.sk-container {/* jupyter's `normalize.less` sets `[hidden] { display: none; }` but bootstrap.min.css set `[hidden] { display: none !important; }` so we also need the `!important` here to be able to override the default hidden behavior on the sphinx rendered scikit-learn.org. See: https://github.com/scikit-learn/scikit-learn/issues/21755 */display: inline-block !important;position: relative;}#sk-container-id-1 div.sk-text-repr-fallback {display: none;}</style><div id=\"sk-container-id-1\" class=\"sk-top-container\"><div class=\"sk-text-repr-fallback\"><pre>GridSearchCV(cv=10,\n",
       "             estimator=Pipeline(steps=[(&#x27;classify&#x27;,\n",
       "                                        RandomForestClassifier(random_state=1))]),\n",
       "             n_jobs=2, param_grid=[{&#x27;classify__max_depth&#x27;: [6, 8, 10, 12, 14]}],\n",
       "             return_train_score=True, scoring=make_scorer(f1_score), verbose=1)</pre><b>In a Jupyter environment, please rerun this cell to show the HTML representation or trust the notebook. <br />On GitHub, the HTML representation is unable to render, please try loading this page with nbviewer.org.</b></div><div class=\"sk-container\" hidden><div class=\"sk-item sk-dashed-wrapped\"><div class=\"sk-label-container\"><div class=\"sk-label sk-toggleable\"><input class=\"sk-toggleable__control sk-hidden--visually\" id=\"sk-estimator-id-1\" type=\"checkbox\" ><label for=\"sk-estimator-id-1\" class=\"sk-toggleable__label sk-toggleable__label-arrow\">GridSearchCV</label><div class=\"sk-toggleable__content\"><pre>GridSearchCV(cv=10,\n",
       "             estimator=Pipeline(steps=[(&#x27;classify&#x27;,\n",
       "                                        RandomForestClassifier(random_state=1))]),\n",
       "             n_jobs=2, param_grid=[{&#x27;classify__max_depth&#x27;: [6, 8, 10, 12, 14]}],\n",
       "             return_train_score=True, scoring=make_scorer(f1_score), verbose=1)</pre></div></div></div><div class=\"sk-parallel\"><div class=\"sk-parallel-item\"><div class=\"sk-item\"><div class=\"sk-label-container\"><div class=\"sk-label sk-toggleable\"><input class=\"sk-toggleable__control sk-hidden--visually\" id=\"sk-estimator-id-2\" type=\"checkbox\" ><label for=\"sk-estimator-id-2\" class=\"sk-toggleable__label sk-toggleable__label-arrow\">estimator: Pipeline</label><div class=\"sk-toggleable__content\"><pre>Pipeline(steps=[(&#x27;classify&#x27;, RandomForestClassifier(random_state=1))])</pre></div></div></div><div class=\"sk-serial\"><div class=\"sk-item\"><div class=\"sk-serial\"><div class=\"sk-item\"><div class=\"sk-estimator sk-toggleable\"><input class=\"sk-toggleable__control sk-hidden--visually\" id=\"sk-estimator-id-3\" type=\"checkbox\" ><label for=\"sk-estimator-id-3\" class=\"sk-toggleable__label sk-toggleable__label-arrow\">RandomForestClassifier</label><div class=\"sk-toggleable__content\"><pre>RandomForestClassifier(random_state=1)</pre></div></div></div></div></div></div></div></div></div></div></div></div>"
      ],
      "text/plain": [
       "GridSearchCV(cv=10,\n",
       "             estimator=Pipeline(steps=[('classify',\n",
       "                                        RandomForestClassifier(random_state=1))]),\n",
       "             n_jobs=2, param_grid=[{'classify__max_depth': [6, 8, 10, 12, 14]}],\n",
       "             return_train_score=True, scoring=make_scorer(f1_score), verbose=1)"
      ]
     },
     "execution_count": 183,
     "metadata": {},
     "output_type": "execute_result"
    }
   ],
   "source": [
    "clf.fit(x_train, y_train)"
   ]
  },
  {
   "cell_type": "code",
   "execution_count": 184,
   "id": "18663cb5",
   "metadata": {},
   "outputs": [
    {
     "data": {
      "text/plain": [
       "{'classify__max_depth': 14}"
      ]
     },
     "execution_count": 184,
     "metadata": {},
     "output_type": "execute_result"
    }
   ],
   "source": [
    "clf.best_params_"
   ]
  },
  {
   "cell_type": "code",
   "execution_count": 185,
   "id": "30c5e6c6",
   "metadata": {},
   "outputs": [],
   "source": [
    "# Number of trees in random forest\n",
    "n_estimators = [int(x) for x in np.linspace(start = 10, stop = 80, num = 10)]\n",
    "# Maximum number of levels in tree\n",
    "max_depth = [8,10,12]\n",
    "# Minimum number of samples required to split a node\n",
    "min_samples_split = [2, 5]\n",
    "# Minimum number of samples required at each leaf node\n",
    "min_samples_leaf = [1, 2]\n",
    "# Method of selecting samples for training each tree\n",
    "bootstrap = [True, False]"
   ]
  },
  {
   "cell_type": "code",
   "execution_count": 186,
   "id": "e2c236bd",
   "metadata": {},
   "outputs": [
    {
     "name": "stdout",
     "output_type": "stream",
     "text": [
      "{'n_estimators': [10, 17, 25, 33, 41, 48, 56, 64, 72, 80], 'max_depth': [8, 10, 12], 'min_samples_split': [2, 5], 'min_samples_leaf': [1, 2], 'bootstrap': [True, False]}\n"
     ]
    }
   ],
   "source": [
    "# Create the param grid\n",
    "param_grid = {'n_estimators': n_estimators,\n",
    "               'max_depth': max_depth,\n",
    "               'min_samples_split': min_samples_split,\n",
    "               'min_samples_leaf': min_samples_leaf,\n",
    "               'bootstrap': bootstrap}\n",
    "print(param_grid)"
   ]
  },
  {
   "cell_type": "code",
   "execution_count": 187,
   "id": "61f39443",
   "metadata": {},
   "outputs": [],
   "source": [
    "rf_Model = RandomForestClassifier()"
   ]
  },
  {
   "cell_type": "code",
   "execution_count": 188,
   "id": "b213eec5",
   "metadata": {},
   "outputs": [],
   "source": [
    "rf_Grid = GridSearchCV(estimator = rf_Model, param_grid = param_grid, cv = 3, verbose=2, n_jobs = 4)"
   ]
  },
  {
   "cell_type": "code",
   "execution_count": 189,
   "id": "4484fb39",
   "metadata": {},
   "outputs": [
    {
     "name": "stdout",
     "output_type": "stream",
     "text": [
      "Fitting 3 folds for each of 240 candidates, totalling 720 fits\n"
     ]
    },
    {
     "name": "stderr",
     "output_type": "stream",
     "text": [
      "C:\\Users\\cinzi\\anaconda3\\lib\\site-packages\\sklearn\\model_selection\\_search.py:910: DataConversionWarning: A column-vector y was passed when a 1d array was expected. Please change the shape of y to (n_samples,), for example using ravel().\n",
      "  self.best_estimator_.fit(X, y, **fit_params)\n"
     ]
    },
    {
     "data": {
      "text/html": [
       "<style>#sk-container-id-2 {color: black;background-color: white;}#sk-container-id-2 pre{padding: 0;}#sk-container-id-2 div.sk-toggleable {background-color: white;}#sk-container-id-2 label.sk-toggleable__label {cursor: pointer;display: block;width: 100%;margin-bottom: 0;padding: 0.3em;box-sizing: border-box;text-align: center;}#sk-container-id-2 label.sk-toggleable__label-arrow:before {content: \"▸\";float: left;margin-right: 0.25em;color: #696969;}#sk-container-id-2 label.sk-toggleable__label-arrow:hover:before {color: black;}#sk-container-id-2 div.sk-estimator:hover label.sk-toggleable__label-arrow:before {color: black;}#sk-container-id-2 div.sk-toggleable__content {max-height: 0;max-width: 0;overflow: hidden;text-align: left;background-color: #f0f8ff;}#sk-container-id-2 div.sk-toggleable__content pre {margin: 0.2em;color: black;border-radius: 0.25em;background-color: #f0f8ff;}#sk-container-id-2 input.sk-toggleable__control:checked~div.sk-toggleable__content {max-height: 200px;max-width: 100%;overflow: auto;}#sk-container-id-2 input.sk-toggleable__control:checked~label.sk-toggleable__label-arrow:before {content: \"▾\";}#sk-container-id-2 div.sk-estimator input.sk-toggleable__control:checked~label.sk-toggleable__label {background-color: #d4ebff;}#sk-container-id-2 div.sk-label input.sk-toggleable__control:checked~label.sk-toggleable__label {background-color: #d4ebff;}#sk-container-id-2 input.sk-hidden--visually {border: 0;clip: rect(1px 1px 1px 1px);clip: rect(1px, 1px, 1px, 1px);height: 1px;margin: -1px;overflow: hidden;padding: 0;position: absolute;width: 1px;}#sk-container-id-2 div.sk-estimator {font-family: monospace;background-color: #f0f8ff;border: 1px dotted black;border-radius: 0.25em;box-sizing: border-box;margin-bottom: 0.5em;}#sk-container-id-2 div.sk-estimator:hover {background-color: #d4ebff;}#sk-container-id-2 div.sk-parallel-item::after {content: \"\";width: 100%;border-bottom: 1px solid gray;flex-grow: 1;}#sk-container-id-2 div.sk-label:hover label.sk-toggleable__label {background-color: #d4ebff;}#sk-container-id-2 div.sk-serial::before {content: \"\";position: absolute;border-left: 1px solid gray;box-sizing: border-box;top: 0;bottom: 0;left: 50%;z-index: 0;}#sk-container-id-2 div.sk-serial {display: flex;flex-direction: column;align-items: center;background-color: white;padding-right: 0.2em;padding-left: 0.2em;position: relative;}#sk-container-id-2 div.sk-item {position: relative;z-index: 1;}#sk-container-id-2 div.sk-parallel {display: flex;align-items: stretch;justify-content: center;background-color: white;position: relative;}#sk-container-id-2 div.sk-item::before, #sk-container-id-2 div.sk-parallel-item::before {content: \"\";position: absolute;border-left: 1px solid gray;box-sizing: border-box;top: 0;bottom: 0;left: 50%;z-index: -1;}#sk-container-id-2 div.sk-parallel-item {display: flex;flex-direction: column;z-index: 1;position: relative;background-color: white;}#sk-container-id-2 div.sk-parallel-item:first-child::after {align-self: flex-end;width: 50%;}#sk-container-id-2 div.sk-parallel-item:last-child::after {align-self: flex-start;width: 50%;}#sk-container-id-2 div.sk-parallel-item:only-child::after {width: 0;}#sk-container-id-2 div.sk-dashed-wrapped {border: 1px dashed gray;margin: 0 0.4em 0.5em 0.4em;box-sizing: border-box;padding-bottom: 0.4em;background-color: white;}#sk-container-id-2 div.sk-label label {font-family: monospace;font-weight: bold;display: inline-block;line-height: 1.2em;}#sk-container-id-2 div.sk-label-container {text-align: center;}#sk-container-id-2 div.sk-container {/* jupyter's `normalize.less` sets `[hidden] { display: none; }` but bootstrap.min.css set `[hidden] { display: none !important; }` so we also need the `!important` here to be able to override the default hidden behavior on the sphinx rendered scikit-learn.org. See: https://github.com/scikit-learn/scikit-learn/issues/21755 */display: inline-block !important;position: relative;}#sk-container-id-2 div.sk-text-repr-fallback {display: none;}</style><div id=\"sk-container-id-2\" class=\"sk-top-container\"><div class=\"sk-text-repr-fallback\"><pre>GridSearchCV(cv=3, estimator=RandomForestClassifier(), n_jobs=4,\n",
       "             param_grid={&#x27;bootstrap&#x27;: [True, False], &#x27;max_depth&#x27;: [8, 10, 12],\n",
       "                         &#x27;min_samples_leaf&#x27;: [1, 2],\n",
       "                         &#x27;min_samples_split&#x27;: [2, 5],\n",
       "                         &#x27;n_estimators&#x27;: [10, 17, 25, 33, 41, 48, 56, 64, 72,\n",
       "                                          80]},\n",
       "             verbose=2)</pre><b>In a Jupyter environment, please rerun this cell to show the HTML representation or trust the notebook. <br />On GitHub, the HTML representation is unable to render, please try loading this page with nbviewer.org.</b></div><div class=\"sk-container\" hidden><div class=\"sk-item sk-dashed-wrapped\"><div class=\"sk-label-container\"><div class=\"sk-label sk-toggleable\"><input class=\"sk-toggleable__control sk-hidden--visually\" id=\"sk-estimator-id-4\" type=\"checkbox\" ><label for=\"sk-estimator-id-4\" class=\"sk-toggleable__label sk-toggleable__label-arrow\">GridSearchCV</label><div class=\"sk-toggleable__content\"><pre>GridSearchCV(cv=3, estimator=RandomForestClassifier(), n_jobs=4,\n",
       "             param_grid={&#x27;bootstrap&#x27;: [True, False], &#x27;max_depth&#x27;: [8, 10, 12],\n",
       "                         &#x27;min_samples_leaf&#x27;: [1, 2],\n",
       "                         &#x27;min_samples_split&#x27;: [2, 5],\n",
       "                         &#x27;n_estimators&#x27;: [10, 17, 25, 33, 41, 48, 56, 64, 72,\n",
       "                                          80]},\n",
       "             verbose=2)</pre></div></div></div><div class=\"sk-parallel\"><div class=\"sk-parallel-item\"><div class=\"sk-item\"><div class=\"sk-label-container\"><div class=\"sk-label sk-toggleable\"><input class=\"sk-toggleable__control sk-hidden--visually\" id=\"sk-estimator-id-5\" type=\"checkbox\" ><label for=\"sk-estimator-id-5\" class=\"sk-toggleable__label sk-toggleable__label-arrow\">estimator: RandomForestClassifier</label><div class=\"sk-toggleable__content\"><pre>RandomForestClassifier()</pre></div></div></div><div class=\"sk-serial\"><div class=\"sk-item\"><div class=\"sk-estimator sk-toggleable\"><input class=\"sk-toggleable__control sk-hidden--visually\" id=\"sk-estimator-id-6\" type=\"checkbox\" ><label for=\"sk-estimator-id-6\" class=\"sk-toggleable__label sk-toggleable__label-arrow\">RandomForestClassifier</label><div class=\"sk-toggleable__content\"><pre>RandomForestClassifier()</pre></div></div></div></div></div></div></div></div></div></div>"
      ],
      "text/plain": [
       "GridSearchCV(cv=3, estimator=RandomForestClassifier(), n_jobs=4,\n",
       "             param_grid={'bootstrap': [True, False], 'max_depth': [8, 10, 12],\n",
       "                         'min_samples_leaf': [1, 2],\n",
       "                         'min_samples_split': [2, 5],\n",
       "                         'n_estimators': [10, 17, 25, 33, 41, 48, 56, 64, 72,\n",
       "                                          80]},\n",
       "             verbose=2)"
      ]
     },
     "execution_count": 189,
     "metadata": {},
     "output_type": "execute_result"
    }
   ],
   "source": [
    "rf_Grid.fit(x_train, y_train)"
   ]
  },
  {
   "cell_type": "code",
   "execution_count": 190,
   "id": "e023703d",
   "metadata": {},
   "outputs": [
    {
     "data": {
      "text/plain": [
       "{'bootstrap': True,\n",
       " 'max_depth': 12,\n",
       " 'min_samples_leaf': 1,\n",
       " 'min_samples_split': 2,\n",
       " 'n_estimators': 64}"
      ]
     },
     "execution_count": 190,
     "metadata": {},
     "output_type": "execute_result"
    }
   ],
   "source": [
    "rf_Grid.best_params_"
   ]
  },
  {
   "cell_type": "raw",
   "id": "1e0c534e",
   "metadata": {},
   "source": [
    "Con el GridSearchCV, se intenta es encontrar los mejores parámetros posibles para el modelo. En este caso, los mejores parámetros son una profundidad de 12, el mínimo de particiones de 2 y una cantidad de estimadores de 64."
   ]
  },
  {
   "cell_type": "code",
   "execution_count": 191,
   "id": "6e76a341",
   "metadata": {
    "scrolled": true
   },
   "outputs": [
    {
     "name": "stdout",
     "output_type": "stream",
     "text": [
      "Train Accuracy - : 0.963\n",
      "Test Accuracy - : 0.959\n"
     ]
    }
   ],
   "source": [
    "print (f'Train Accuracy - : {rf_Grid.score(x_train,y_train):.3f}')\n",
    "print (f'Test Accuracy - : {rf_Grid.score(x_test,y_test):.3f}')"
   ]
  },
  {
   "cell_type": "code",
   "execution_count": 204,
   "id": "15b8df09",
   "metadata": {},
   "outputs": [],
   "source": [
    "from xgboost.sklearn import XGBClassifier\n",
    "from sklearn.linear_model import LogisticRegression\n",
    "from sklearn.model_selection import RepeatedStratifiedKFold"
   ]
  },
  {
   "cell_type": "code",
   "execution_count": 222,
   "id": "64e36830",
   "metadata": {},
   "outputs": [],
   "source": [
    "modelos={\n",
    "    \"Random\":RandomForestClassifier(n_estimators=30, n_jobs=1, random_state=1),\n",
    "    \"Tree\":DecisionTreeClassifier(random_state=1),\n",
    "    \"XGB\":XGBClassifier(n_jobs=1, n_estimators=30, random_state= 1),\n",
    "    \"Log\":LogisticRegression(solver='newton-cg'),}\n",
    "                              "
   ]
  },
  {
   "cell_type": "code",
   "execution_count": 229,
   "id": "9be9ba77",
   "metadata": {},
   "outputs": [
    {
     "name": "stdout",
     "output_type": "stream",
     "text": [
      "Random\n",
      "0.9556789373686759 0.0035647946841890397\n",
      "Tree\n",
      "0.7844293249737796 0.00963743795418749\n",
      "XGB\n",
      "0.9674963588068677 0.0018535163067835616\n",
      "Log\n",
      "0.9525037463010165 0.002437307730533481\n"
     ]
    }
   ],
   "source": [
    "def comparar(model, X_train, Y_train):\n",
    "    resultado= []\n",
    "    nombre= []\n",
    "    \n",
    "    for i, Y in model.items():\n",
    "        \n",
    "        m = RepeatedStratifiedKFold(n_splits=15, n_repeats=5, random_state=1)\n",
    "        cv= cross_val_score(Y, X_train, Y_train, scoring='roc_auc', cv=m, n_jobs=-1)\n",
    "        \n",
    "        resultado.append(cv)\n",
    "        nombre.append(i)\n",
    "        print(i)\n",
    "        print(np.mean(cv), np.std(cv))\n",
    "        \n",
    "    return(resultado, nombre)\n",
    "\n",
    "resultado, nombre = comparar(modelos, x_train, y_train)\n",
    "\n"
   ]
  },
  {
   "cell_type": "code",
   "execution_count": 230,
   "id": "81153abe",
   "metadata": {},
   "outputs": [
    {
     "data": {
      "image/png": "[encoded data removed]",
      "text/plain": [
       "<Figure size 432x288 with 1 Axes>"
      ]
     },
     "metadata": {
      "needs_background": "light"
     },
     "output_type": "display_data"
    }
   ],
   "source": [
    "compare =plt.boxplot(resultado)"
   ]
  },
  {
   "cell_type": "raw",
   "id": "440ccd07",
   "metadata": {},
   "source": [
    "Como se muestra en el gráfico de boxplot, el mejor modelo es que de XGBClassifier con un AUC de 0.96, seguido de Random forest, logarítmico y por último el árbol de decisión. La diferencia entre el XGBClassifier y Random Forest, es muy baja. Por lo tanto,ambos modelos son muy buenos, por lo tanto para la elección entre estos dos modelos, se debería considerar la facilidad para la puesta en producción y el consumo de recursos computacionales. "
   ]
  },
  {
   "cell_type": "markdown",
   "id": "0a68cb20",
   "metadata": {},
   "source": [
    "## Predicción"
   ]
  },
  {
   "cell_type": "code",
   "execution_count": 272,
   "id": "8d2c37d9",
   "metadata": {},
   "outputs": [],
   "source": [
    "predic=model3_param.predict_proba(x_test)[:,1]"
   ]
  },
  {
   "cell_type": "code",
   "execution_count": 273,
   "id": "a415e1ad",
   "metadata": {},
   "outputs": [],
   "source": [
    "predic = (pd.DataFrame(predic,columns=['prob'],index=x_test.index))"
   ]
  },
  {
   "cell_type": "code",
   "execution_count": 276,
   "id": "37356011",
   "metadata": {},
   "outputs": [
    {
     "data": {
      "text/html": [
       "<div>\n",
       "<style scoped>\n",
       "    .dataframe tbody tr th:only-of-type {\n",
       "        vertical-align: middle;\n",
       "    }\n",
       "\n",
       "    .dataframe tbody tr th {\n",
       "        vertical-align: top;\n",
       "    }\n",
       "\n",
       "    .dataframe thead th {\n",
       "        text-align: right;\n",
       "    }\n",
       "</style>\n",
       "<table border=\"1\" class=\"dataframe\">\n",
       "  <thead>\n",
       "    <tr style=\"text-align: right;\">\n",
       "      <th></th>\n",
       "      <th>prob</th>\n",
       "    </tr>\n",
       "  </thead>\n",
       "  <tbody>\n",
       "    <tr>\n",
       "      <th>2862</th>\n",
       "      <td>0.821003</td>\n",
       "    </tr>\n",
       "    <tr>\n",
       "      <th>2784</th>\n",
       "      <td>0.802668</td>\n",
       "    </tr>\n",
       "    <tr>\n",
       "      <th>2655</th>\n",
       "      <td>0.792687</td>\n",
       "    </tr>\n",
       "    <tr>\n",
       "      <th>17114</th>\n",
       "      <td>0.787154</td>\n",
       "    </tr>\n",
       "    <tr>\n",
       "      <th>57512</th>\n",
       "      <td>0.785679</td>\n",
       "    </tr>\n",
       "    <tr>\n",
       "      <th>...</th>\n",
       "      <td>...</td>\n",
       "    </tr>\n",
       "    <tr>\n",
       "      <th>74195</th>\n",
       "      <td>0.000000</td>\n",
       "    </tr>\n",
       "    <tr>\n",
       "      <th>84487</th>\n",
       "      <td>0.000000</td>\n",
       "    </tr>\n",
       "    <tr>\n",
       "      <th>53093</th>\n",
       "      <td>0.000000</td>\n",
       "    </tr>\n",
       "    <tr>\n",
       "      <th>53821</th>\n",
       "      <td>0.000000</td>\n",
       "    </tr>\n",
       "    <tr>\n",
       "      <th>90903</th>\n",
       "      <td>0.000000</td>\n",
       "    </tr>\n",
       "  </tbody>\n",
       "</table>\n",
       "<p>31505 rows × 1 columns</p>\n",
       "</div>"
      ],
      "text/plain": [
       "           prob\n",
       "2862   0.821003\n",
       "2784   0.802668\n",
       "2655   0.792687\n",
       "17114  0.787154\n",
       "57512  0.785679\n",
       "...         ...\n",
       "74195  0.000000\n",
       "84487  0.000000\n",
       "53093  0.000000\n",
       "53821  0.000000\n",
       "90903  0.000000\n",
       "\n",
       "[31505 rows x 1 columns]"
      ]
     },
     "execution_count": 276,
     "metadata": {},
     "output_type": "execute_result"
    }
   ],
   "source": [
    "predic"
   ]
  },
  {
   "cell_type": "code",
   "execution_count": 275,
   "id": "2dc0d38d",
   "metadata": {},
   "outputs": [],
   "source": [
    "predic.sort_values(by=['prob'],ascending=False,axis=0,inplace=True)"
   ]
  },
  {
   "cell_type": "code",
   "execution_count": 277,
   "id": "1ddd445a",
   "metadata": {},
   "outputs": [],
   "source": [
    "x_test.reset_index(inplace=True)"
   ]
  },
  {
   "cell_type": "code",
   "execution_count": 342,
   "id": "4f669d58",
   "metadata": {},
   "outputs": [
    {
     "data": {
      "text/html": [
       "<div>\n",
       "<style scoped>\n",
       "    .dataframe tbody tr th:only-of-type {\n",
       "        vertical-align: middle;\n",
       "    }\n",
       "\n",
       "    .dataframe tbody tr th {\n",
       "        vertical-align: top;\n",
       "    }\n",
       "\n",
       "    .dataframe thead th {\n",
       "        text-align: right;\n",
       "    }\n",
       "</style>\n",
       "<table border=\"1\" class=\"dataframe\">\n",
       "  <thead>\n",
       "    <tr style=\"text-align: right;\">\n",
       "      <th></th>\n",
       "      <th>index</th>\n",
       "      <th>edad</th>\n",
       "      <th>facturacion</th>\n",
       "      <th>antiguedad</th>\n",
       "      <th>num_lineas</th>\n",
       "      <th>num_dt</th>\n",
       "      <th>incidencia</th>\n",
       "      <th>num_llamad_ent</th>\n",
       "      <th>num_llamad_sal</th>\n",
       "      <th>mb_datos</th>\n",
       "      <th>...</th>\n",
       "      <th>vel_conexion</th>\n",
       "      <th>cant_dias</th>\n",
       "      <th>comunidad autónoma</th>\n",
       "      <th>TV_tv-familiar</th>\n",
       "      <th>TV_tv-futbol</th>\n",
       "      <th>TV_tv-total</th>\n",
       "      <th>mes_Antiguedad</th>\n",
       "      <th>dia_Antiguedad</th>\n",
       "      <th>hora_Antiguedad</th>\n",
       "      <th>turno</th>\n",
       "    </tr>\n",
       "  </thead>\n",
       "  <tbody>\n",
       "    <tr>\n",
       "      <th>0</th>\n",
       "      <td>80665</td>\n",
       "      <td>29</td>\n",
       "      <td>368.098664</td>\n",
       "      <td>2000</td>\n",
       "      <td>3</td>\n",
       "      <td>0.0</td>\n",
       "      <td>0</td>\n",
       "      <td>206</td>\n",
       "      <td>73</td>\n",
       "      <td>1157</td>\n",
       "      <td>...</td>\n",
       "      <td>15</td>\n",
       "      <td>7039</td>\n",
       "      <td>1.0</td>\n",
       "      <td>0</td>\n",
       "      <td>1</td>\n",
       "      <td>0</td>\n",
       "      <td>9</td>\n",
       "      <td>3</td>\n",
       "      <td>1</td>\n",
       "      <td>6</td>\n",
       "    </tr>\n",
       "    <tr>\n",
       "      <th>1</th>\n",
       "      <td>72228</td>\n",
       "      <td>31</td>\n",
       "      <td>218.603408</td>\n",
       "      <td>2001</td>\n",
       "      <td>4</td>\n",
       "      <td>2.0</td>\n",
       "      <td>1</td>\n",
       "      <td>105</td>\n",
       "      <td>65</td>\n",
       "      <td>19868</td>\n",
       "      <td>...</td>\n",
       "      <td>25</td>\n",
       "      <td>6649</td>\n",
       "      <td>3.0</td>\n",
       "      <td>0</td>\n",
       "      <td>1</td>\n",
       "      <td>0</td>\n",
       "      <td>10</td>\n",
       "      <td>1</td>\n",
       "      <td>17</td>\n",
       "      <td>4</td>\n",
       "    </tr>\n",
       "    <tr>\n",
       "      <th>2</th>\n",
       "      <td>48582</td>\n",
       "      <td>32</td>\n",
       "      <td>147.437891</td>\n",
       "      <td>2000</td>\n",
       "      <td>5</td>\n",
       "      <td>0.0</td>\n",
       "      <td>0</td>\n",
       "      <td>169</td>\n",
       "      <td>53</td>\n",
       "      <td>18764</td>\n",
       "      <td>...</td>\n",
       "      <td>25</td>\n",
       "      <td>7197</td>\n",
       "      <td>8.0</td>\n",
       "      <td>1</td>\n",
       "      <td>0</td>\n",
       "      <td>0</td>\n",
       "      <td>4</td>\n",
       "      <td>6</td>\n",
       "      <td>23</td>\n",
       "      <td>5</td>\n",
       "    </tr>\n",
       "    <tr>\n",
       "      <th>3</th>\n",
       "      <td>65718</td>\n",
       "      <td>47</td>\n",
       "      <td>58.758363</td>\n",
       "      <td>2008</td>\n",
       "      <td>4</td>\n",
       "      <td>0.0</td>\n",
       "      <td>0</td>\n",
       "      <td>45</td>\n",
       "      <td>57</td>\n",
       "      <td>14509</td>\n",
       "      <td>...</td>\n",
       "      <td>50</td>\n",
       "      <td>4102</td>\n",
       "      <td>8.0</td>\n",
       "      <td>0</td>\n",
       "      <td>1</td>\n",
       "      <td>0</td>\n",
       "      <td>10</td>\n",
       "      <td>0</td>\n",
       "      <td>19</td>\n",
       "      <td>4</td>\n",
       "    </tr>\n",
       "    <tr>\n",
       "      <th>4</th>\n",
       "      <td>6333</td>\n",
       "      <td>78</td>\n",
       "      <td>329.927974</td>\n",
       "      <td>2015</td>\n",
       "      <td>3</td>\n",
       "      <td>0.0</td>\n",
       "      <td>0</td>\n",
       "      <td>248</td>\n",
       "      <td>78</td>\n",
       "      <td>10986</td>\n",
       "      <td>...</td>\n",
       "      <td>50</td>\n",
       "      <td>1608</td>\n",
       "      <td>3.0</td>\n",
       "      <td>0</td>\n",
       "      <td>1</td>\n",
       "      <td>0</td>\n",
       "      <td>8</td>\n",
       "      <td>2</td>\n",
       "      <td>5</td>\n",
       "      <td>1</td>\n",
       "    </tr>\n",
       "    <tr>\n",
       "      <th>...</th>\n",
       "      <td>...</td>\n",
       "      <td>...</td>\n",
       "      <td>...</td>\n",
       "      <td>...</td>\n",
       "      <td>...</td>\n",
       "      <td>...</td>\n",
       "      <td>...</td>\n",
       "      <td>...</td>\n",
       "      <td>...</td>\n",
       "      <td>...</td>\n",
       "      <td>...</td>\n",
       "      <td>...</td>\n",
       "      <td>...</td>\n",
       "      <td>...</td>\n",
       "      <td>...</td>\n",
       "      <td>...</td>\n",
       "      <td>...</td>\n",
       "      <td>...</td>\n",
       "      <td>...</td>\n",
       "      <td>...</td>\n",
       "      <td>...</td>\n",
       "    </tr>\n",
       "    <tr>\n",
       "      <th>31500</th>\n",
       "      <td>69142</td>\n",
       "      <td>18</td>\n",
       "      <td>315.551951</td>\n",
       "      <td>1998</td>\n",
       "      <td>4</td>\n",
       "      <td>0.0</td>\n",
       "      <td>0</td>\n",
       "      <td>227</td>\n",
       "      <td>15</td>\n",
       "      <td>11077</td>\n",
       "      <td>...</td>\n",
       "      <td>20</td>\n",
       "      <td>7894</td>\n",
       "      <td>5.0</td>\n",
       "      <td>0</td>\n",
       "      <td>1</td>\n",
       "      <td>0</td>\n",
       "      <td>5</td>\n",
       "      <td>2</td>\n",
       "      <td>16</td>\n",
       "      <td>3</td>\n",
       "    </tr>\n",
       "    <tr>\n",
       "      <th>31501</th>\n",
       "      <td>44662</td>\n",
       "      <td>19</td>\n",
       "      <td>175.145960</td>\n",
       "      <td>2012</td>\n",
       "      <td>2</td>\n",
       "      <td>0.0</td>\n",
       "      <td>0</td>\n",
       "      <td>217</td>\n",
       "      <td>26</td>\n",
       "      <td>12528</td>\n",
       "      <td>...</td>\n",
       "      <td>35</td>\n",
       "      <td>2914</td>\n",
       "      <td>2.0</td>\n",
       "      <td>0</td>\n",
       "      <td>0</td>\n",
       "      <td>1</td>\n",
       "      <td>1</td>\n",
       "      <td>5</td>\n",
       "      <td>7</td>\n",
       "      <td>1</td>\n",
       "    </tr>\n",
       "    <tr>\n",
       "      <th>31502</th>\n",
       "      <td>90354</td>\n",
       "      <td>47</td>\n",
       "      <td>286.116761</td>\n",
       "      <td>2004</td>\n",
       "      <td>5</td>\n",
       "      <td>0.0</td>\n",
       "      <td>0</td>\n",
       "      <td>215</td>\n",
       "      <td>97</td>\n",
       "      <td>22206</td>\n",
       "      <td>...</td>\n",
       "      <td>35</td>\n",
       "      <td>5695</td>\n",
       "      <td>1.0</td>\n",
       "      <td>1</td>\n",
       "      <td>0</td>\n",
       "      <td>0</td>\n",
       "      <td>5</td>\n",
       "      <td>3</td>\n",
       "      <td>8</td>\n",
       "      <td>1</td>\n",
       "    </tr>\n",
       "    <tr>\n",
       "      <th>31503</th>\n",
       "      <td>38655</td>\n",
       "      <td>53</td>\n",
       "      <td>232.543344</td>\n",
       "      <td>2000</td>\n",
       "      <td>4</td>\n",
       "      <td>0.0</td>\n",
       "      <td>0</td>\n",
       "      <td>106</td>\n",
       "      <td>30</td>\n",
       "      <td>5095</td>\n",
       "      <td>...</td>\n",
       "      <td>600</td>\n",
       "      <td>7090</td>\n",
       "      <td>3.0</td>\n",
       "      <td>1</td>\n",
       "      <td>0</td>\n",
       "      <td>0</td>\n",
       "      <td>8</td>\n",
       "      <td>1</td>\n",
       "      <td>9</td>\n",
       "      <td>2</td>\n",
       "    </tr>\n",
       "    <tr>\n",
       "      <th>31504</th>\n",
       "      <td>79640</td>\n",
       "      <td>28</td>\n",
       "      <td>260.448393</td>\n",
       "      <td>2008</td>\n",
       "      <td>4</td>\n",
       "      <td>3.0</td>\n",
       "      <td>0</td>\n",
       "      <td>43</td>\n",
       "      <td>93</td>\n",
       "      <td>16017</td>\n",
       "      <td>...</td>\n",
       "      <td>15</td>\n",
       "      <td>4096</td>\n",
       "      <td>10.0</td>\n",
       "      <td>1</td>\n",
       "      <td>0</td>\n",
       "      <td>0</td>\n",
       "      <td>10</td>\n",
       "      <td>6</td>\n",
       "      <td>0</td>\n",
       "      <td>6</td>\n",
       "    </tr>\n",
       "  </tbody>\n",
       "</table>\n",
       "<p>31505 rows × 24 columns</p>\n",
       "</div>"
      ],
      "text/plain": [
       "       index  edad  facturacion  antiguedad  num_lineas  num_dt  incidencia  \\\n",
       "0      80665    29   368.098664        2000           3     0.0           0   \n",
       "1      72228    31   218.603408        2001           4     2.0           1   \n",
       "2      48582    32   147.437891        2000           5     0.0           0   \n",
       "3      65718    47    58.758363        2008           4     0.0           0   \n",
       "4       6333    78   329.927974        2015           3     0.0           0   \n",
       "...      ...   ...          ...         ...         ...     ...         ...   \n",
       "31500  69142    18   315.551951        1998           4     0.0           0   \n",
       "31501  44662    19   175.145960        2012           2     0.0           0   \n",
       "31502  90354    47   286.116761        2004           5     0.0           0   \n",
       "31503  38655    53   232.543344        2000           4     0.0           0   \n",
       "31504  79640    28   260.448393        2008           4     3.0           0   \n",
       "\n",
       "       num_llamad_ent  num_llamad_sal  mb_datos  ...  vel_conexion  cant_dias  \\\n",
       "0                 206              73      1157  ...            15       7039   \n",
       "1                 105              65     19868  ...            25       6649   \n",
       "2                 169              53     18764  ...            25       7197   \n",
       "3                  45              57     14509  ...            50       4102   \n",
       "4                 248              78     10986  ...            50       1608   \n",
       "...               ...             ...       ...  ...           ...        ...   \n",
       "31500             227              15     11077  ...            20       7894   \n",
       "31501             217              26     12528  ...            35       2914   \n",
       "31502             215              97     22206  ...            35       5695   \n",
       "31503             106              30      5095  ...           600       7090   \n",
       "31504              43              93     16017  ...            15       4096   \n",
       "\n",
       "       comunidad autónoma  TV_tv-familiar  TV_tv-futbol  TV_tv-total  \\\n",
       "0                     1.0               0             1            0   \n",
       "1                     3.0               0             1            0   \n",
       "2                     8.0               1             0            0   \n",
       "3                     8.0               0             1            0   \n",
       "4                     3.0               0             1            0   \n",
       "...                   ...             ...           ...          ...   \n",
       "31500                 5.0               0             1            0   \n",
       "31501                 2.0               0             0            1   \n",
       "31502                 1.0               1             0            0   \n",
       "31503                 3.0               1             0            0   \n",
       "31504                10.0               1             0            0   \n",
       "\n",
       "       mes_Antiguedad  dia_Antiguedad  hora_Antiguedad  turno  \n",
       "0                   9               3                1      6  \n",
       "1                  10               1               17      4  \n",
       "2                   4               6               23      5  \n",
       "3                  10               0               19      4  \n",
       "4                   8               2                5      1  \n",
       "...               ...             ...              ...    ...  \n",
       "31500               5               2               16      3  \n",
       "31501               1               5                7      1  \n",
       "31502               5               3                8      1  \n",
       "31503               8               1                9      2  \n",
       "31504              10               6                0      6  \n",
       "\n",
       "[31505 rows x 24 columns]"
      ]
     },
     "execution_count": 342,
     "metadata": {},
     "output_type": "execute_result"
    }
   ],
   "source": [
    "x_test"
   ]
  },
  {
   "cell_type": "code",
   "execution_count": 279,
   "id": "15935368",
   "metadata": {},
   "outputs": [],
   "source": [
    "predic.reset_index(inplace=True)"
   ]
  },
  {
   "cell_type": "markdown",
   "id": "aa53a3df",
   "metadata": {},
   "source": [
    "Se añade la columna prob, donde se muestra la probabilidad por id de cliente de que este se fuge, dependiendo de la necesidad de la compañía se puede ajustar para que una probabilidad inferior al 0.5, se tome como alta y se ejecuten acciones. Sin embargo, lo ususal es transformar las probabilidades superiores a 0.5 en 1 y las inferiores en 0."
   ]
  },
  {
   "cell_type": "markdown",
   "id": "54f9ec98",
   "metadata": {},
   "source": [
    "## Explicación de Variables (importantes)"
   ]
  },
  {
   "cell_type": "code",
   "execution_count": 286,
   "id": "6fa22862",
   "metadata": {},
   "outputs": [
    {
     "data": {
      "text/plain": [
       "<AxesSubplot:>"
      ]
     },
     "execution_count": 286,
     "metadata": {},
     "output_type": "execute_result"
    },
    {
     "data": {
      "image/png": "[encoded data removed]",
      "text/plain": [
       "<Figure size 432x288 with 1 Axes>"
      ]
     },
     "metadata": {
      "needs_background": "light"
     },
     "output_type": "display_data"
    }
   ],
   "source": [
    "feature_imp = pd.Series(model3_param.feature_importances_, index = x_train.columns).sort_values(ascending=False)\n",
    "feature_imp.plot(kind='bar')"
   ]
  },
  {
   "cell_type": "markdown",
   "id": "0f6c0b74",
   "metadata": {},
   "source": [
    "Ya que la edad no parecía ser un factor bueno para discriminar a priori, se puede realizar una matriz de correlación solamente entre la variable objetivo y la variable edad que es numérica, para confirmar que existe una relación"
   ]
  },
  {
   "cell_type": "code",
   "execution_count": 324,
   "id": "b45a8b55",
   "metadata": {},
   "outputs": [],
   "source": [
    "full_predic = pd.merge(x_test, predic, on= ['index'])"
   ]
  },
  {
   "cell_type": "code",
   "execution_count": 349,
   "id": "658f5521",
   "metadata": {},
   "outputs": [],
   "source": [
    "comprobacion = pd.concat([x_train, target],axis=1)"
   ]
  },
  {
   "cell_type": "code",
   "execution_count": 350,
   "id": "c66bf6cd",
   "metadata": {},
   "outputs": [
    {
     "data": {
      "text/plain": [
       "<AxesSubplot:>"
      ]
     },
     "execution_count": 350,
     "metadata": {},
     "output_type": "execute_result"
    },
    {
     "data": {
      "image/png": "[encoded data removed]",
      "text/plain": [
       "<Figure size 432x288 with 2 Axes>"
      ]
     },
     "metadata": {
      "needs_background": "light"
     },
     "output_type": "display_data"
    }
   ],
   "source": [
    "m= comprobacion[['edad','target']].corr()\n",
    "sns.heatmap(m, cmap=\"Blues\", annot=True, annot_kws={\"size\": 10} )\n"
   ]
  },
  {
   "cell_type": "code",
   "execution_count": 351,
   "id": "3080d469",
   "metadata": {},
   "outputs": [
    {
     "data": {
      "text/plain": [
       "<AxesSubplot:>"
      ]
     },
     "execution_count": 351,
     "metadata": {},
     "output_type": "execute_result"
    },
    {
     "data": {
      "image/png": "[encoded data removed]",
      "text/plain": [
       "<Figure size 432x288 with 2 Axes>"
      ]
     },
     "metadata": {
      "needs_background": "light"
     },
     "output_type": "display_data"
    }
   ],
   "source": [
    "m= comprobacion[['descuentos','target']].corr()\n",
    "sns.heatmap(m, cmap=\"Blues\", annot=True, annot_kws={\"size\": 10} )"
   ]
  },
  {
   "cell_type": "markdown",
   "id": "8ee4d217",
   "metadata": {},
   "source": [
    "En órden de importancia las variables son: \n",
    "\n",
    "Edad:esta es una variable muy influyente, entre menor sea la edad del cliente, este tiene una mayor probabilidad de fugarse.\n",
    "Número de líneas de impago: a mayor número de líneas en impago, mayor es la probabilidad de abandono.\n",
    "Incidencia: las insatisfacciones de los clientes en el servicio, o capacidad de resolución del personal de atención al cliente a estas incidencias, tiene una gran repercusión en la permanencia.\n",
    "Descuentos: esta variable tiene una correlación negativa, como era de esperarse. Lo que significa que entre mayor sea el descuento que tiene el cliente, es menor su probabilidad de fugarse.\n",
    "tv_futbol:las personas que tienen contratada la tv para ver el futbol, tienen una mayor probabilidad de fugarse.\n",
    "vel_conexion: aunque no es muy relevante, tiene un comportamiento de correlación directa. A mayor velocidad de conexión, es más probable que el cliente se fuge. Aunque no sea de las variables que repercuten más, nos da infomación sobre el servicio, y sobretodo de los clientes que están pagando más por ellos. \n",
    "\n"
   ]
  }
 ],
 "metadata": {
  "kernelspec": {
   "display_name": "Python 3 (ipykernel)",
   "language": "python",
   "name": "python3"
  },
  "language_info": {
   "codemirror_mode": {
    "name": "ipython",
    "version": 3
   },
   "file_extension": ".py",
   "mimetype": "text/x-python",
   "name": "python",
   "nbconvert_exporter": "python",
   "pygments_lexer": "ipython3",
   "version": "3.9.12"
  }
 },
 "nbformat": 4,
 "nbformat_minor": 5
}
